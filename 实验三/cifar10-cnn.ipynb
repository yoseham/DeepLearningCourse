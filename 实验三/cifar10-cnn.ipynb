{
 "cells": [
  {
   "cell_type": "code",
   "execution_count": 1,
   "id": "f4bc5eeb",
   "metadata": {
    "pycharm": {
     "name": "#%%\n"
    }
   },
   "outputs": [],
   "source": [
    "import torch\n",
    "from torch import nn\n",
    "import torchvision\n",
    "from torchvision import transforms\n",
    "from torch.utils.data import DataLoader\n",
    "import torch.nn.functional as F\n",
    "from tqdm import tqdm\n",
    "import time"
   ]
  },
  {
   "cell_type": "markdown",
   "id": "d1764675",
   "metadata": {
    "pycharm": {
     "name": "#%% md\n"
    }
   },
   "source": [
    "### 读取数据文件"
   ]
  },
  {
   "cell_type": "code",
   "execution_count": 2,
   "id": "44249cf0",
   "metadata": {
    "pycharm": {
     "name": "#%%\n"
    }
   },
   "outputs": [
    {
     "name": "stdout",
     "output_type": "stream",
     "text": [
      "Files already downloaded and verified\n",
      "Files already downloaded and verified\n"
     ]
    }
   ],
   "source": [
    "train_trans = transforms.Compose([\n",
    "    transforms.RandomHorizontalFlip(p=0.5),   # 随机旋转\n",
    "    transforms.RandomCrop(32, padding=4),     # 放大后随机裁剪到32*32\n",
    "    transforms.ToTensor(),                    # 转为tensor\n",
    "    transforms.Normalize((0.4914, 0.4822, 0.4465), (0.2023, 0.1994, 0.2010))    # 归一化\n",
    "])\n",
    "\n",
    "test_trans = transforms.Compose([\n",
    "    transforms.ToTensor(),\n",
    "    transforms.Normalize((0.4914, 0.4822, 0.4465), (0.2023, 0.1994, 0.2010))\n",
    "])\n",
    "trainset = torchvision.datasets.CIFAR10(root=\"./data\",train=True,download=True,transform=train_trans)\n",
    "testset = torchvision.datasets.CIFAR10(root=\"./data\",train=False,download=True,transform=test_trans)"
   ]
  },
  {
   "cell_type": "code",
   "execution_count": 35,
   "outputs": [
    {
     "data": {
      "text/plain": "Dataset CIFAR10\n    Number of datapoints: 50000\n    Root location: ./data\n    Split: Train\n    StandardTransform\nTransform: Compose(\n               RandomHorizontalFlip(p=0.5)\n               RandomCrop(size=(32, 32), padding=4)\n               ToTensor()\n               Normalize(mean=(0.4914, 0.4822, 0.4465), std=(0.2023, 0.1994, 0.201))\n           )"
     },
     "execution_count": 35,
     "metadata": {},
     "output_type": "execute_result"
    }
   ],
   "source": [
    "trainset"
   ],
   "metadata": {
    "collapsed": false,
    "pycharm": {
     "name": "#%%\n"
    }
   }
  },
  {
   "cell_type": "code",
   "execution_count": 4,
   "id": "25635df6",
   "metadata": {
    "pycharm": {
     "name": "#%%\n"
    }
   },
   "outputs": [],
   "source": [
    "# 用dataloader的方式分批读取\n",
    "train_loader = DataLoader(dataset=trainset, batch_size=20, shuffle=True, num_workers=0)\n",
    "test_loader = DataLoader(dataset=testset, batch_size=20, shuffle=False, num_workers=0)\n",
    "\n",
    "# gpu 加速\n",
    "device = torch.device('cpu')"
   ]
  },
  {
   "cell_type": "code",
   "execution_count": 12,
   "id": "0e4fea73",
   "metadata": {
    "pycharm": {
     "name": "#%%\n"
    }
   },
   "outputs": [],
   "source": [
    "# 每个epoch的训练结果\n",
    "def train_epoch(model,loop, total, epoch):\n",
    "    model.train()\n",
    "    running_loss = 0\n",
    "    for i,(img,label) in enumerate(loop):\n",
    "        img,label = img.to(device),label.to(device)    # 将数据读入gpu\n",
    "        out = model(img)                               # 模型预测结果\n",
    "        loss = criterion(out,label)                    # 计算损失\n",
    "        optimizer.zero_grad()\n",
    "        loss.backward()                                # 反向传播更新梯度\n",
    "        optimizer.step()\n",
    "        running_loss += loss.item() * img.size(0)\n",
    "    return running_loss / total"
   ]
  },
  {
   "cell_type": "code",
   "execution_count": 13,
   "id": "c31b59c9",
   "metadata": {
    "pycharm": {
     "name": "#%%\n"
    }
   },
   "outputs": [],
   "source": [
    "def test(model,dataloader):\n",
    "    model.eval()\n",
    "    total = 0\n",
    "    correct = 0\n",
    "    test_loss = 0\n",
    "    with torch.no_grad():\n",
    "        for i,(img,label) in enumerate(dataloader):\n",
    "            img,label = img.to(device),label.to(device)\n",
    "            out = model(img)\n",
    "            loss = criterion(out, label)\n",
    "            test_loss += loss.item() * img.size(0)\n",
    "            _, pred = torch.max(out,1)                     # 计算正确率\n",
    "            correct += (pred == label).sum().item()\n",
    "            total += label.size(0)\n",
    "    return test_loss / len(dataloader.dataset) ,100.0 * correct / total"
   ]
  },
  {
   "cell_type": "code",
   "execution_count": 32,
   "id": "7499c573",
   "metadata": {
    "pycharm": {
     "name": "#%%\n"
    }
   },
   "outputs": [],
   "source": [
    "def train(model, n_epochs):\n",
    "    train_loss_arr = []\n",
    "    train_acc_arr = []\n",
    "    for epoch in range(n_epochs):\n",
    "        loop = tqdm(train_loader)\n",
    "        correct = 0\n",
    "        running_loss = 0\n",
    "        model.train()\n",
    "        for i,(img,label) in enumerate(loop):\n",
    "            img,label = img.to(device),label.to(device)    # 将数据读入gpu\n",
    "            out = model(img)                               # 模型预测结果\n",
    "            loss = criterion(out,label)                    # 计算损失\n",
    "\n",
    "            optimizer.zero_grad()\n",
    "            loss.backward()                                # 反向传播更新梯度\n",
    "            optimizer.step()\n",
    "            _, pred = torch.max(out,1)                     # 计算正确率\n",
    "            correct += (pred == label).sum().item()\n",
    "            running_loss += loss.item();\n",
    "            loop.set_description(f'Epoch[{epoch+1}/{n_epochs}]')\n",
    "            loop.set_postfix(loss = running_loss/(i+1), acc = correct/((i+1)*label.size(0)))\n",
    "\n",
    "\n",
    "        train_loss, train_acc = test(model, train_loader)\n",
    "        val_loss, val_acc = test(model, test_loader)\n",
    "        print(f'train_loss: {train_loss}, train_acc: {train_acc}, val_loss: {val_loss}, val_acc: {val_acc}')\n",
    "\n",
    "        train_loss_arr.append(train_loss)\n",
    "        train_acc_arr.append(train_acc)\n",
    "    return train_loss_arr, train_acc_arr"
   ]
  },
  {
   "cell_type": "markdown",
   "id": "bae43513",
   "metadata": {
    "pycharm": {
     "name": "#%% md\n"
    }
   },
   "source": [
    "### MLP模型搭建"
   ]
  },
  {
   "cell_type": "code",
   "execution_count": 33,
   "id": "1dbcf7d9",
   "metadata": {
    "pycharm": {
     "name": "#%%\n"
    }
   },
   "outputs": [],
   "source": [
    "class MLP(nn.Module):\n",
    "    def __init__(self):\n",
    "        super(MLP, self).__init__()\n",
    "        self.fc1 = torch.nn.Linear(3 * 32 * 32, 1024)\n",
    "        self.fc2 = torch.nn.Linear(1024, 256)\n",
    "        self.fc3 = torch.nn.Linear(256, 10) \n",
    "    \n",
    "    def forward(self, x):\n",
    "        x = x.view(-1, 3 * 32 * 32)\n",
    "        x = F.relu(self.fc1(x))\n",
    "        x = F.relu(self.fc2(x))\n",
    "        x = self.fc3(x)\n",
    "        return x"
   ]
  },
  {
   "cell_type": "code",
   "execution_count": 36,
   "id": "474ed460",
   "metadata": {
    "pycharm": {
     "name": "#%%\n"
    },
    "scrolled": true
   },
   "outputs": [
    {
     "name": "stderr",
     "output_type": "stream",
     "text": [
      "Epoch[1/5]: 100%|██████████| 2500/2500 [00:29<00:00, 83.97it/s, acc=0.345, loss=1.82]\n"
     ]
    },
    {
     "name": "stdout",
     "output_type": "stream",
     "text": [
      "train_loss: 1.6805075168132781, train_acc: 39.712, val_loss: 1.6626098792552948, val_acc: 41.65\n"
     ]
    },
    {
     "name": "stderr",
     "output_type": "stream",
     "text": [
      "Epoch[2/5]: 100%|██████████| 2500/2500 [00:27<00:00, 92.14it/s, acc=0.411, loss=1.64]\n"
     ]
    },
    {
     "name": "stdout",
     "output_type": "stream",
     "text": [
      "train_loss: 1.5891406220912934, train_acc: 43.236, val_loss: 1.5833443878889084, val_acc: 43.69\n"
     ]
    },
    {
     "name": "stderr",
     "output_type": "stream",
     "text": [
      "Epoch[3/5]: 100%|██████████| 2500/2500 [00:26<00:00, 92.84it/s, acc=0.441, loss=1.56]\n"
     ]
    },
    {
     "name": "stdout",
     "output_type": "stream",
     "text": [
      "train_loss: 1.521015192747116, train_acc: 45.432, val_loss: 1.5264491791725159, val_acc: 44.91\n"
     ]
    },
    {
     "name": "stderr",
     "output_type": "stream",
     "text": [
      "Epoch[4/5]: 100%|██████████| 2500/2500 [00:28<00:00, 88.34it/s, acc=0.457, loss=1.51]\n"
     ]
    },
    {
     "name": "stdout",
     "output_type": "stream",
     "text": [
      "train_loss: 1.472646636915207, train_acc: 47.362, val_loss: 1.49607238137722, val_acc: 46.59\n"
     ]
    },
    {
     "name": "stderr",
     "output_type": "stream",
     "text": [
      "Epoch[5/5]: 100%|██████████| 2500/2500 [00:28<00:00, 88.83it/s, acc=0.471, loss=1.48]\n"
     ]
    },
    {
     "name": "stdout",
     "output_type": "stream",
     "text": [
      "train_loss: 1.4411847297430038, train_acc: 48.7, val_loss: 1.4588250136375427, val_acc: 48.58\n",
      "Test Acc: (1.4588250136375427, 48.58)\n"
     ]
    }
   ],
   "source": [
    "n_epochs = 5\n",
    "mlp = MLP().to(device)\n",
    "criterion = nn.CrossEntropyLoss().to(device)\n",
    "optimizer = torch.optim.SGD(params=mlp.parameters(), lr=0.01, weight_decay=0.0001)\n",
    "mlp_loss, mlp_acc = train(mlp, n_epochs)\n",
    "print('Test Acc: {}'.format(test(mlp, test_loader)))"
   ]
  },
  {
   "cell_type": "markdown",
   "id": "8b23ed11",
   "metadata": {
    "pycharm": {
     "name": "#%% md\n"
    }
   },
   "source": [
    "### CNN模型搭建"
   ]
  },
  {
   "cell_type": "code",
   "execution_count": 9,
   "id": "2148e258",
   "metadata": {
    "pycharm": {
     "name": "#%%\n"
    }
   },
   "outputs": [],
   "source": [
    "class CNN(nn.Module):\n",
    "    def __init__(self):\n",
    "        super(CNN, self).__init__()\n",
    "        self.conv1 = nn.Conv2d(3, 6, 5)      # 6 * 28 * 28\n",
    "        self.pool1 = nn.MaxPool2d(2)         # 6 * 14 * 14\n",
    "        self.conv2 = nn.Conv2d(6, 16, 3)     # 16 * 12 * 12\n",
    "        self.pool2 = nn.MaxPool2d(2)         # 16 * 6 * 6\n",
    "        self.conv3 = nn.Conv2d(16, 64, 3)    # 64 * 4 * 4\n",
    "        self.pool3 = nn.MaxPool2d(2)         # 64 * 2 * 2\n",
    "        self.fc1 = nn.Linear(64 * 2 * 2 , 1024)\n",
    "        self.fc2 = nn.Linear(1024, 256)\n",
    "        self.fc3 = nn.Linear(256, 10)\n",
    "        \n",
    "    \n",
    "    def forward(self, x):\n",
    "        x = self.pool1(F.relu(self.conv1(x)))\n",
    "        x = self.pool2((self.conv2(x)))\n",
    "        x = self.pool3(F.relu(self.conv3(x)))\n",
    "        x = x.view(-1, 64 * 2 * 2)\n",
    "        x = F.relu(self.fc1(x))\n",
    "        x = F.relu(self.fc2(x))\n",
    "        x = self.fc3(x)\n",
    "        return x\n",
    "        "
   ]
  },
  {
   "cell_type": "code",
   "execution_count": 10,
   "id": "4822f4ec",
   "metadata": {
    "pycharm": {
     "name": "#%%\n"
    }
   },
   "outputs": [
    {
     "name": "stderr",
     "output_type": "stream",
     "text": [
      "100%|███████████████████████████████████████████████████████████████████████████████████████| 2500/2500 [00:18<00:00, 138.72it/s]\n",
      "100%|███████████████████████████████████████████████████████████████████████████████████████| 2500/2500 [00:08<00:00, 308.63it/s]\n"
     ]
    },
    {
     "name": "stdout",
     "output_type": "stream",
     "text": [
      "Epoch 1, Train Loss 1.9916751752376556, Train Acc 35.572\n"
     ]
    },
    {
     "name": "stderr",
     "output_type": "stream",
     "text": [
      "100%|███████████████████████████████████████████████████████████████████████████████████████| 2500/2500 [00:18<00:00, 138.48it/s]\n",
      "100%|███████████████████████████████████████████████████████████████████████████████████████| 2500/2500 [00:08<00:00, 310.53it/s]\n"
     ]
    },
    {
     "name": "stdout",
     "output_type": "stream",
     "text": [
      "Epoch 2, Train Loss 1.6439516931533813, Train Acc 44.784\n"
     ]
    },
    {
     "name": "stderr",
     "output_type": "stream",
     "text": [
      "100%|███████████████████████████████████████████████████████████████████████████████████████| 2500/2500 [00:17<00:00, 139.24it/s]\n",
      "100%|███████████████████████████████████████████████████████████████████████████████████████| 2500/2500 [00:08<00:00, 307.74it/s]\n"
     ]
    },
    {
     "name": "stdout",
     "output_type": "stream",
     "text": [
      "Epoch 3, Train Loss 1.4862050265550613, Train Acc 45.424\n"
     ]
    },
    {
     "name": "stderr",
     "output_type": "stream",
     "text": [
      "100%|███████████████████████████████████████████████████████████████████████████████████████| 2500/2500 [00:18<00:00, 138.40it/s]\n",
      "100%|███████████████████████████████████████████████████████████████████████████████████████| 2500/2500 [00:08<00:00, 309.86it/s]\n"
     ]
    },
    {
     "name": "stdout",
     "output_type": "stream",
     "text": [
      "Epoch 4, Train Loss 1.3840892729759215, Train Acc 52.468\n"
     ]
    },
    {
     "name": "stderr",
     "output_type": "stream",
     "text": [
      "100%|███████████████████████████████████████████████████████████████████████████████████████| 2500/2500 [00:18<00:00, 136.63it/s]\n",
      "100%|███████████████████████████████████████████████████████████████████████████████████████| 2500/2500 [00:08<00:00, 308.43it/s]\n"
     ]
    },
    {
     "name": "stdout",
     "output_type": "stream",
     "text": [
      "Epoch 5, Train Loss 1.3073166884422303, Train Acc 56.034\n"
     ]
    },
    {
     "name": "stderr",
     "output_type": "stream",
     "text": [
      "100%|███████████████████████████████████████████████████████████████████████████████████████| 2500/2500 [00:18<00:00, 137.77it/s]\n",
      "100%|███████████████████████████████████████████████████████████████████████████████████████| 2500/2500 [00:08<00:00, 309.16it/s]\n"
     ]
    },
    {
     "name": "stdout",
     "output_type": "stream",
     "text": [
      "Epoch 6, Train Loss 1.2405060944080353, Train Acc 56.762\n"
     ]
    },
    {
     "name": "stderr",
     "output_type": "stream",
     "text": [
      "100%|███████████████████████████████████████████████████████████████████████████████████████| 2500/2500 [00:18<00:00, 137.93it/s]\n",
      "100%|███████████████████████████████████████████████████████████████████████████████████████| 2500/2500 [00:08<00:00, 307.76it/s]\n"
     ]
    },
    {
     "name": "stdout",
     "output_type": "stream",
     "text": [
      "Epoch 7, Train Loss 1.192454873085022, Train Acc 57.624\n"
     ]
    },
    {
     "name": "stderr",
     "output_type": "stream",
     "text": [
      "100%|███████████████████████████████████████████████████████████████████████████████████████| 2500/2500 [00:18<00:00, 137.59it/s]\n",
      "100%|███████████████████████████████████████████████████████████████████████████████████████| 2500/2500 [00:08<00:00, 308.55it/s]\n"
     ]
    },
    {
     "name": "stdout",
     "output_type": "stream",
     "text": [
      "Epoch 8, Train Loss 1.1542326049685478, Train Acc 59.32\n"
     ]
    },
    {
     "name": "stderr",
     "output_type": "stream",
     "text": [
      "100%|███████████████████████████████████████████████████████████████████████████████████████| 2500/2500 [00:18<00:00, 137.29it/s]\n",
      "100%|███████████████████████████████████████████████████████████████████████████████████████| 2500/2500 [00:08<00:00, 307.84it/s]\n"
     ]
    },
    {
     "name": "stdout",
     "output_type": "stream",
     "text": [
      "Epoch 9, Train Loss 1.1184940029501915, Train Acc 59.824\n"
     ]
    },
    {
     "name": "stderr",
     "output_type": "stream",
     "text": [
      "100%|███████████████████████████████████████████████████████████████████████████████████████| 2500/2500 [00:18<00:00, 138.28it/s]\n",
      "100%|███████████████████████████████████████████████████████████████████████████████████████| 2500/2500 [00:08<00:00, 310.19it/s]\n"
     ]
    },
    {
     "name": "stdout",
     "output_type": "stream",
     "text": [
      "Epoch 10, Train Loss 1.0818753056526185, Train Acc 63.782\n"
     ]
    },
    {
     "name": "stderr",
     "output_type": "stream",
     "text": [
      "100%|███████████████████████████████████████████████████████████████████████████████████████| 2500/2500 [00:18<00:00, 138.06it/s]\n",
      "100%|███████████████████████████████████████████████████████████████████████████████████████| 2500/2500 [00:08<00:00, 308.48it/s]\n"
     ]
    },
    {
     "name": "stdout",
     "output_type": "stream",
     "text": [
      "Epoch 11, Train Loss 1.0576249721765518, Train Acc 63.732\n"
     ]
    },
    {
     "name": "stderr",
     "output_type": "stream",
     "text": [
      "100%|███████████████████████████████████████████████████████████████████████████████████████| 2500/2500 [00:18<00:00, 137.72it/s]\n",
      "100%|███████████████████████████████████████████████████████████████████████████████████████| 2500/2500 [00:08<00:00, 308.36it/s]\n"
     ]
    },
    {
     "name": "stdout",
     "output_type": "stream",
     "text": [
      "Epoch 12, Train Loss 1.032688270366192, Train Acc 64.042\n"
     ]
    },
    {
     "name": "stderr",
     "output_type": "stream",
     "text": [
      "100%|███████████████████████████████████████████████████████████████████████████████████████| 2500/2500 [00:18<00:00, 138.40it/s]\n",
      "100%|███████████████████████████████████████████████████████████████████████████████████████| 2500/2500 [00:08<00:00, 309.48it/s]\n"
     ]
    },
    {
     "name": "stdout",
     "output_type": "stream",
     "text": [
      "Epoch 13, Train Loss 1.0016665070533752, Train Acc 65.422\n"
     ]
    },
    {
     "name": "stderr",
     "output_type": "stream",
     "text": [
      "100%|███████████████████████████████████████████████████████████████████████████████████████| 2500/2500 [00:18<00:00, 137.09it/s]\n",
      "100%|███████████████████████████████████████████████████████████████████████████████████████| 2500/2500 [00:08<00:00, 307.93it/s]\n"
     ]
    },
    {
     "name": "stdout",
     "output_type": "stream",
     "text": [
      "Epoch 14, Train Loss 0.9880413618683815, Train Acc 66.934\n"
     ]
    },
    {
     "name": "stderr",
     "output_type": "stream",
     "text": [
      "100%|███████████████████████████████████████████████████████████████████████████████████████| 2500/2500 [00:18<00:00, 136.87it/s]\n",
      "100%|███████████████████████████████████████████████████████████████████████████████████████| 2500/2500 [00:08<00:00, 309.93it/s]\n"
     ]
    },
    {
     "name": "stdout",
     "output_type": "stream",
     "text": [
      "Epoch 15, Train Loss 0.970373842549324, Train Acc 65.196\n"
     ]
    },
    {
     "name": "stderr",
     "output_type": "stream",
     "text": [
      "100%|███████████████████████████████████████████████████████████████████████████████████████| 2500/2500 [00:18<00:00, 138.15it/s]\n",
      "100%|███████████████████████████████████████████████████████████████████████████████████████| 2500/2500 [00:08<00:00, 308.17it/s]\n"
     ]
    },
    {
     "name": "stdout",
     "output_type": "stream",
     "text": [
      "Epoch 16, Train Loss 0.9492697220802307, Train Acc 67.748\n"
     ]
    },
    {
     "name": "stderr",
     "output_type": "stream",
     "text": [
      "100%|███████████████████████████████████████████████████████████████████████████████████████| 2500/2500 [00:18<00:00, 137.09it/s]\n",
      "100%|███████████████████████████████████████████████████████████████████████████████████████| 2500/2500 [00:08<00:00, 309.54it/s]\n"
     ]
    },
    {
     "name": "stdout",
     "output_type": "stream",
     "text": [
      "Epoch 17, Train Loss 0.9319549934506416, Train Acc 68.268\n"
     ]
    },
    {
     "name": "stderr",
     "output_type": "stream",
     "text": [
      "100%|███████████████████████████████████████████████████████████████████████████████████████| 2500/2500 [00:18<00:00, 137.95it/s]\n",
      "100%|███████████████████████████████████████████████████████████████████████████████████████| 2500/2500 [00:08<00:00, 309.50it/s]\n"
     ]
    },
    {
     "name": "stdout",
     "output_type": "stream",
     "text": [
      "Epoch 18, Train Loss 0.9187105514705182, Train Acc 68.754\n"
     ]
    },
    {
     "name": "stderr",
     "output_type": "stream",
     "text": [
      "100%|███████████████████████████████████████████████████████████████████████████████████████| 2500/2500 [00:18<00:00, 137.88it/s]\n",
      "100%|███████████████████████████████████████████████████████████████████████████████████████| 2500/2500 [00:08<00:00, 307.33it/s]\n"
     ]
    },
    {
     "name": "stdout",
     "output_type": "stream",
     "text": [
      "Epoch 19, Train Loss 0.9056673043131829, Train Acc 68.734\n"
     ]
    },
    {
     "name": "stderr",
     "output_type": "stream",
     "text": [
      "100%|███████████████████████████████████████████████████████████████████████████████████████| 2500/2500 [00:18<00:00, 137.84it/s]\n",
      "100%|███████████████████████████████████████████████████████████████████████████████████████| 2500/2500 [00:08<00:00, 308.27it/s]\n"
     ]
    },
    {
     "name": "stdout",
     "output_type": "stream",
     "text": [
      "Epoch 20, Train Loss 0.8875883706450463, Train Acc 68.382\n"
     ]
    },
    {
     "name": "stderr",
     "output_type": "stream",
     "text": [
      "100%|███████████████████████████████████████████████████████████████████████████████████████| 2500/2500 [00:18<00:00, 137.04it/s]\n",
      "100%|███████████████████████████████████████████████████████████████████████████████████████| 2500/2500 [00:08<00:00, 307.43it/s]\n"
     ]
    },
    {
     "name": "stdout",
     "output_type": "stream",
     "text": [
      "Epoch 21, Train Loss 0.88142028850317, Train Acc 69.022\n"
     ]
    },
    {
     "name": "stderr",
     "output_type": "stream",
     "text": [
      "100%|███████████████████████████████████████████████████████████████████████████████████████| 2500/2500 [00:18<00:00, 137.73it/s]\n",
      "100%|███████████████████████████████████████████████████████████████████████████████████████| 2500/2500 [00:08<00:00, 306.92it/s]\n"
     ]
    },
    {
     "name": "stdout",
     "output_type": "stream",
     "text": [
      "Epoch 22, Train Loss 0.866758178281784, Train Acc 70.518\n"
     ]
    },
    {
     "name": "stderr",
     "output_type": "stream",
     "text": [
      "100%|███████████████████████████████████████████████████████████████████████████████████████| 2500/2500 [00:18<00:00, 137.52it/s]\n",
      "100%|███████████████████████████████████████████████████████████████████████████████████████| 2500/2500 [00:08<00:00, 307.36it/s]\n"
     ]
    },
    {
     "name": "stdout",
     "output_type": "stream",
     "text": [
      "Epoch 23, Train Loss 0.8586498319745064, Train Acc 71.214\n"
     ]
    },
    {
     "name": "stderr",
     "output_type": "stream",
     "text": [
      "100%|███████████████████████████████████████████████████████████████████████████████████████| 2500/2500 [00:18<00:00, 136.66it/s]\n",
      "100%|███████████████████████████████████████████████████████████████████████████████████████| 2500/2500 [00:08<00:00, 306.80it/s]\n"
     ]
    },
    {
     "name": "stdout",
     "output_type": "stream",
     "text": [
      "Epoch 24, Train Loss 0.8439140600323677, Train Acc 70.836\n"
     ]
    },
    {
     "name": "stderr",
     "output_type": "stream",
     "text": [
      "100%|███████████████████████████████████████████████████████████████████████████████████████| 2500/2500 [00:18<00:00, 138.71it/s]\n",
      "100%|███████████████████████████████████████████████████████████████████████████████████████| 2500/2500 [00:08<00:00, 307.64it/s]\n"
     ]
    },
    {
     "name": "stdout",
     "output_type": "stream",
     "text": [
      "Epoch 25, Train Loss 0.8331722100555897, Train Acc 70.334\n"
     ]
    },
    {
     "name": "stderr",
     "output_type": "stream",
     "text": [
      "100%|███████████████████████████████████████████████████████████████████████████████████████| 2500/2500 [00:18<00:00, 137.29it/s]\n",
      "100%|███████████████████████████████████████████████████████████████████████████████████████| 2500/2500 [00:08<00:00, 307.65it/s]\n"
     ]
    },
    {
     "name": "stdout",
     "output_type": "stream",
     "text": [
      "Epoch 26, Train Loss 0.8206579873502254, Train Acc 71.22\n"
     ]
    },
    {
     "name": "stderr",
     "output_type": "stream",
     "text": [
      "100%|███████████████████████████████████████████████████████████████████████████████████████| 2500/2500 [00:18<00:00, 138.30it/s]\n",
      "100%|███████████████████████████████████████████████████████████████████████████████████████| 2500/2500 [00:08<00:00, 307.86it/s]\n"
     ]
    },
    {
     "name": "stdout",
     "output_type": "stream",
     "text": [
      "Epoch 27, Train Loss 0.8222532180666924, Train Acc 72.182\n"
     ]
    },
    {
     "name": "stderr",
     "output_type": "stream",
     "text": [
      "100%|███████████████████████████████████████████████████████████████████████████████████████| 2500/2500 [00:18<00:00, 137.90it/s]\n",
      "100%|███████████████████████████████████████████████████████████████████████████████████████| 2500/2500 [00:08<00:00, 307.15it/s]\n"
     ]
    },
    {
     "name": "stdout",
     "output_type": "stream",
     "text": [
      "Epoch 28, Train Loss 0.809217429202795, Train Acc 71.792\n"
     ]
    },
    {
     "name": "stderr",
     "output_type": "stream",
     "text": [
      "100%|███████████████████████████████████████████████████████████████████████████████████████| 2500/2500 [00:18<00:00, 137.53it/s]\n",
      "100%|███████████████████████████████████████████████████████████████████████████████████████| 2500/2500 [00:08<00:00, 307.93it/s]\n"
     ]
    },
    {
     "name": "stdout",
     "output_type": "stream",
     "text": [
      "Epoch 29, Train Loss 0.8039524889886379, Train Acc 73.23\n"
     ]
    },
    {
     "name": "stderr",
     "output_type": "stream",
     "text": [
      "100%|███████████████████████████████████████████████████████████████████████████████████████| 2500/2500 [00:18<00:00, 136.27it/s]\n",
      "100%|███████████████████████████████████████████████████████████████████████████████████████| 2500/2500 [00:08<00:00, 307.62it/s]\n"
     ]
    },
    {
     "name": "stdout",
     "output_type": "stream",
     "text": [
      "Epoch 30, Train Loss 0.796590455776453, Train Acc 72.684\n"
     ]
    },
    {
     "name": "stderr",
     "output_type": "stream",
     "text": [
      "100%|███████████████████████████████████████████████████████████████████████████████████████| 2500/2500 [00:18<00:00, 136.65it/s]\n",
      "100%|███████████████████████████████████████████████████████████████████████████████████████| 2500/2500 [00:08<00:00, 307.71it/s]\n"
     ]
    },
    {
     "name": "stdout",
     "output_type": "stream",
     "text": [
      "Epoch 31, Train Loss 0.7857449799716473, Train Acc 72.634\n"
     ]
    },
    {
     "name": "stderr",
     "output_type": "stream",
     "text": [
      "100%|███████████████████████████████████████████████████████████████████████████████████████| 2500/2500 [00:18<00:00, 137.30it/s]\n",
      "100%|███████████████████████████████████████████████████████████████████████████████████████| 2500/2500 [00:08<00:00, 306.27it/s]\n"
     ]
    },
    {
     "name": "stdout",
     "output_type": "stream",
     "text": [
      "Epoch 32, Train Loss 0.7775880171120166, Train Acc 73.076\n"
     ]
    },
    {
     "name": "stderr",
     "output_type": "stream",
     "text": [
      "100%|███████████████████████████████████████████████████████████████████████████████████████| 2500/2500 [00:18<00:00, 135.46it/s]\n",
      "100%|███████████████████████████████████████████████████████████████████████████████████████| 2500/2500 [00:08<00:00, 306.50it/s]\n"
     ]
    },
    {
     "name": "stdout",
     "output_type": "stream",
     "text": [
      "Epoch 33, Train Loss 0.77518495683074, Train Acc 71.558\n"
     ]
    },
    {
     "name": "stderr",
     "output_type": "stream",
     "text": [
      "100%|███████████████████████████████████████████████████████████████████████████████████████| 2500/2500 [00:18<00:00, 137.44it/s]\n",
      "100%|███████████████████████████████████████████████████████████████████████████████████████| 2500/2500 [00:08<00:00, 307.23it/s]\n"
     ]
    },
    {
     "name": "stdout",
     "output_type": "stream",
     "text": [
      "Epoch 34, Train Loss 0.7633837520837784, Train Acc 73.086\n"
     ]
    },
    {
     "name": "stderr",
     "output_type": "stream",
     "text": [
      "100%|███████████████████████████████████████████████████████████████████████████████████████| 2500/2500 [00:18<00:00, 137.42it/s]\n",
      "100%|███████████████████████████████████████████████████████████████████████████████████████| 2500/2500 [00:08<00:00, 307.65it/s]\n"
     ]
    },
    {
     "name": "stdout",
     "output_type": "stream",
     "text": [
      "Epoch 35, Train Loss 0.7605864120483399, Train Acc 73.116\n"
     ]
    },
    {
     "name": "stderr",
     "output_type": "stream",
     "text": [
      "100%|███████████████████████████████████████████████████████████████████████████████████████| 2500/2500 [00:18<00:00, 137.39it/s]\n",
      "100%|███████████████████████████████████████████████████████████████████████████████████████| 2500/2500 [00:08<00:00, 307.95it/s]\n"
     ]
    },
    {
     "name": "stdout",
     "output_type": "stream",
     "text": [
      "Epoch 36, Train Loss 0.7525900458395481, Train Acc 74.396\n"
     ]
    },
    {
     "name": "stderr",
     "output_type": "stream",
     "text": [
      "100%|███████████████████████████████████████████████████████████████████████████████████████| 2500/2500 [00:18<00:00, 136.79it/s]\n",
      "100%|███████████████████████████████████████████████████████████████████████████████████████| 2500/2500 [00:08<00:00, 307.40it/s]\n"
     ]
    },
    {
     "name": "stdout",
     "output_type": "stream",
     "text": [
      "Epoch 37, Train Loss 0.7452209440648556, Train Acc 74.518\n"
     ]
    },
    {
     "name": "stderr",
     "output_type": "stream",
     "text": [
      "100%|███████████████████████████████████████████████████████████████████████████████████████| 2500/2500 [00:18<00:00, 137.61it/s]\n",
      "100%|███████████████████████████████████████████████████████████████████████████████████████| 2500/2500 [00:08<00:00, 306.73it/s]\n"
     ]
    },
    {
     "name": "stdout",
     "output_type": "stream",
     "text": [
      "Epoch 38, Train Loss 0.7348241320729255, Train Acc 72.818\n"
     ]
    },
    {
     "name": "stderr",
     "output_type": "stream",
     "text": [
      "100%|███████████████████████████████████████████████████████████████████████████████████████| 2500/2500 [00:18<00:00, 137.63it/s]\n",
      "100%|███████████████████████████████████████████████████████████████████████████████████████| 2500/2500 [00:08<00:00, 309.56it/s]\n"
     ]
    },
    {
     "name": "stdout",
     "output_type": "stream",
     "text": [
      "Epoch 39, Train Loss 0.7310858658611774, Train Acc 74.47\n"
     ]
    },
    {
     "name": "stderr",
     "output_type": "stream",
     "text": [
      "100%|███████████████████████████████████████████████████████████████████████████████████████| 2500/2500 [00:18<00:00, 137.48it/s]\n",
      "100%|███████████████████████████████████████████████████████████████████████████████████████| 2500/2500 [00:08<00:00, 308.05it/s]\n"
     ]
    },
    {
     "name": "stdout",
     "output_type": "stream",
     "text": [
      "Epoch 40, Train Loss 0.7258944186806678, Train Acc 75.732\n"
     ]
    },
    {
     "name": "stderr",
     "output_type": "stream",
     "text": [
      "100%|███████████████████████████████████████████████████████████████████████████████████████| 2500/2500 [00:18<00:00, 136.80it/s]\n",
      "100%|███████████████████████████████████████████████████████████████████████████████████████| 2500/2500 [00:08<00:00, 309.20it/s]\n"
     ]
    },
    {
     "name": "stdout",
     "output_type": "stream",
     "text": [
      "Epoch 41, Train Loss 0.7228850139141083, Train Acc 74.252\n"
     ]
    },
    {
     "name": "stderr",
     "output_type": "stream",
     "text": [
      "100%|███████████████████████████████████████████████████████████████████████████████████████| 2500/2500 [00:18<00:00, 137.87it/s]\n",
      "100%|███████████████████████████████████████████████████████████████████████████████████████| 2500/2500 [00:08<00:00, 307.50it/s]\n"
     ]
    },
    {
     "name": "stdout",
     "output_type": "stream",
     "text": [
      "Epoch 42, Train Loss 0.7157892981171607, Train Acc 75.732\n"
     ]
    },
    {
     "name": "stderr",
     "output_type": "stream",
     "text": [
      "100%|███████████████████████████████████████████████████████████████████████████████████████| 2500/2500 [00:18<00:00, 138.39it/s]\n",
      "100%|███████████████████████████████████████████████████████████████████████████████████████| 2500/2500 [00:08<00:00, 307.93it/s]\n"
     ]
    },
    {
     "name": "stdout",
     "output_type": "stream",
     "text": [
      "Epoch 43, Train Loss 0.702448353022337, Train Acc 75.428\n"
     ]
    },
    {
     "name": "stderr",
     "output_type": "stream",
     "text": [
      "100%|███████████████████████████████████████████████████████████████████████████████████████| 2500/2500 [00:18<00:00, 137.66it/s]\n",
      "100%|███████████████████████████████████████████████████████████████████████████████████████| 2500/2500 [00:08<00:00, 304.51it/s]\n"
     ]
    },
    {
     "name": "stdout",
     "output_type": "stream",
     "text": [
      "Epoch 44, Train Loss 0.7039615566194057, Train Acc 75.572\n"
     ]
    },
    {
     "name": "stderr",
     "output_type": "stream",
     "text": [
      "100%|███████████████████████████████████████████████████████████████████████████████████████| 2500/2500 [00:18<00:00, 136.20it/s]\n",
      "100%|███████████████████████████████████████████████████████████████████████████████████████| 2500/2500 [00:08<00:00, 306.58it/s]\n"
     ]
    },
    {
     "name": "stdout",
     "output_type": "stream",
     "text": [
      "Epoch 45, Train Loss 0.6974487805783749, Train Acc 74.784\n"
     ]
    },
    {
     "name": "stderr",
     "output_type": "stream",
     "text": [
      "100%|███████████████████████████████████████████████████████████████████████████████████████| 2500/2500 [00:18<00:00, 137.91it/s]\n",
      "100%|███████████████████████████████████████████████████████████████████████████████████████| 2500/2500 [00:08<00:00, 307.09it/s]\n"
     ]
    },
    {
     "name": "stdout",
     "output_type": "stream",
     "text": [
      "Epoch 46, Train Loss 0.6955756828784943, Train Acc 76.608\n"
     ]
    },
    {
     "name": "stderr",
     "output_type": "stream",
     "text": [
      "100%|███████████████████████████████████████████████████████████████████████████████████████| 2500/2500 [00:18<00:00, 136.48it/s]\n",
      "100%|███████████████████████████████████████████████████████████████████████████████████████| 2500/2500 [00:08<00:00, 305.63it/s]\n"
     ]
    },
    {
     "name": "stdout",
     "output_type": "stream",
     "text": [
      "Epoch 47, Train Loss 0.6864923337727785, Train Acc 75.818\n"
     ]
    },
    {
     "name": "stderr",
     "output_type": "stream",
     "text": [
      "100%|███████████████████████████████████████████████████████████████████████████████████████| 2500/2500 [00:18<00:00, 137.10it/s]\n",
      "100%|███████████████████████████████████████████████████████████████████████████████████████| 2500/2500 [00:08<00:00, 306.95it/s]\n"
     ]
    },
    {
     "name": "stdout",
     "output_type": "stream",
     "text": [
      "Epoch 48, Train Loss 0.6858986425459385, Train Acc 76.392\n"
     ]
    },
    {
     "name": "stderr",
     "output_type": "stream",
     "text": [
      "100%|███████████████████████████████████████████████████████████████████████████████████████| 2500/2500 [00:18<00:00, 137.19it/s]\n",
      "100%|███████████████████████████████████████████████████████████████████████████████████████| 2500/2500 [00:08<00:00, 306.63it/s]\n"
     ]
    },
    {
     "name": "stdout",
     "output_type": "stream",
     "text": [
      "Epoch 49, Train Loss 0.6774460505485534, Train Acc 76.284\n"
     ]
    },
    {
     "name": "stderr",
     "output_type": "stream",
     "text": [
      "100%|███████████████████████████████████████████████████████████████████████████████████████| 2500/2500 [00:18<00:00, 136.23it/s]\n",
      "100%|███████████████████████████████████████████████████████████████████████████████████████| 2500/2500 [00:08<00:00, 307.28it/s]\n"
     ]
    },
    {
     "name": "stdout",
     "output_type": "stream",
     "text": [
      "Epoch 50, Train Loss 0.6712483007788658, Train Acc 77.026\n"
     ]
    },
    {
     "name": "stderr",
     "output_type": "stream",
     "text": [
      "100%|█████████████████████████████████████████████████████████████████████████████████████████| 500/500 [00:01<00:00, 374.38it/s]"
     ]
    },
    {
     "name": "stdout",
     "output_type": "stream",
     "text": [
      "Test Acc: 74.03\n"
     ]
    },
    {
     "name": "stderr",
     "output_type": "stream",
     "text": [
      "\n"
     ]
    }
   ],
   "source": [
    "cnn = CNN().to(device)\n",
    "criterion = nn.CrossEntropyLoss().to(device)\n",
    "optimizer = torch.optim.SGD(params=cnn.parameters(), lr=0.01, weight_decay=0.0001)\n",
    "cnn_loss, cnn_acc = train(cnn, n_epochs)\n",
    "print('Test Acc: {}'.format(test(cnn, test_loader)))"
   ]
  },
  {
   "cell_type": "code",
   "execution_count": 31,
   "id": "8e096608",
   "metadata": {
    "pycharm": {
     "name": "#%%\n"
    }
   },
   "outputs": [],
   "source": [
    "import matplotlib.pyplot as plt\n",
    "def plot_loss_and_acc(loss_and_acc_dict):\n",
    "    # visualize loss curve\n",
    "    plt.figure(figsize=(12, 5))\n",
    "    min_loss, max_loss = 100.0, 0.0\n",
    "    for key, (loss_list, acc_list) in loss_and_acc_dict.items():\n",
    "        min_loss = min(loss_list) if min(loss_list) < min_loss else min_loss\n",
    "        max_loss = max(loss_list) if max(loss_list) > max_loss else max_loss\n",
    "        num_epoch = len(loss_list)\n",
    "        plt.plot(range(1, 1 + num_epoch), loss_list, '-s', label=key)\n",
    "    plt.xlabel('Epoch')\n",
    "    plt.ylabel('Loss')\n",
    "    plt.legend()\n",
    "    plt.xticks(range(0, num_epoch + 1, 2))\n",
    "    plt.axis([0, num_epoch + 1, min_loss - 0.1, max_loss + 0.1])\n",
    "    plt.show()\n",
    "    # visualize acc curve\n",
    "    plt.figure(figsize=(12, 5))\n",
    "    min_acc, max_acc = 100.0, 0.0\n",
    "    for key, (loss_list, acc_list) in loss_and_acc_dict.items():\n",
    "        min_acc = min(acc_list) if min(acc_list) < min_acc else min_acc\n",
    "        max_acc = max(acc_list) if max(acc_list) > max_acc else max_acc\n",
    "        num_epoch = len(acc_list)\n",
    "        plt.plot(range(1, 1 + num_epoch), acc_list, '-s', label=key)\n",
    "    plt.xlabel('Epoch')\n",
    "    plt.ylabel('Accuracy')\n",
    "    plt.legend()\n",
    "    plt.xticks(range(0, num_epoch + 1, 2))\n",
    "    plt.axis([0, num_epoch + 1, min_acc, max_acc + 1])\n",
    "    plt.show()"
   ]
  },
  {
   "cell_type": "code",
   "execution_count": 32,
   "id": "a9849430",
   "metadata": {
    "pycharm": {
     "name": "#%%\n"
    }
   },
   "outputs": [
    {
     "data": {
      "image/png": "[encoded data removed]",
      "text/plain": [
       "<Figure size 864x360 with 1 Axes>"
      ]
     },
     "metadata": {
      "needs_background": "light"
     },
     "output_type": "display_data"
    },
    {
     "data": {
      "image/png": "[encoded data removed]",
      "text/plain": [
       "<Figure size 864x360 with 1 Axes>"
      ]
     },
     "metadata": {
      "needs_background": "light"
     },
     "output_type": "display_data"
    }
   ],
   "source": [
    "plot_loss_and_acc({\n",
    "    \"mlp\": [mlp_loss, mlp_acc],\n",
    "    \"cnn\": [cnn_loss, cnn_acc]\n",
    "})"
   ]
  },
  {
   "cell_type": "markdown",
   "id": "3f0a41b1",
   "metadata": {
    "pycharm": {
     "name": "#%% md\n"
    }
   },
   "source": [
    "### 优化器调整"
   ]
  },
  {
   "cell_type": "code",
   "execution_count": 13,
   "id": "48ea234a",
   "metadata": {
    "pycharm": {
     "name": "#%%\n"
    }
   },
   "outputs": [
    {
     "name": "stderr",
     "output_type": "stream",
     "text": [
      "100%|███████████████████████████████████████████████████████████████████████████████████████| 2500/2500 [00:22<00:00, 111.75it/s]\n",
      "100%|███████████████████████████████████████████████████████████████████████████████████████| 2500/2500 [00:08<00:00, 299.35it/s]\n"
     ]
    },
    {
     "name": "stdout",
     "output_type": "stream",
     "text": [
      "Epoch 1, Train Loss 1.6284051593303681, Train Acc 47.916\n"
     ]
    },
    {
     "name": "stderr",
     "output_type": "stream",
     "text": [
      "100%|███████████████████████████████████████████████████████████████████████████████████████| 2500/2500 [00:22<00:00, 111.06it/s]\n",
      "100%|███████████████████████████████████████████████████████████████████████████████████████| 2500/2500 [00:08<00:00, 299.02it/s]\n"
     ]
    },
    {
     "name": "stdout",
     "output_type": "stream",
     "text": [
      "Epoch 2, Train Loss 1.373994251012802, Train Acc 54.452\n"
     ]
    },
    {
     "name": "stderr",
     "output_type": "stream",
     "text": [
      "100%|███████████████████████████████████████████████████████████████████████████████████████| 2500/2500 [00:22<00:00, 111.45it/s]\n",
      "100%|███████████████████████████████████████████████████████████████████████████████████████| 2500/2500 [00:08<00:00, 298.48it/s]\n"
     ]
    },
    {
     "name": "stdout",
     "output_type": "stream",
     "text": [
      "Epoch 3, Train Loss 1.2660846150636673, Train Acc 57.064\n"
     ]
    },
    {
     "name": "stderr",
     "output_type": "stream",
     "text": [
      "100%|███████████████████████████████████████████████████████████████████████████████████████| 2500/2500 [00:22<00:00, 111.85it/s]\n",
      "100%|███████████████████████████████████████████████████████████████████████████████████████| 2500/2500 [00:08<00:00, 299.83it/s]\n"
     ]
    },
    {
     "name": "stdout",
     "output_type": "stream",
     "text": [
      "Epoch 4, Train Loss 1.1975943160057068, Train Acc 59.228\n"
     ]
    },
    {
     "name": "stderr",
     "output_type": "stream",
     "text": [
      "100%|███████████████████████████████████████████████████████████████████████████████████████| 2500/2500 [00:22<00:00, 110.77it/s]\n",
      "100%|███████████████████████████████████████████████████████████████████████████████████████| 2500/2500 [00:08<00:00, 297.20it/s]\n"
     ]
    },
    {
     "name": "stdout",
     "output_type": "stream",
     "text": [
      "Epoch 5, Train Loss 1.1498025925278663, Train Acc 61.182\n"
     ]
    },
    {
     "name": "stderr",
     "output_type": "stream",
     "text": [
      "100%|███████████████████████████████████████████████████████████████████████████████████████| 2500/2500 [00:22<00:00, 111.20it/s]\n",
      "100%|███████████████████████████████████████████████████████████████████████████████████████| 2500/2500 [00:08<00:00, 297.16it/s]\n"
     ]
    },
    {
     "name": "stdout",
     "output_type": "stream",
     "text": [
      "Epoch 6, Train Loss 1.107640919148922, Train Acc 62.78\n"
     ]
    },
    {
     "name": "stderr",
     "output_type": "stream",
     "text": [
      "100%|███████████████████████████████████████████████████████████████████████████████████████| 2500/2500 [00:22<00:00, 108.92it/s]\n",
      "100%|███████████████████████████████████████████████████████████████████████████████████████| 2500/2500 [00:08<00:00, 299.30it/s]\n"
     ]
    },
    {
     "name": "stdout",
     "output_type": "stream",
     "text": [
      "Epoch 7, Train Loss 1.0752009946584702, Train Acc 64.586\n"
     ]
    },
    {
     "name": "stderr",
     "output_type": "stream",
     "text": [
      "100%|███████████████████████████████████████████████████████████████████████████████████████| 2500/2500 [00:22<00:00, 111.17it/s]\n",
      "100%|███████████████████████████████████████████████████████████████████████████████████████| 2500/2500 [00:08<00:00, 298.53it/s]\n"
     ]
    },
    {
     "name": "stdout",
     "output_type": "stream",
     "text": [
      "Epoch 8, Train Loss 1.0429928255438805, Train Acc 65.15\n"
     ]
    },
    {
     "name": "stderr",
     "output_type": "stream",
     "text": [
      "100%|███████████████████████████████████████████████████████████████████████████████████████| 2500/2500 [00:22<00:00, 109.77it/s]\n",
      "100%|███████████████████████████████████████████████████████████████████████████████████████| 2500/2500 [00:08<00:00, 304.50it/s]\n"
     ]
    },
    {
     "name": "stdout",
     "output_type": "stream",
     "text": [
      "Epoch 9, Train Loss 1.0238881566524505, Train Acc 65.742\n"
     ]
    },
    {
     "name": "stderr",
     "output_type": "stream",
     "text": [
      "100%|███████████████████████████████████████████████████████████████████████████████████████| 2500/2500 [00:23<00:00, 107.83it/s]\n",
      "100%|███████████████████████████████████████████████████████████████████████████████████████| 2500/2500 [00:08<00:00, 304.05it/s]\n"
     ]
    },
    {
     "name": "stdout",
     "output_type": "stream",
     "text": [
      "Epoch 10, Train Loss 1.0060359440684319, Train Acc 65.212\n"
     ]
    },
    {
     "name": "stderr",
     "output_type": "stream",
     "text": [
      "100%|███████████████████████████████████████████████████████████████████████████████████████| 2500/2500 [00:22<00:00, 109.29it/s]\n",
      "100%|███████████████████████████████████████████████████████████████████████████████████████| 2500/2500 [00:08<00:00, 304.06it/s]\n"
     ]
    },
    {
     "name": "stdout",
     "output_type": "stream",
     "text": [
      "Epoch 11, Train Loss 0.9796580440282822, Train Acc 65.982\n"
     ]
    },
    {
     "name": "stderr",
     "output_type": "stream",
     "text": [
      "100%|███████████████████████████████████████████████████████████████████████████████████████| 2500/2500 [00:22<00:00, 110.51it/s]\n",
      "100%|███████████████████████████████████████████████████████████████████████████████████████| 2500/2500 [00:08<00:00, 302.85it/s]\n"
     ]
    },
    {
     "name": "stdout",
     "output_type": "stream",
     "text": [
      "Epoch 12, Train Loss 0.9688859931588173, Train Acc 67.35\n"
     ]
    },
    {
     "name": "stderr",
     "output_type": "stream",
     "text": [
      "100%|███████████████████████████████████████████████████████████████████████████████████████| 2500/2500 [00:22<00:00, 111.13it/s]\n",
      "100%|███████████████████████████████████████████████████████████████████████████████████████| 2500/2500 [00:08<00:00, 299.04it/s]\n"
     ]
    },
    {
     "name": "stdout",
     "output_type": "stream",
     "text": [
      "Epoch 13, Train Loss 0.9557006212234497, Train Acc 67.014\n"
     ]
    },
    {
     "name": "stderr",
     "output_type": "stream",
     "text": [
      "100%|███████████████████████████████████████████████████████████████████████████████████████| 2500/2500 [00:22<00:00, 111.47it/s]\n",
      "100%|███████████████████████████████████████████████████████████████████████████████████████| 2500/2500 [00:08<00:00, 299.28it/s]\n"
     ]
    },
    {
     "name": "stdout",
     "output_type": "stream",
     "text": [
      "Epoch 14, Train Loss 0.9437320191979408, Train Acc 66.122\n"
     ]
    },
    {
     "name": "stderr",
     "output_type": "stream",
     "text": [
      "100%|███████████████████████████████████████████████████████████████████████████████████████| 2500/2500 [00:22<00:00, 111.51it/s]\n",
      "100%|███████████████████████████████████████████████████████████████████████████████████████| 2500/2500 [00:08<00:00, 298.57it/s]\n"
     ]
    },
    {
     "name": "stdout",
     "output_type": "stream",
     "text": [
      "Epoch 15, Train Loss 0.9274675722956658, Train Acc 68.08\n"
     ]
    },
    {
     "name": "stderr",
     "output_type": "stream",
     "text": [
      "100%|███████████████████████████████████████████████████████████████████████████████████████| 2500/2500 [00:22<00:00, 111.50it/s]\n",
      "100%|███████████████████████████████████████████████████████████████████████████████████████| 2500/2500 [00:08<00:00, 299.16it/s]\n"
     ]
    },
    {
     "name": "stdout",
     "output_type": "stream",
     "text": [
      "Epoch 16, Train Loss 0.9233730497479439, Train Acc 67.876\n"
     ]
    },
    {
     "name": "stderr",
     "output_type": "stream",
     "text": [
      "100%|███████████████████████████████████████████████████████████████████████████████████████| 2500/2500 [00:22<00:00, 112.47it/s]\n",
      "100%|███████████████████████████████████████████████████████████████████████████████████████| 2500/2500 [00:08<00:00, 298.96it/s]\n"
     ]
    },
    {
     "name": "stdout",
     "output_type": "stream",
     "text": [
      "Epoch 17, Train Loss 0.9088732523679733, Train Acc 69.564\n"
     ]
    },
    {
     "name": "stderr",
     "output_type": "stream",
     "text": [
      "100%|███████████████████████████████████████████████████████████████████████████████████████| 2500/2500 [00:22<00:00, 110.76it/s]\n",
      "100%|███████████████████████████████████████████████████████████████████████████████████████| 2500/2500 [00:08<00:00, 298.89it/s]\n"
     ]
    },
    {
     "name": "stdout",
     "output_type": "stream",
     "text": [
      "Epoch 18, Train Loss 0.9034950937271118, Train Acc 67.938\n"
     ]
    },
    {
     "name": "stderr",
     "output_type": "stream",
     "text": [
      "100%|███████████████████████████████████████████████████████████████████████████████████████| 2500/2500 [00:22<00:00, 110.26it/s]\n",
      "100%|███████████████████████████████████████████████████████████████████████████████████████| 2500/2500 [00:08<00:00, 298.34it/s]\n"
     ]
    },
    {
     "name": "stdout",
     "output_type": "stream",
     "text": [
      "Epoch 19, Train Loss 0.8943161262989044, Train Acc 70.588\n"
     ]
    },
    {
     "name": "stderr",
     "output_type": "stream",
     "text": [
      "100%|███████████████████████████████████████████████████████████████████████████████████████| 2500/2500 [00:22<00:00, 110.57it/s]\n",
      "100%|███████████████████████████████████████████████████████████████████████████████████████| 2500/2500 [00:08<00:00, 298.71it/s]\n"
     ]
    },
    {
     "name": "stdout",
     "output_type": "stream",
     "text": [
      "Epoch 20, Train Loss 0.8865883742034435, Train Acc 70.052\n"
     ]
    },
    {
     "name": "stderr",
     "output_type": "stream",
     "text": [
      "100%|███████████████████████████████████████████████████████████████████████████████████████| 2500/2500 [00:22<00:00, 110.30it/s]\n",
      "100%|███████████████████████████████████████████████████████████████████████████████████████| 2500/2500 [00:08<00:00, 298.60it/s]\n"
     ]
    },
    {
     "name": "stdout",
     "output_type": "stream",
     "text": [
      "Epoch 21, Train Loss 0.8814364163756371, Train Acc 68.978\n"
     ]
    },
    {
     "name": "stderr",
     "output_type": "stream",
     "text": [
      "100%|███████████████████████████████████████████████████████████████████████████████████████| 2500/2500 [00:22<00:00, 109.89it/s]\n",
      "100%|███████████████████████████████████████████████████████████████████████████████████████| 2500/2500 [00:08<00:00, 298.62it/s]\n"
     ]
    },
    {
     "name": "stdout",
     "output_type": "stream",
     "text": [
      "Epoch 22, Train Loss 0.8720326276659965, Train Acc 69.748\n"
     ]
    },
    {
     "name": "stderr",
     "output_type": "stream",
     "text": [
      "100%|███████████████████████████████████████████████████████████████████████████████████████| 2500/2500 [00:22<00:00, 110.87it/s]\n",
      "100%|███████████████████████████████████████████████████████████████████████████████████████| 2500/2500 [00:08<00:00, 299.09it/s]\n"
     ]
    },
    {
     "name": "stdout",
     "output_type": "stream",
     "text": [
      "Epoch 23, Train Loss 0.8700879257440567, Train Acc 70.572\n"
     ]
    },
    {
     "name": "stderr",
     "output_type": "stream",
     "text": [
      "100%|███████████████████████████████████████████████████████████████████████████████████████| 2500/2500 [00:22<00:00, 110.64it/s]\n",
      "100%|███████████████████████████████████████████████████████████████████████████████████████| 2500/2500 [00:08<00:00, 299.11it/s]\n"
     ]
    },
    {
     "name": "stdout",
     "output_type": "stream",
     "text": [
      "Epoch 24, Train Loss 0.8624120341598988, Train Acc 71.184\n"
     ]
    },
    {
     "name": "stderr",
     "output_type": "stream",
     "text": [
      "100%|███████████████████████████████████████████████████████████████████████████████████████| 2500/2500 [00:22<00:00, 110.91it/s]\n",
      "100%|███████████████████████████████████████████████████████████████████████████████████████| 2500/2500 [00:08<00:00, 298.58it/s]\n"
     ]
    },
    {
     "name": "stdout",
     "output_type": "stream",
     "text": [
      "Epoch 25, Train Loss 0.8516215699493885, Train Acc 71.472\n"
     ]
    },
    {
     "name": "stderr",
     "output_type": "stream",
     "text": [
      "100%|███████████████████████████████████████████████████████████████████████████████████████| 2500/2500 [00:22<00:00, 111.33it/s]\n",
      "100%|███████████████████████████████████████████████████████████████████████████████████████| 2500/2500 [00:08<00:00, 299.01it/s]\n"
     ]
    },
    {
     "name": "stdout",
     "output_type": "stream",
     "text": [
      "Epoch 26, Train Loss 0.8573283475905656, Train Acc 69.938\n"
     ]
    },
    {
     "name": "stderr",
     "output_type": "stream",
     "text": [
      "100%|███████████████████████████████████████████████████████████████████████████████████████| 2500/2500 [00:22<00:00, 111.24it/s]\n",
      "100%|███████████████████████████████████████████████████████████████████████████████████████| 2500/2500 [00:08<00:00, 298.97it/s]\n"
     ]
    },
    {
     "name": "stdout",
     "output_type": "stream",
     "text": [
      "Epoch 27, Train Loss 0.8423659414768219, Train Acc 71.752\n"
     ]
    },
    {
     "name": "stderr",
     "output_type": "stream",
     "text": [
      "100%|███████████████████████████████████████████████████████████████████████████████████████| 2500/2500 [00:22<00:00, 110.72it/s]\n",
      "100%|███████████████████████████████████████████████████████████████████████████████████████| 2500/2500 [00:08<00:00, 298.90it/s]\n"
     ]
    },
    {
     "name": "stdout",
     "output_type": "stream",
     "text": [
      "Epoch 28, Train Loss 0.8438741432785988, Train Acc 70.218\n"
     ]
    },
    {
     "name": "stderr",
     "output_type": "stream",
     "text": [
      "100%|███████████████████████████████████████████████████████████████████████████████████████| 2500/2500 [00:22<00:00, 110.26it/s]\n",
      "100%|███████████████████████████████████████████████████████████████████████████████████████| 2500/2500 [00:08<00:00, 299.15it/s]\n"
     ]
    },
    {
     "name": "stdout",
     "output_type": "stream",
     "text": [
      "Epoch 29, Train Loss 0.8259014063537121, Train Acc 72.146\n"
     ]
    },
    {
     "name": "stderr",
     "output_type": "stream",
     "text": [
      "100%|███████████████████████████████████████████████████████████████████████████████████████| 2500/2500 [00:23<00:00, 108.68it/s]\n",
      "100%|███████████████████████████████████████████████████████████████████████████████████████| 2500/2500 [00:08<00:00, 300.89it/s]\n"
     ]
    },
    {
     "name": "stdout",
     "output_type": "stream",
     "text": [
      "Epoch 30, Train Loss 0.8357456741213799, Train Acc 71.474\n"
     ]
    },
    {
     "name": "stderr",
     "output_type": "stream",
     "text": [
      "100%|███████████████████████████████████████████████████████████████████████████████████████| 2500/2500 [00:22<00:00, 109.49it/s]\n",
      "100%|███████████████████████████████████████████████████████████████████████████████████████| 2500/2500 [00:08<00:00, 300.22it/s]\n"
     ]
    },
    {
     "name": "stdout",
     "output_type": "stream",
     "text": [
      "Epoch 31, Train Loss 0.8249867440760136, Train Acc 72.762\n"
     ]
    },
    {
     "name": "stderr",
     "output_type": "stream",
     "text": [
      "100%|███████████████████████████████████████████████████████████████████████████████████████| 2500/2500 [00:22<00:00, 111.70it/s]\n",
      "100%|███████████████████████████████████████████████████████████████████████████████████████| 2500/2500 [00:08<00:00, 299.01it/s]\n"
     ]
    },
    {
     "name": "stdout",
     "output_type": "stream",
     "text": [
      "Epoch 32, Train Loss 0.8246908320188522, Train Acc 71.754\n"
     ]
    },
    {
     "name": "stderr",
     "output_type": "stream",
     "text": [
      "100%|███████████████████████████████████████████████████████████████████████████████████████| 2500/2500 [00:22<00:00, 111.81it/s]\n",
      "100%|███████████████████████████████████████████████████████████████████████████████████████| 2500/2500 [00:08<00:00, 299.61it/s]\n"
     ]
    },
    {
     "name": "stdout",
     "output_type": "stream",
     "text": [
      "Epoch 33, Train Loss 0.8234181012392044, Train Acc 72.49\n"
     ]
    },
    {
     "name": "stderr",
     "output_type": "stream",
     "text": [
      "100%|███████████████████████████████████████████████████████████████████████████████████████| 2500/2500 [00:22<00:00, 112.15it/s]\n",
      "100%|███████████████████████████████████████████████████████████████████████████████████████| 2500/2500 [00:08<00:00, 298.22it/s]\n"
     ]
    },
    {
     "name": "stdout",
     "output_type": "stream",
     "text": [
      "Epoch 34, Train Loss 0.8113491651654243, Train Acc 72.56\n"
     ]
    },
    {
     "name": "stderr",
     "output_type": "stream",
     "text": [
      "100%|███████████████████████████████████████████████████████████████████████████████████████| 2500/2500 [00:22<00:00, 110.89it/s]\n",
      "100%|███████████████████████████████████████████████████████████████████████████████████████| 2500/2500 [00:08<00:00, 298.70it/s]\n"
     ]
    },
    {
     "name": "stdout",
     "output_type": "stream",
     "text": [
      "Epoch 35, Train Loss 0.8050242069721222, Train Acc 72.782\n"
     ]
    },
    {
     "name": "stderr",
     "output_type": "stream",
     "text": [
      "100%|███████████████████████████████████████████████████████████████████████████████████████| 2500/2500 [00:22<00:00, 112.80it/s]\n",
      "100%|███████████████████████████████████████████████████████████████████████████████████████| 2500/2500 [00:08<00:00, 300.34it/s]\n"
     ]
    },
    {
     "name": "stdout",
     "output_type": "stream",
     "text": [
      "Epoch 36, Train Loss 0.8048526182234287, Train Acc 72.678\n"
     ]
    },
    {
     "name": "stderr",
     "output_type": "stream",
     "text": [
      "100%|███████████████████████████████████████████████████████████████████████████████████████| 2500/2500 [00:22<00:00, 110.89it/s]\n",
      "100%|███████████████████████████████████████████████████████████████████████████████████████| 2500/2500 [00:08<00:00, 298.79it/s]\n"
     ]
    },
    {
     "name": "stdout",
     "output_type": "stream",
     "text": [
      "Epoch 37, Train Loss 0.80424421210289, Train Acc 73.834\n"
     ]
    },
    {
     "name": "stderr",
     "output_type": "stream",
     "text": [
      "100%|███████████████████████████████████████████████████████████████████████████████████████| 2500/2500 [00:22<00:00, 111.28it/s]\n",
      "100%|███████████████████████████████████████████████████████████████████████████████████████| 2500/2500 [00:08<00:00, 299.63it/s]\n"
     ]
    },
    {
     "name": "stdout",
     "output_type": "stream",
     "text": [
      "Epoch 38, Train Loss 0.8003241859793663, Train Acc 73.002\n"
     ]
    },
    {
     "name": "stderr",
     "output_type": "stream",
     "text": [
      "100%|███████████████████████████████████████████████████████████████████████████████████████| 2500/2500 [00:22<00:00, 110.73it/s]\n",
      "100%|███████████████████████████████████████████████████████████████████████████████████████| 2500/2500 [00:08<00:00, 298.97it/s]\n"
     ]
    },
    {
     "name": "stdout",
     "output_type": "stream",
     "text": [
      "Epoch 39, Train Loss 0.7952657524108887, Train Acc 73.066\n"
     ]
    },
    {
     "name": "stderr",
     "output_type": "stream",
     "text": [
      "100%|███████████████████████████████████████████████████████████████████████████████████████| 2500/2500 [00:22<00:00, 111.49it/s]\n",
      "100%|███████████████████████████████████████████████████████████████████████████████████████| 2500/2500 [00:08<00:00, 300.49it/s]\n"
     ]
    },
    {
     "name": "stdout",
     "output_type": "stream",
     "text": [
      "Epoch 40, Train Loss 0.7950558718293905, Train Acc 73.958\n"
     ]
    },
    {
     "name": "stderr",
     "output_type": "stream",
     "text": [
      "100%|███████████████████████████████████████████████████████████████████████████████████████| 2500/2500 [00:22<00:00, 112.38it/s]\n",
      "100%|███████████████████████████████████████████████████████████████████████████████████████| 2500/2500 [00:08<00:00, 298.63it/s]\n"
     ]
    },
    {
     "name": "stdout",
     "output_type": "stream",
     "text": [
      "Epoch 41, Train Loss 0.7928394308149814, Train Acc 73.454\n"
     ]
    },
    {
     "name": "stderr",
     "output_type": "stream",
     "text": [
      "100%|███████████████████████████████████████████████████████████████████████████████████████| 2500/2500 [00:22<00:00, 110.22it/s]\n",
      "100%|███████████████████████████████████████████████████████████████████████████████████████| 2500/2500 [00:08<00:00, 298.57it/s]\n"
     ]
    },
    {
     "name": "stdout",
     "output_type": "stream",
     "text": [
      "Epoch 42, Train Loss 0.7923310320198536, Train Acc 72.548\n"
     ]
    },
    {
     "name": "stderr",
     "output_type": "stream",
     "text": [
      "100%|███████████████████████████████████████████████████████████████████████████████████████| 2500/2500 [00:22<00:00, 111.25it/s]\n",
      "100%|███████████████████████████████████████████████████████████████████████████████████████| 2500/2500 [00:08<00:00, 299.29it/s]\n"
     ]
    },
    {
     "name": "stdout",
     "output_type": "stream",
     "text": [
      "Epoch 43, Train Loss 0.7874132122278213, Train Acc 74.516\n"
     ]
    },
    {
     "name": "stderr",
     "output_type": "stream",
     "text": [
      "100%|███████████████████████████████████████████████████████████████████████████████████████| 2500/2500 [00:22<00:00, 112.17it/s]\n",
      "100%|███████████████████████████████████████████████████████████████████████████████████████| 2500/2500 [00:08<00:00, 299.61it/s]\n"
     ]
    },
    {
     "name": "stdout",
     "output_type": "stream",
     "text": [
      "Epoch 44, Train Loss 0.7822324829101562, Train Acc 73.638\n"
     ]
    },
    {
     "name": "stderr",
     "output_type": "stream",
     "text": [
      "100%|███████████████████████████████████████████████████████████████████████████████████████| 2500/2500 [00:22<00:00, 109.86it/s]\n",
      "100%|███████████████████████████████████████████████████████████████████████████████████████| 2500/2500 [00:08<00:00, 299.20it/s]\n"
     ]
    },
    {
     "name": "stdout",
     "output_type": "stream",
     "text": [
      "Epoch 45, Train Loss 0.7797397720217705, Train Acc 74.246\n"
     ]
    },
    {
     "name": "stderr",
     "output_type": "stream",
     "text": [
      "100%|███████████████████████████████████████████████████████████████████████████████████████| 2500/2500 [00:22<00:00, 111.20it/s]\n",
      "100%|███████████████████████████████████████████████████████████████████████████████████████| 2500/2500 [00:08<00:00, 298.92it/s]\n"
     ]
    },
    {
     "name": "stdout",
     "output_type": "stream",
     "text": [
      "Epoch 46, Train Loss 0.7755527849555015, Train Acc 73.706\n"
     ]
    },
    {
     "name": "stderr",
     "output_type": "stream",
     "text": [
      "100%|███████████████████████████████████████████████████████████████████████████████████████| 2500/2500 [00:22<00:00, 110.60it/s]\n",
      "100%|███████████████████████████████████████████████████████████████████████████████████████| 2500/2500 [00:08<00:00, 299.00it/s]\n"
     ]
    },
    {
     "name": "stdout",
     "output_type": "stream",
     "text": [
      "Epoch 47, Train Loss 0.7687217115104198, Train Acc 74.556\n"
     ]
    },
    {
     "name": "stderr",
     "output_type": "stream",
     "text": [
      "100%|███████████████████████████████████████████████████████████████████████████████████████| 2500/2500 [00:22<00:00, 110.89it/s]\n",
      "100%|███████████████████████████████████████████████████████████████████████████████████████| 2500/2500 [00:08<00:00, 298.77it/s]\n"
     ]
    },
    {
     "name": "stdout",
     "output_type": "stream",
     "text": [
      "Epoch 48, Train Loss 0.7755873042285443, Train Acc 73.206\n"
     ]
    },
    {
     "name": "stderr",
     "output_type": "stream",
     "text": [
      "100%|███████████████████████████████████████████████████████████████████████████████████████| 2500/2500 [00:22<00:00, 110.44it/s]\n",
      "100%|███████████████████████████████████████████████████████████████████████████████████████| 2500/2500 [00:08<00:00, 298.59it/s]\n"
     ]
    },
    {
     "name": "stdout",
     "output_type": "stream",
     "text": [
      "Epoch 49, Train Loss 0.7645300450325012, Train Acc 73.874\n"
     ]
    },
    {
     "name": "stderr",
     "output_type": "stream",
     "text": [
      "100%|███████████████████████████████████████████████████████████████████████████████████████| 2500/2500 [00:22<00:00, 111.77it/s]\n",
      "100%|███████████████████████████████████████████████████████████████████████████████████████| 2500/2500 [00:08<00:00, 299.41it/s]"
     ]
    },
    {
     "name": "stdout",
     "output_type": "stream",
     "text": [
      "Epoch 50, Train Loss 0.7688073013603687, Train Acc 73.496\n"
     ]
    },
    {
     "name": "stderr",
     "output_type": "stream",
     "text": [
      "\n"
     ]
    }
   ],
   "source": [
    "cnn = CNN().to(device)\n",
    "optimizer = torch.optim.Adam(params=cnn.parameters(), lr=0.001)\n",
    "cnn_adam_loss, cnn_adam_acc = train(cnn, n_epochs)"
   ]
  },
  {
   "cell_type": "code",
   "execution_count": 33,
   "id": "dbb4531a",
   "metadata": {
    "pycharm": {
     "name": "#%%\n"
    }
   },
   "outputs": [
    {
     "data": {
      "image/png": "[encoded data removed]",
      "text/plain": [
       "<Figure size 864x360 with 1 Axes>"
      ]
     },
     "metadata": {
      "needs_background": "light"
     },
     "output_type": "display_data"
    },
    {
     "data": {
      "image/png": "[encoded data removed]",
      "text/plain": [
       "<Figure size 864x360 with 1 Axes>"
      ]
     },
     "metadata": {
      "needs_background": "light"
     },
     "output_type": "display_data"
    }
   ],
   "source": [
    "plot_loss_and_acc({\n",
    "    \"sgd\": [cnn_loss, cnn_acc],\n",
    "    \"adam\": [cnn_adam_loss, cnn_adam_acc]\n",
    "})"
   ]
  },
  {
   "cell_type": "code",
   "execution_count": null,
   "id": "ed7e6a8b",
   "metadata": {
    "pycharm": {
     "name": "#%%\n"
    }
   },
   "outputs": [],
   "source": []
  },
  {
   "cell_type": "markdown",
   "id": "cd1640d1",
   "metadata": {
    "pycharm": {
     "name": "#%% md\n"
    }
   },
   "source": [
    "### 增加模型层数"
   ]
  },
  {
   "cell_type": "code",
   "execution_count": 15,
   "id": "5f286bb5",
   "metadata": {
    "pycharm": {
     "name": "#%%\n"
    }
   },
   "outputs": [],
   "source": [
    "class CNNNew(nn.Module):\n",
    "    def __init__(self):\n",
    "        super(CNNNew, self).__init__()\n",
    "        self.conv1 = nn.Conv2d(3, 6, 5)      # 6 * 28 * 28\n",
    "        self.pool1 = nn.MaxPool2d(2)         # 6 * 14 * 14\n",
    "        self.conv2 = nn.Conv2d(6, 16, 3)     # 16 * 12 * 12\n",
    "        self.pool2 = nn.MaxPool2d(2)         # 16 * 6 * 6\n",
    "        self.conv3 = nn.Conv2d(16, 64, 3)    # 64 * 4 * 4\n",
    "        self.pool3 = nn.MaxPool2d(2)         # 64 * 2 * 2\n",
    "        self.fc1 = nn.Linear(64 * 2 * 2 , 2048)\n",
    "        self.fc2 = nn.Linear(2048, 512)\n",
    "        self.fc3 = nn.Linear(512, 256)\n",
    "        self.fc4 = nn.Linear(256, 10)\n",
    "        \n",
    "    \n",
    "    def forward(self, x):\n",
    "        x = self.pool1(F.relu(self.conv1(x)))\n",
    "        x = self.pool2((self.conv2(x)))\n",
    "        x = self.pool3(F.relu(self.conv3(x)))\n",
    "        x = x.view(-1, 64 * 2 * 2)\n",
    "        x = F.relu(self.fc1(x))\n",
    "        x = F.relu(self.fc2(x))\n",
    "        x = F.dropout(x, 0.3)                # 增加dropout层\n",
    "        x = F.relu(self.fc3(x))\n",
    "        x = self.fc4(x)\n",
    "        return x\n",
    "        "
   ]
  },
  {
   "cell_type": "code",
   "execution_count": 16,
   "id": "ce4a0d18",
   "metadata": {
    "scrolled": true,
    "pycharm": {
     "name": "#%%\n"
    }
   },
   "outputs": [
    {
     "name": "stderr",
     "output_type": "stream",
     "text": [
      "100%|████████████████████████████████████████████████████████████████████████████████████████| 2500/2500 [00:27<00:00, 91.85it/s]\n",
      "100%|███████████████████████████████████████████████████████████████████████████████████████| 2500/2500 [00:10<00:00, 246.00it/s]\n"
     ]
    },
    {
     "name": "stdout",
     "output_type": "stream",
     "text": [
      "Epoch 1, Train Loss 2.061218046474457, Train Acc 32.388\n"
     ]
    },
    {
     "name": "stderr",
     "output_type": "stream",
     "text": [
      "100%|████████████████████████████████████████████████████████████████████████████████████████| 2500/2500 [00:27<00:00, 91.62it/s]\n",
      "100%|███████████████████████████████████████████████████████████████████████████████████████| 2500/2500 [00:10<00:00, 245.55it/s]\n"
     ]
    },
    {
     "name": "stdout",
     "output_type": "stream",
     "text": [
      "Epoch 2, Train Loss 1.6921974448680879, Train Acc 41.474\n"
     ]
    },
    {
     "name": "stderr",
     "output_type": "stream",
     "text": [
      "100%|████████████████████████████████████████████████████████████████████████████████████████| 2500/2500 [00:27<00:00, 91.62it/s]\n",
      "100%|███████████████████████████████████████████████████████████████████████████████████████| 2500/2500 [00:10<00:00, 245.84it/s]\n"
     ]
    },
    {
     "name": "stdout",
     "output_type": "stream",
     "text": [
      "Epoch 3, Train Loss 1.524763755941391, Train Acc 47.206\n"
     ]
    },
    {
     "name": "stderr",
     "output_type": "stream",
     "text": [
      "100%|████████████████████████████████████████████████████████████████████████████████████████| 2500/2500 [00:27<00:00, 91.72it/s]\n",
      "100%|███████████████████████████████████████████████████████████████████████████████████████| 2500/2500 [00:10<00:00, 246.59it/s]\n"
     ]
    },
    {
     "name": "stdout",
     "output_type": "stream",
     "text": [
      "Epoch 4, Train Loss 1.4182450795173644, Train Acc 49.402\n"
     ]
    },
    {
     "name": "stderr",
     "output_type": "stream",
     "text": [
      "100%|████████████████████████████████████████████████████████████████████████████████████████| 2500/2500 [00:27<00:00, 91.89it/s]\n",
      "100%|███████████████████████████████████████████████████████████████████████████████████████| 2500/2500 [00:10<00:00, 246.64it/s]\n"
     ]
    },
    {
     "name": "stdout",
     "output_type": "stream",
     "text": [
      "Epoch 5, Train Loss 1.3457286971092224, Train Acc 53.376\n"
     ]
    },
    {
     "name": "stderr",
     "output_type": "stream",
     "text": [
      "100%|████████████████████████████████████████████████████████████████████████████████████████| 2500/2500 [00:27<00:00, 90.90it/s]\n",
      "100%|███████████████████████████████████████████████████████████████████████████████████████| 2500/2500 [00:10<00:00, 241.57it/s]\n"
     ]
    },
    {
     "name": "stdout",
     "output_type": "stream",
     "text": [
      "Epoch 6, Train Loss 1.2824912640094757, Train Acc 56.474\n"
     ]
    },
    {
     "name": "stderr",
     "output_type": "stream",
     "text": [
      "100%|████████████████████████████████████████████████████████████████████████████████████████| 2500/2500 [00:27<00:00, 91.46it/s]\n",
      "100%|███████████████████████████████████████████████████████████████████████████████████████| 2500/2500 [00:10<00:00, 246.10it/s]\n"
     ]
    },
    {
     "name": "stdout",
     "output_type": "stream",
     "text": [
      "Epoch 7, Train Loss 1.2274520064353942, Train Acc 58.464\n"
     ]
    },
    {
     "name": "stderr",
     "output_type": "stream",
     "text": [
      "100%|████████████████████████████████████████████████████████████████████████████████████████| 2500/2500 [00:27<00:00, 91.68it/s]\n",
      "100%|███████████████████████████████████████████████████████████████████████████████████████| 2500/2500 [00:10<00:00, 246.68it/s]\n"
     ]
    },
    {
     "name": "stdout",
     "output_type": "stream",
     "text": [
      "Epoch 8, Train Loss 1.1875152799606323, Train Acc 57.978\n"
     ]
    },
    {
     "name": "stderr",
     "output_type": "stream",
     "text": [
      "100%|████████████████████████████████████████████████████████████████████████████████████████| 2500/2500 [00:27<00:00, 90.64it/s]\n",
      "100%|███████████████████████████████████████████████████████████████████████████████████████| 2500/2500 [00:10<00:00, 238.21it/s]\n"
     ]
    },
    {
     "name": "stdout",
     "output_type": "stream",
     "text": [
      "Epoch 9, Train Loss 1.1473888678073882, Train Acc 60.152\n"
     ]
    },
    {
     "name": "stderr",
     "output_type": "stream",
     "text": [
      "100%|████████████████████████████████████████████████████████████████████████████████████████| 2500/2500 [00:27<00:00, 90.37it/s]\n",
      "100%|███████████████████████████████████████████████████████████████████████████████████████| 2500/2500 [00:10<00:00, 244.13it/s]\n"
     ]
    },
    {
     "name": "stdout",
     "output_type": "stream",
     "text": [
      "Epoch 10, Train Loss 1.1173388466238976, Train Acc 59.884\n"
     ]
    },
    {
     "name": "stderr",
     "output_type": "stream",
     "text": [
      "100%|████████████████████████████████████████████████████████████████████████████████████████| 2500/2500 [00:27<00:00, 89.75it/s]\n",
      "100%|███████████████████████████████████████████████████████████████████████████████████████| 2500/2500 [00:10<00:00, 244.23it/s]\n"
     ]
    },
    {
     "name": "stdout",
     "output_type": "stream",
     "text": [
      "Epoch 11, Train Loss 1.0862874094843864, Train Acc 62.7\n"
     ]
    },
    {
     "name": "stderr",
     "output_type": "stream",
     "text": [
      "100%|████████████████████████████████████████████████████████████████████████████████████████| 2500/2500 [00:27<00:00, 90.87it/s]\n",
      "100%|███████████████████████████████████████████████████████████████████████████████████████| 2500/2500 [00:10<00:00, 244.87it/s]\n"
     ]
    },
    {
     "name": "stdout",
     "output_type": "stream",
     "text": [
      "Epoch 12, Train Loss 1.0604550121188163, Train Acc 62.984\n"
     ]
    },
    {
     "name": "stderr",
     "output_type": "stream",
     "text": [
      "100%|████████████████████████████████████████████████████████████████████████████████████████| 2500/2500 [00:27<00:00, 90.68it/s]\n",
      "100%|███████████████████████████████████████████████████████████████████████████████████████| 2500/2500 [00:10<00:00, 245.62it/s]\n"
     ]
    },
    {
     "name": "stdout",
     "output_type": "stream",
     "text": [
      "Epoch 13, Train Loss 1.0357058205723761, Train Acc 63.796\n"
     ]
    },
    {
     "name": "stderr",
     "output_type": "stream",
     "text": [
      "100%|████████████████████████████████████████████████████████████████████████████████████████| 2500/2500 [00:27<00:00, 90.95it/s]\n",
      "100%|███████████████████████████████████████████████████████████████████████████████████████| 2500/2500 [00:10<00:00, 245.99it/s]\n"
     ]
    },
    {
     "name": "stdout",
     "output_type": "stream",
     "text": [
      "Epoch 14, Train Loss 1.0082539036750793, Train Acc 65.436\n"
     ]
    },
    {
     "name": "stderr",
     "output_type": "stream",
     "text": [
      "100%|████████████████████████████████████████████████████████████████████████████████████████| 2500/2500 [00:27<00:00, 90.97it/s]\n",
      "100%|███████████████████████████████████████████████████████████████████████████████████████| 2500/2500 [00:10<00:00, 245.14it/s]\n"
     ]
    },
    {
     "name": "stdout",
     "output_type": "stream",
     "text": [
      "Epoch 15, Train Loss 0.992057300722599, Train Acc 66.204\n"
     ]
    },
    {
     "name": "stderr",
     "output_type": "stream",
     "text": [
      "100%|████████████████████████████████████████████████████████████████████████████████████████| 2500/2500 [00:27<00:00, 91.45it/s]\n",
      "100%|███████████████████████████████████████████████████████████████████████████████████████| 2500/2500 [00:10<00:00, 244.87it/s]\n"
     ]
    },
    {
     "name": "stdout",
     "output_type": "stream",
     "text": [
      "Epoch 16, Train Loss 0.9693211829543114, Train Acc 65.844\n"
     ]
    },
    {
     "name": "stderr",
     "output_type": "stream",
     "text": [
      "100%|████████████████████████████████████████████████████████████████████████████████████████| 2500/2500 [00:27<00:00, 91.47it/s]\n",
      "100%|███████████████████████████████████████████████████████████████████████████████████████| 2500/2500 [00:10<00:00, 244.93it/s]\n"
     ]
    },
    {
     "name": "stdout",
     "output_type": "stream",
     "text": [
      "Epoch 17, Train Loss 0.951140228664875, Train Acc 67.354\n"
     ]
    },
    {
     "name": "stderr",
     "output_type": "stream",
     "text": [
      "100%|████████████████████████████████████████████████████████████████████████████████████████| 2500/2500 [00:27<00:00, 91.61it/s]\n",
      "100%|███████████████████████████████████████████████████████████████████████████████████████| 2500/2500 [00:10<00:00, 245.93it/s]\n"
     ]
    },
    {
     "name": "stdout",
     "output_type": "stream",
     "text": [
      "Epoch 18, Train Loss 0.9368535845518112, Train Acc 67.328\n"
     ]
    },
    {
     "name": "stderr",
     "output_type": "stream",
     "text": [
      "100%|████████████████████████████████████████████████████████████████████████████████████████| 2500/2500 [00:27<00:00, 91.39it/s]\n",
      "100%|███████████████████████████████████████████████████████████████████████████████████████| 2500/2500 [00:10<00:00, 245.83it/s]\n"
     ]
    },
    {
     "name": "stdout",
     "output_type": "stream",
     "text": [
      "Epoch 19, Train Loss 0.9176787162542344, Train Acc 67.992\n"
     ]
    },
    {
     "name": "stderr",
     "output_type": "stream",
     "text": [
      "100%|████████████████████████████████████████████████████████████████████████████████████████| 2500/2500 [00:27<00:00, 91.46it/s]\n",
      "100%|███████████████████████████████████████████████████████████████████████████████████████| 2500/2500 [00:10<00:00, 245.47it/s]\n"
     ]
    },
    {
     "name": "stdout",
     "output_type": "stream",
     "text": [
      "Epoch 20, Train Loss 0.9039349716305732, Train Acc 67.128\n"
     ]
    },
    {
     "name": "stderr",
     "output_type": "stream",
     "text": [
      "100%|████████████████████████████████████████████████████████████████████████████████████████| 2500/2500 [00:27<00:00, 91.10it/s]\n",
      "100%|███████████████████████████████████████████████████████████████████████████████████████| 2500/2500 [00:10<00:00, 245.50it/s]\n"
     ]
    },
    {
     "name": "stdout",
     "output_type": "stream",
     "text": [
      "Epoch 21, Train Loss 0.8901331462025642, Train Acc 68.202\n"
     ]
    },
    {
     "name": "stderr",
     "output_type": "stream",
     "text": [
      "100%|████████████████████████████████████████████████████████████████████████████████████████| 2500/2500 [00:27<00:00, 91.06it/s]\n",
      "100%|███████████████████████████████████████████████████████████████████████████████████████| 2500/2500 [00:10<00:00, 246.47it/s]\n"
     ]
    },
    {
     "name": "stdout",
     "output_type": "stream",
     "text": [
      "Epoch 22, Train Loss 0.876839220237732, Train Acc 70.126\n"
     ]
    },
    {
     "name": "stderr",
     "output_type": "stream",
     "text": [
      "100%|████████████████████████████████████████████████████████████████████████████████████████| 2500/2500 [00:27<00:00, 90.98it/s]\n",
      "100%|███████████████████████████████████████████████████████████████████████████████████████| 2500/2500 [00:10<00:00, 245.28it/s]\n"
     ]
    },
    {
     "name": "stdout",
     "output_type": "stream",
     "text": [
      "Epoch 23, Train Loss 0.873547902739048, Train Acc 70.628\n"
     ]
    },
    {
     "name": "stderr",
     "output_type": "stream",
     "text": [
      "100%|████████████████████████████████████████████████████████████████████████████████████████| 2500/2500 [00:27<00:00, 91.65it/s]\n",
      "100%|███████████████████████████████████████████████████████████████████████████████████████| 2500/2500 [00:10<00:00, 244.88it/s]\n"
     ]
    },
    {
     "name": "stdout",
     "output_type": "stream",
     "text": [
      "Epoch 24, Train Loss 0.8627936824083329, Train Acc 70.28\n"
     ]
    },
    {
     "name": "stderr",
     "output_type": "stream",
     "text": [
      "100%|████████████████████████████████████████████████████████████████████████████████████████| 2500/2500 [00:27<00:00, 91.03it/s]\n",
      "100%|███████████████████████████████████████████████████████████████████████████████████████| 2500/2500 [00:10<00:00, 245.07it/s]\n"
     ]
    },
    {
     "name": "stdout",
     "output_type": "stream",
     "text": [
      "Epoch 25, Train Loss 0.854868869382143, Train Acc 71.28\n"
     ]
    },
    {
     "name": "stderr",
     "output_type": "stream",
     "text": [
      "100%|████████████████████████████████████████████████████████████████████████████████████████| 2500/2500 [00:27<00:00, 91.07it/s]\n",
      "100%|███████████████████████████████████████████████████████████████████████████████████████| 2500/2500 [00:10<00:00, 245.53it/s]\n"
     ]
    },
    {
     "name": "stdout",
     "output_type": "stream",
     "text": [
      "Epoch 26, Train Loss 0.8361197281062603, Train Acc 71.52\n"
     ]
    },
    {
     "name": "stderr",
     "output_type": "stream",
     "text": [
      "100%|████████████████████████████████████████████████████████████████████████████████████████| 2500/2500 [00:27<00:00, 91.02it/s]\n",
      "100%|███████████████████████████████████████████████████████████████████████████████████████| 2500/2500 [00:10<00:00, 243.61it/s]\n"
     ]
    },
    {
     "name": "stdout",
     "output_type": "stream",
     "text": [
      "Epoch 27, Train Loss 0.8284366745710373, Train Acc 71.28\n"
     ]
    },
    {
     "name": "stderr",
     "output_type": "stream",
     "text": [
      "100%|████████████████████████████████████████████████████████████████████████████████████████| 2500/2500 [00:27<00:00, 91.21it/s]\n",
      "100%|███████████████████████████████████████████████████████████████████████████████████████| 2500/2500 [00:10<00:00, 244.91it/s]\n"
     ]
    },
    {
     "name": "stdout",
     "output_type": "stream",
     "text": [
      "Epoch 28, Train Loss 0.8203815553724766, Train Acc 72.066\n"
     ]
    },
    {
     "name": "stderr",
     "output_type": "stream",
     "text": [
      "100%|████████████████████████████████████████████████████████████████████████████████████████| 2500/2500 [00:27<00:00, 91.26it/s]\n",
      "100%|███████████████████████████████████████████████████████████████████████████████████████| 2500/2500 [00:10<00:00, 245.49it/s]\n"
     ]
    },
    {
     "name": "stdout",
     "output_type": "stream",
     "text": [
      "Epoch 29, Train Loss 0.8091612487792968, Train Acc 72.316\n"
     ]
    },
    {
     "name": "stderr",
     "output_type": "stream",
     "text": [
      "100%|████████████████████████████████████████████████████████████████████████████████████████| 2500/2500 [00:27<00:00, 92.11it/s]\n",
      "100%|███████████████████████████████████████████████████████████████████████████████████████| 2500/2500 [00:10<00:00, 245.06it/s]\n"
     ]
    },
    {
     "name": "stdout",
     "output_type": "stream",
     "text": [
      "Epoch 30, Train Loss 0.799300690639019, Train Acc 71.89\n"
     ]
    },
    {
     "name": "stderr",
     "output_type": "stream",
     "text": [
      "100%|████████████████████████████████████████████████████████████████████████████████████████| 2500/2500 [00:27<00:00, 91.51it/s]\n",
      "100%|███████████████████████████████████████████████████████████████████████████████████████| 2500/2500 [00:10<00:00, 245.15it/s]\n"
     ]
    },
    {
     "name": "stdout",
     "output_type": "stream",
     "text": [
      "Epoch 31, Train Loss 0.7956077742397785, Train Acc 72.328\n"
     ]
    },
    {
     "name": "stderr",
     "output_type": "stream",
     "text": [
      "100%|████████████████████████████████████████████████████████████████████████████████████████| 2500/2500 [00:27<00:00, 91.23it/s]\n",
      "100%|███████████████████████████████████████████████████████████████████████████████████████| 2500/2500 [00:10<00:00, 245.58it/s]\n"
     ]
    },
    {
     "name": "stdout",
     "output_type": "stream",
     "text": [
      "Epoch 32, Train Loss 0.7882019246697426, Train Acc 72.942\n"
     ]
    },
    {
     "name": "stderr",
     "output_type": "stream",
     "text": [
      "100%|████████████████████████████████████████████████████████████████████████████████████████| 2500/2500 [00:27<00:00, 90.36it/s]\n",
      "100%|███████████████████████████████████████████████████████████████████████████████████████| 2500/2500 [00:10<00:00, 245.62it/s]\n"
     ]
    },
    {
     "name": "stdout",
     "output_type": "stream",
     "text": [
      "Epoch 33, Train Loss 0.7768315303266048, Train Acc 73.828\n"
     ]
    },
    {
     "name": "stderr",
     "output_type": "stream",
     "text": [
      "100%|████████████████████████████████████████████████████████████████████████████████████████| 2500/2500 [00:27<00:00, 90.53it/s]\n",
      "100%|███████████████████████████████████████████████████████████████████████████████████████| 2500/2500 [00:10<00:00, 243.60it/s]\n"
     ]
    },
    {
     "name": "stdout",
     "output_type": "stream",
     "text": [
      "Epoch 34, Train Loss 0.7715563405215741, Train Acc 73.196\n"
     ]
    },
    {
     "name": "stderr",
     "output_type": "stream",
     "text": [
      "100%|████████████████████████████████████████████████████████████████████████████████████████| 2500/2500 [00:27<00:00, 91.36it/s]\n",
      "100%|███████████████████████████████████████████████████████████████████████████████████████| 2500/2500 [00:10<00:00, 246.99it/s]\n"
     ]
    },
    {
     "name": "stdout",
     "output_type": "stream",
     "text": [
      "Epoch 35, Train Loss 0.7687709989726543, Train Acc 73.476\n"
     ]
    },
    {
     "name": "stderr",
     "output_type": "stream",
     "text": [
      "100%|████████████████████████████████████████████████████████████████████████████████████████| 2500/2500 [00:27<00:00, 91.50it/s]\n",
      "100%|███████████████████████████████████████████████████████████████████████████████████████| 2500/2500 [00:10<00:00, 245.89it/s]\n"
     ]
    },
    {
     "name": "stdout",
     "output_type": "stream",
     "text": [
      "Epoch 36, Train Loss 0.7573051664173603, Train Acc 73.606\n"
     ]
    },
    {
     "name": "stderr",
     "output_type": "stream",
     "text": [
      "100%|████████████████████████████████████████████████████████████████████████████████████████| 2500/2500 [00:27<00:00, 90.78it/s]\n",
      "100%|███████████████████████████████████████████████████████████████████████████████████████| 2500/2500 [00:10<00:00, 245.02it/s]\n"
     ]
    },
    {
     "name": "stdout",
     "output_type": "stream",
     "text": [
      "Epoch 37, Train Loss 0.7535816008985042, Train Acc 73.65\n"
     ]
    },
    {
     "name": "stderr",
     "output_type": "stream",
     "text": [
      "100%|████████████████████████████████████████████████████████████████████████████████████████| 2500/2500 [00:27<00:00, 91.41it/s]\n",
      "100%|███████████████████████████████████████████████████████████████████████████████████████| 2500/2500 [00:10<00:00, 245.46it/s]\n"
     ]
    },
    {
     "name": "stdout",
     "output_type": "stream",
     "text": [
      "Epoch 38, Train Loss 0.7443898680895566, Train Acc 75.202\n"
     ]
    },
    {
     "name": "stderr",
     "output_type": "stream",
     "text": [
      "100%|████████████████████████████████████████████████████████████████████████████████████████| 2500/2500 [00:27<00:00, 91.30it/s]\n",
      "100%|███████████████████████████████████████████████████████████████████████████████████████| 2500/2500 [00:10<00:00, 245.31it/s]\n"
     ]
    },
    {
     "name": "stdout",
     "output_type": "stream",
     "text": [
      "Epoch 39, Train Loss 0.734904486989975, Train Acc 74.544\n"
     ]
    },
    {
     "name": "stderr",
     "output_type": "stream",
     "text": [
      "100%|████████████████████████████████████████████████████████████████████████████████████████| 2500/2500 [00:27<00:00, 91.47it/s]\n",
      "100%|███████████████████████████████████████████████████████████████████████████████████████| 2500/2500 [00:10<00:00, 245.44it/s]\n"
     ]
    },
    {
     "name": "stdout",
     "output_type": "stream",
     "text": [
      "Epoch 40, Train Loss 0.7309228350937367, Train Acc 75.104\n"
     ]
    },
    {
     "name": "stderr",
     "output_type": "stream",
     "text": [
      "100%|████████████████████████████████████████████████████████████████████████████████████████| 2500/2500 [00:27<00:00, 91.70it/s]\n",
      "100%|███████████████████████████████████████████████████████████████████████████████████████| 2500/2500 [00:10<00:00, 245.64it/s]\n"
     ]
    },
    {
     "name": "stdout",
     "output_type": "stream",
     "text": [
      "Epoch 41, Train Loss 0.7219025570511818, Train Acc 75.266\n"
     ]
    },
    {
     "name": "stderr",
     "output_type": "stream",
     "text": [
      "100%|████████████████████████████████████████████████████████████████████████████████████████| 2500/2500 [00:27<00:00, 91.37it/s]\n",
      "100%|███████████████████████████████████████████████████████████████████████████████████████| 2500/2500 [00:10<00:00, 245.51it/s]\n"
     ]
    },
    {
     "name": "stdout",
     "output_type": "stream",
     "text": [
      "Epoch 42, Train Loss 0.7232393014073372, Train Acc 75.54\n"
     ]
    },
    {
     "name": "stderr",
     "output_type": "stream",
     "text": [
      "100%|████████████████████████████████████████████████████████████████████████████████████████| 2500/2500 [00:27<00:00, 91.30it/s]\n",
      "100%|███████████████████████████████████████████████████████████████████████████████████████| 2500/2500 [00:10<00:00, 245.18it/s]\n"
     ]
    },
    {
     "name": "stdout",
     "output_type": "stream",
     "text": [
      "Epoch 43, Train Loss 0.7144381363093854, Train Acc 75.38\n"
     ]
    },
    {
     "name": "stderr",
     "output_type": "stream",
     "text": [
      "100%|████████████████████████████████████████████████████████████████████████████████████████| 2500/2500 [00:27<00:00, 89.67it/s]\n",
      "100%|███████████████████████████████████████████████████████████████████████████████████████| 2500/2500 [00:10<00:00, 243.68it/s]\n"
     ]
    },
    {
     "name": "stdout",
     "output_type": "stream",
     "text": [
      "Epoch 44, Train Loss 0.7100751404941082, Train Acc 75.366\n"
     ]
    },
    {
     "name": "stderr",
     "output_type": "stream",
     "text": [
      "100%|████████████████████████████████████████████████████████████████████████████████████████| 2500/2500 [00:27<00:00, 89.99it/s]\n",
      "100%|███████████████████████████████████████████████████████████████████████████████████████| 2500/2500 [00:10<00:00, 245.54it/s]\n"
     ]
    },
    {
     "name": "stdout",
     "output_type": "stream",
     "text": [
      "Epoch 45, Train Loss 0.701216703426838, Train Acc 76.244\n"
     ]
    },
    {
     "name": "stderr",
     "output_type": "stream",
     "text": [
      "100%|████████████████████████████████████████████████████████████████████████████████████████| 2500/2500 [00:27<00:00, 91.09it/s]\n",
      "100%|███████████████████████████████████████████████████████████████████████████████████████| 2500/2500 [00:10<00:00, 244.89it/s]\n"
     ]
    },
    {
     "name": "stdout",
     "output_type": "stream",
     "text": [
      "Epoch 46, Train Loss 0.7001410441577435, Train Acc 76.484\n"
     ]
    },
    {
     "name": "stderr",
     "output_type": "stream",
     "text": [
      "100%|████████████████████████████████████████████████████████████████████████████████████████| 2500/2500 [00:27<00:00, 90.87it/s]\n",
      "100%|███████████████████████████████████████████████████████████████████████████████████████| 2500/2500 [00:10<00:00, 242.28it/s]\n"
     ]
    },
    {
     "name": "stdout",
     "output_type": "stream",
     "text": [
      "Epoch 47, Train Loss 0.6994458618760109, Train Acc 76.078\n"
     ]
    },
    {
     "name": "stderr",
     "output_type": "stream",
     "text": [
      "100%|████████████████████████████████████████████████████████████████████████████████████████| 2500/2500 [00:27<00:00, 90.38it/s]\n",
      "100%|███████████████████████████████████████████████████████████████████████████████████████| 2500/2500 [00:10<00:00, 244.79it/s]\n"
     ]
    },
    {
     "name": "stdout",
     "output_type": "stream",
     "text": [
      "Epoch 48, Train Loss 0.689634951877594, Train Acc 76.008\n"
     ]
    },
    {
     "name": "stderr",
     "output_type": "stream",
     "text": [
      "100%|████████████████████████████████████████████████████████████████████████████████████████| 2500/2500 [00:27<00:00, 91.29it/s]\n",
      "100%|███████████████████████████████████████████████████████████████████████████████████████| 2500/2500 [00:10<00:00, 244.78it/s]\n"
     ]
    },
    {
     "name": "stdout",
     "output_type": "stream",
     "text": [
      "Epoch 49, Train Loss 0.6798847847402095, Train Acc 76.496\n"
     ]
    },
    {
     "name": "stderr",
     "output_type": "stream",
     "text": [
      "100%|████████████████████████████████████████████████████████████████████████████████████████| 2500/2500 [00:27<00:00, 91.15it/s]\n",
      "100%|███████████████████████████████████████████████████████████████████████████████████████| 2500/2500 [00:10<00:00, 243.20it/s]\n"
     ]
    },
    {
     "name": "stdout",
     "output_type": "stream",
     "text": [
      "Epoch 50, Train Loss 0.6801970268666744, Train Acc 75.998\n"
     ]
    },
    {
     "name": "stderr",
     "output_type": "stream",
     "text": [
      "100%|█████████████████████████████████████████████████████████████████████████████████████████| 500/500 [00:01<00:00, 283.65it/s]"
     ]
    },
    {
     "name": "stdout",
     "output_type": "stream",
     "text": [
      "Test Acc: 73.13\n"
     ]
    },
    {
     "name": "stderr",
     "output_type": "stream",
     "text": [
      "\n"
     ]
    }
   ],
   "source": [
    "cnn = CNNNew().to(device)\n",
    "criterion = nn.CrossEntropyLoss().to(device)\n",
    "optimizer = torch.optim.SGD(params=cnn.parameters(), lr=0.01, weight_decay=0.0001)\n",
    "cnn_new_loss, cnn_new_acc = train(cnn, n_epochs)\n",
    "print('Test Acc: {}'.format(test(cnn, test_loader)))"
   ]
  },
  {
   "cell_type": "code",
   "execution_count": 34,
   "id": "5c665534",
   "metadata": {
    "pycharm": {
     "name": "#%%\n"
    }
   },
   "outputs": [
    {
     "data": {
      "image/png": "[encoded data removed]",
      "text/plain": [
       "<Figure size 864x360 with 1 Axes>"
      ]
     },
     "metadata": {
      "needs_background": "light"
     },
     "output_type": "display_data"
    },
    {
     "data": {
      "image/png": "[encoded data removed]",
      "text/plain": [
       "<Figure size 864x360 with 1 Axes>"
      ]
     },
     "metadata": {
      "needs_background": "light"
     },
     "output_type": "display_data"
    }
   ],
   "source": [
    "plot_loss_and_acc({\n",
    "    \"cnn\": [cnn_loss, cnn_acc],\n",
    "    \"new_cnn\": [cnn_new_loss, cnn_new_acc]\n",
    "})"
   ]
  },
  {
   "cell_type": "code",
   "execution_count": null,
   "id": "c43677a8",
   "metadata": {
    "pycharm": {
     "name": "#%%\n"
    }
   },
   "outputs": [],
   "source": []
  },
  {
   "cell_type": "markdown",
   "id": "02baa9cc",
   "metadata": {
    "pycharm": {
     "name": "#%% md\n"
    }
   },
   "source": [
    "### 修改激活函数"
   ]
  },
  {
   "cell_type": "code",
   "execution_count": 18,
   "id": "8a1b624c",
   "metadata": {
    "pycharm": {
     "name": "#%%\n"
    }
   },
   "outputs": [],
   "source": [
    "class CNNTanh(nn.Module):\n",
    "    def __init__(self):\n",
    "        super(CNNTanh, self).__init__()\n",
    "        self.conv1 = nn.Conv2d(3, 6, 5)      # 6 * 28 * 28\n",
    "        self.pool1 = nn.MaxPool2d(2)         # 6 * 14 * 14\n",
    "        self.conv2 = nn.Conv2d(6, 16, 3)     # 16 * 12 * 12\n",
    "        self.pool2 = nn.MaxPool2d(2)         # 16 * 6 * 6\n",
    "        self.conv3 = nn.Conv2d(16, 64, 3)    # 64 * 4 * 4\n",
    "        self.pool3 = nn.MaxPool2d(2)         # 64 * 2 * 2\n",
    "        self.fc1 = nn.Linear(64 * 2 * 2 , 1024)\n",
    "        self.fc2 = nn.Linear(1024, 256)\n",
    "        self.fc3 = nn.Linear(256, 10)\n",
    "        \n",
    "    \n",
    "    def forward(self, x):\n",
    "        x = self.pool1(F.relu(self.conv1(x)))\n",
    "        x = self.pool2((self.conv2(x)))\n",
    "        x = self.pool3(F.relu(self.conv3(x)))\n",
    "        x = x.view(-1, 64 * 2 * 2)\n",
    "        x = F.tanh(self.fc1(x))\n",
    "        x = F.tanh(self.fc2(x))\n",
    "        x = self.fc3(x)\n",
    "        return x"
   ]
  },
  {
   "cell_type": "code",
   "execution_count": 19,
   "id": "61754a15",
   "metadata": {
    "pycharm": {
     "name": "#%%\n"
    }
   },
   "outputs": [
    {
     "name": "stderr",
     "output_type": "stream",
     "text": [
      "  0%|                                                                                                   | 0/2500 [00:00<?, ?it/s]/Users/chaoxiong.yang/opt/anaconda3/lib/python3.9/site-packages/torch/nn/functional.py:1949: UserWarning: nn.functional.tanh is deprecated. Use torch.tanh instead.\n",
      "  warnings.warn(\"nn.functional.tanh is deprecated. Use torch.tanh instead.\")\n",
      "100%|███████████████████████████████████████████████████████████████████████████████████████| 2500/2500 [00:21<00:00, 116.47it/s]\n",
      "100%|███████████████████████████████████████████████████████████████████████████████████████| 2500/2500 [00:08<00:00, 280.91it/s]\n"
     ]
    },
    {
     "name": "stdout",
     "output_type": "stream",
     "text": [
      "Epoch 1, Train Loss 1.8940193250179291, Train Acc 38.048\n"
     ]
    },
    {
     "name": "stderr",
     "output_type": "stream",
     "text": [
      "100%|███████████████████████████████████████████████████████████████████████████████████████| 2500/2500 [00:21<00:00, 118.54it/s]\n",
      "100%|███████████████████████████████████████████████████████████████████████████████████████| 2500/2500 [00:08<00:00, 281.59it/s]\n"
     ]
    },
    {
     "name": "stdout",
     "output_type": "stream",
     "text": [
      "Epoch 2, Train Loss 1.5809888205051421, Train Acc 46.18\n"
     ]
    },
    {
     "name": "stderr",
     "output_type": "stream",
     "text": [
      "100%|███████████████████████████████████████████████████████████████████████████████████████| 2500/2500 [00:21<00:00, 117.11it/s]\n",
      "100%|███████████████████████████████████████████████████████████████████████████████████████| 2500/2500 [00:08<00:00, 281.65it/s]\n"
     ]
    },
    {
     "name": "stdout",
     "output_type": "stream",
     "text": [
      "Epoch 3, Train Loss 1.4430088344573975, Train Acc 47.268\n"
     ]
    },
    {
     "name": "stderr",
     "output_type": "stream",
     "text": [
      "100%|███████████████████████████████████████████████████████████████████████████████████████| 2500/2500 [00:21<00:00, 117.92it/s]\n",
      "100%|███████████████████████████████████████████████████████████████████████████████████████| 2500/2500 [00:08<00:00, 280.45it/s]\n"
     ]
    },
    {
     "name": "stdout",
     "output_type": "stream",
     "text": [
      "Epoch 4, Train Loss 1.3624686031579971, Train Acc 53.378\n"
     ]
    },
    {
     "name": "stderr",
     "output_type": "stream",
     "text": [
      "100%|███████████████████████████████████████████████████████████████████████████████████████| 2500/2500 [00:21<00:00, 116.96it/s]\n",
      "100%|███████████████████████████████████████████████████████████████████████████████████████| 2500/2500 [00:08<00:00, 280.61it/s]\n"
     ]
    },
    {
     "name": "stdout",
     "output_type": "stream",
     "text": [
      "Epoch 5, Train Loss 1.3015382622718812, Train Acc 54.688\n"
     ]
    },
    {
     "name": "stderr",
     "output_type": "stream",
     "text": [
      "100%|███████████████████████████████████████████████████████████████████████████████████████| 2500/2500 [00:21<00:00, 118.59it/s]\n",
      "100%|███████████████████████████████████████████████████████████████████████████████████████| 2500/2500 [00:08<00:00, 279.46it/s]\n"
     ]
    },
    {
     "name": "stdout",
     "output_type": "stream",
     "text": [
      "Epoch 6, Train Loss 1.2518941329956055, Train Acc 55.82\n"
     ]
    },
    {
     "name": "stderr",
     "output_type": "stream",
     "text": [
      "100%|███████████████████████████████████████████████████████████████████████████████████████| 2500/2500 [00:21<00:00, 118.04it/s]\n",
      "100%|███████████████████████████████████████████████████████████████████████████████████████| 2500/2500 [00:08<00:00, 278.98it/s]\n"
     ]
    },
    {
     "name": "stdout",
     "output_type": "stream",
     "text": [
      "Epoch 7, Train Loss 1.2137986455202103, Train Acc 58.702\n"
     ]
    },
    {
     "name": "stderr",
     "output_type": "stream",
     "text": [
      "100%|███████████████████████████████████████████████████████████████████████████████████████| 2500/2500 [00:21<00:00, 116.80it/s]\n",
      "100%|███████████████████████████████████████████████████████████████████████████████████████| 2500/2500 [00:08<00:00, 279.32it/s]\n"
     ]
    },
    {
     "name": "stdout",
     "output_type": "stream",
     "text": [
      "Epoch 8, Train Loss 1.1730347820997238, Train Acc 59.678\n"
     ]
    },
    {
     "name": "stderr",
     "output_type": "stream",
     "text": [
      "100%|███████████████████████████████████████████████████████████████████████████████████████| 2500/2500 [00:21<00:00, 117.61it/s]\n",
      "100%|███████████████████████████████████████████████████████████████████████████████████████| 2500/2500 [00:08<00:00, 278.94it/s]\n"
     ]
    },
    {
     "name": "stdout",
     "output_type": "stream",
     "text": [
      "Epoch 9, Train Loss 1.1446776666045189, Train Acc 60.866\n"
     ]
    },
    {
     "name": "stderr",
     "output_type": "stream",
     "text": [
      "100%|███████████████████████████████████████████████████████████████████████████████████████| 2500/2500 [00:21<00:00, 117.33it/s]\n",
      "100%|███████████████████████████████████████████████████████████████████████████████████████| 2500/2500 [00:08<00:00, 279.34it/s]\n"
     ]
    },
    {
     "name": "stdout",
     "output_type": "stream",
     "text": [
      "Epoch 10, Train Loss 1.1160673596024513, Train Acc 61.064\n"
     ]
    },
    {
     "name": "stderr",
     "output_type": "stream",
     "text": [
      "100%|███████████████████████████████████████████████████████████████████████████████████████| 2500/2500 [00:21<00:00, 118.49it/s]\n",
      "100%|███████████████████████████████████████████████████████████████████████████████████████| 2500/2500 [00:09<00:00, 277.67it/s]\n"
     ]
    },
    {
     "name": "stdout",
     "output_type": "stream",
     "text": [
      "Epoch 11, Train Loss 1.0927383121967316, Train Acc 62.728\n"
     ]
    },
    {
     "name": "stderr",
     "output_type": "stream",
     "text": [
      "100%|████████████████████████████████████████████████████████████████████████████████████████| 2500/2500 [18:11<00:00,  2.29it/s]\n",
      "100%|████████████████████████████████████████████████████████████████████████████████████████| 2500/2500 [04:52<00:00,  8.56it/s]\n"
     ]
    },
    {
     "name": "stdout",
     "output_type": "stream",
     "text": [
      "Epoch 12, Train Loss 1.0683541803002357, Train Acc 63.352\n"
     ]
    },
    {
     "name": "stderr",
     "output_type": "stream",
     "text": [
      "100%|████████████████████████████████████████████████████████████████████████████████████████| 2500/2500 [15:34<00:00,  2.68it/s]\n",
      "100%|████████████████████████████████████████████████████████████████████████████████████████| 2500/2500 [17:18<00:00,  2.41it/s]\n"
     ]
    },
    {
     "name": "stdout",
     "output_type": "stream",
     "text": [
      "Epoch 13, Train Loss 1.0491547041416167, Train Acc 63.586\n"
     ]
    },
    {
     "name": "stderr",
     "output_type": "stream",
     "text": [
      "100%|███████████████████████████████████████████████████████████████████████████████████████| 2500/2500 [00:21<00:00, 114.08it/s]\n",
      "100%|████████████████████████████████████████████████████████████████████████████████████████| 2500/2500 [04:52<00:00,  8.56it/s]\n"
     ]
    },
    {
     "name": "stdout",
     "output_type": "stream",
     "text": [
      "Epoch 14, Train Loss 1.0289390483021736, Train Acc 64.772\n"
     ]
    },
    {
     "name": "stderr",
     "output_type": "stream",
     "text": [
      "100%|███████████████████████████████████████████████████████████████████████████████████████| 2500/2500 [00:21<00:00, 116.95it/s]\n",
      "100%|████████████████████████████████████████████████████████████████████████████████████████| 2500/2500 [32:29<00:00,  1.28it/s]\n"
     ]
    },
    {
     "name": "stdout",
     "output_type": "stream",
     "text": [
      "Epoch 15, Train Loss 1.0107403963327408, Train Acc 64.75\n"
     ]
    },
    {
     "name": "stderr",
     "output_type": "stream",
     "text": [
      "100%|████████████████████████████████████████████████████████████████████████████████████████| 2500/2500 [17:28<00:00,  2.38it/s]\n",
      "100%|███████████████████████████████████████████████████████████████████████████████████████| 2500/2500 [00:08<00:00, 281.21it/s]\n"
     ]
    },
    {
     "name": "stdout",
     "output_type": "stream",
     "text": [
      "Epoch 16, Train Loss 0.9936333428740501, Train Acc 65.39\n"
     ]
    },
    {
     "name": "stderr",
     "output_type": "stream",
     "text": [
      "100%|████████████████████████████████████████████████████████████████████████████████████████| 2500/2500 [05:04<00:00,  8.21it/s]\n",
      "100%|███████████████████████████████████████████████████████████████████████████████████████| 2500/2500 [00:08<00:00, 283.13it/s]\n"
     ]
    },
    {
     "name": "stdout",
     "output_type": "stream",
     "text": [
      "Epoch 17, Train Loss 0.9812335860967636, Train Acc 64.008\n"
     ]
    },
    {
     "name": "stderr",
     "output_type": "stream",
     "text": [
      "100%|██████████████████████████████████████████████████████████████████████████████████████| 2500/2500 [1:06:13<00:00,  1.59s/it]\n",
      "100%|████████████████████████████████████████████████████████████████████████████████████████| 2500/2500 [31:17<00:00,  1.33it/s]\n"
     ]
    },
    {
     "name": "stdout",
     "output_type": "stream",
     "text": [
      "Epoch 18, Train Loss 0.9726942037582398, Train Acc 66.322\n"
     ]
    },
    {
     "name": "stderr",
     "output_type": "stream",
     "text": [
      "100%|███████████████████████████████████████████████████████████████████████████████████████| 2500/2500 [00:21<00:00, 116.67it/s]\n",
      "100%|███████████████████████████████████████████████████████████████████████████████████████| 2500/2500 [00:08<00:00, 280.60it/s]\n"
     ]
    },
    {
     "name": "stdout",
     "output_type": "stream",
     "text": [
      "Epoch 19, Train Loss 0.9540198825240135, Train Acc 66.76\n"
     ]
    },
    {
     "name": "stderr",
     "output_type": "stream",
     "text": [
      "100%|████████████████████████████████████████████████████████████████████████████████████████| 2500/2500 [05:05<00:00,  8.20it/s]\n",
      "100%|███████████████████████████████████████████████████████████████████████████████████████| 2500/2500 [00:08<00:00, 281.19it/s]\n"
     ]
    },
    {
     "name": "stdout",
     "output_type": "stream",
     "text": [
      "Epoch 20, Train Loss 0.9414076326370239, Train Acc 67.034\n"
     ]
    },
    {
     "name": "stderr",
     "output_type": "stream",
     "text": [
      "100%|██████████████████████████████████████████████████████████████████████████████████████| 2500/2500 [1:05:55<00:00,  1.58s/it]\n",
      "100%|████████████████████████████████████████████████████████████████████████████████████████| 2500/2500 [34:22<00:00,  1.21it/s]\n"
     ]
    },
    {
     "name": "stdout",
     "output_type": "stream",
     "text": [
      "Epoch 21, Train Loss 0.9310443467378616, Train Acc 68.45\n"
     ]
    },
    {
     "name": "stderr",
     "output_type": "stream",
     "text": [
      "100%|██████████████████████████████████████████████████████████████████████████████████████| 2500/2500 [1:06:13<00:00,  1.59s/it]\n",
      "100%|████████████████████████████████████████████████████████████████████████████████████████| 2500/2500 [33:49<00:00,  1.23it/s]\n"
     ]
    },
    {
     "name": "stdout",
     "output_type": "stream",
     "text": [
      "Epoch 22, Train Loss 0.9167476553618908, Train Acc 67.988\n"
     ]
    },
    {
     "name": "stderr",
     "output_type": "stream",
     "text": [
      "100%|████████████████████████████████████████████████████████████████████████████████████████| 2500/2500 [32:33<00:00,  1.28it/s]\n",
      "100%|███████████████████████████████████████████████████████████████████████████████████████| 2500/2500 [00:09<00:00, 272.14it/s]\n"
     ]
    },
    {
     "name": "stdout",
     "output_type": "stream",
     "text": [
      "Epoch 23, Train Loss 0.9096610788941384, Train Acc 68.032\n"
     ]
    },
    {
     "name": "stderr",
     "output_type": "stream",
     "text": [
      "100%|███████████████████████████████████████████████████████████████████████████████████████| 2500/2500 [00:21<00:00, 115.93it/s]\n",
      "100%|███████████████████████████████████████████████████████████████████████████████████████| 2500/2500 [00:08<00:00, 278.74it/s]\n"
     ]
    },
    {
     "name": "stdout",
     "output_type": "stream",
     "text": [
      "Epoch 24, Train Loss 0.9004341019511223, Train Acc 69.128\n"
     ]
    },
    {
     "name": "stderr",
     "output_type": "stream",
     "text": [
      "100%|███████████████████████████████████████████████████████████████████████████████████████| 2500/2500 [00:21<00:00, 118.15it/s]\n",
      "100%|███████████████████████████████████████████████████████████████████████████████████████| 2500/2500 [00:08<00:00, 280.04it/s]\n"
     ]
    },
    {
     "name": "stdout",
     "output_type": "stream",
     "text": [
      "Epoch 25, Train Loss 0.8896930924654007, Train Acc 69.254\n"
     ]
    },
    {
     "name": "stderr",
     "output_type": "stream",
     "text": [
      "100%|███████████████████████████████████████████████████████████████████████████████████████| 2500/2500 [00:20<00:00, 119.31it/s]\n",
      "100%|███████████████████████████████████████████████████████████████████████████████████████| 2500/2500 [00:08<00:00, 279.82it/s]\n"
     ]
    },
    {
     "name": "stdout",
     "output_type": "stream",
     "text": [
      "Epoch 26, Train Loss 0.8840834145367146, Train Acc 68.532\n"
     ]
    },
    {
     "name": "stderr",
     "output_type": "stream",
     "text": [
      "100%|███████████████████████████████████████████████████████████████████████████████████████| 2500/2500 [00:21<00:00, 118.37it/s]\n",
      "100%|███████████████████████████████████████████████████████████████████████████████████████| 2500/2500 [00:08<00:00, 283.47it/s]\n"
     ]
    },
    {
     "name": "stdout",
     "output_type": "stream",
     "text": [
      "Epoch 27, Train Loss 0.876722139185667, Train Acc 69.764\n"
     ]
    },
    {
     "name": "stderr",
     "output_type": "stream",
     "text": [
      "100%|███████████████████████████████████████████████████████████████████████████████████████| 2500/2500 [00:21<00:00, 117.84it/s]\n",
      "100%|███████████████████████████████████████████████████████████████████████████████████████| 2500/2500 [00:08<00:00, 279.67it/s]\n"
     ]
    },
    {
     "name": "stdout",
     "output_type": "stream",
     "text": [
      "Epoch 28, Train Loss 0.8638304978966713, Train Acc 70.59\n"
     ]
    },
    {
     "name": "stderr",
     "output_type": "stream",
     "text": [
      "100%|███████████████████████████████████████████████████████████████████████████████████████| 2500/2500 [00:21<00:00, 118.87it/s]\n",
      "100%|███████████████████████████████████████████████████████████████████████████████████████| 2500/2500 [00:08<00:00, 280.37it/s]\n"
     ]
    },
    {
     "name": "stdout",
     "output_type": "stream",
     "text": [
      "Epoch 29, Train Loss 0.8555133775472641, Train Acc 69.486\n"
     ]
    },
    {
     "name": "stderr",
     "output_type": "stream",
     "text": [
      "100%|███████████████████████████████████████████████████████████████████████████████████████| 2500/2500 [00:21<00:00, 118.30it/s]\n",
      "100%|███████████████████████████████████████████████████████████████████████████████████████| 2500/2500 [00:08<00:00, 280.81it/s]\n"
     ]
    },
    {
     "name": "stdout",
     "output_type": "stream",
     "text": [
      "Epoch 30, Train Loss 0.8523251500189304, Train Acc 70.368\n"
     ]
    },
    {
     "name": "stderr",
     "output_type": "stream",
     "text": [
      "100%|███████████████████████████████████████████████████████████████████████████████████████| 2500/2500 [00:21<00:00, 116.89it/s]\n",
      "100%|███████████████████████████████████████████████████████████████████████████████████████| 2500/2500 [00:08<00:00, 279.95it/s]\n"
     ]
    },
    {
     "name": "stdout",
     "output_type": "stream",
     "text": [
      "Epoch 31, Train Loss 0.8423602435052395, Train Acc 71.042\n"
     ]
    },
    {
     "name": "stderr",
     "output_type": "stream",
     "text": [
      "100%|███████████████████████████████████████████████████████████████████████████████████████| 2500/2500 [00:21<00:00, 119.01it/s]\n",
      "100%|███████████████████████████████████████████████████████████████████████████████████████| 2500/2500 [00:08<00:00, 280.25it/s]\n"
     ]
    },
    {
     "name": "stdout",
     "output_type": "stream",
     "text": [
      "Epoch 32, Train Loss 0.8374500853419304, Train Acc 71.208\n"
     ]
    },
    {
     "name": "stderr",
     "output_type": "stream",
     "text": [
      "100%|███████████████████████████████████████████████████████████████████████████████████████| 2500/2500 [00:21<00:00, 118.09it/s]\n",
      "100%|███████████████████████████████████████████████████████████████████████████████████████| 2500/2500 [00:08<00:00, 280.42it/s]\n"
     ]
    },
    {
     "name": "stdout",
     "output_type": "stream",
     "text": [
      "Epoch 33, Train Loss 0.8331082593798638, Train Acc 71.324\n"
     ]
    },
    {
     "name": "stderr",
     "output_type": "stream",
     "text": [
      "100%|███████████████████████████████████████████████████████████████████████████████████████| 2500/2500 [00:21<00:00, 119.04it/s]\n",
      "100%|███████████████████████████████████████████████████████████████████████████████████████| 2500/2500 [00:08<00:00, 280.21it/s]\n"
     ]
    },
    {
     "name": "stdout",
     "output_type": "stream",
     "text": [
      "Epoch 34, Train Loss 0.8235525925934315, Train Acc 72.008\n"
     ]
    },
    {
     "name": "stderr",
     "output_type": "stream",
     "text": [
      "100%|███████████████████████████████████████████████████████████████████████████████████████| 2500/2500 [00:21<00:00, 118.45it/s]\n",
      "100%|███████████████████████████████████████████████████████████████████████████████████████| 2500/2500 [00:08<00:00, 280.05it/s]\n"
     ]
    },
    {
     "name": "stdout",
     "output_type": "stream",
     "text": [
      "Epoch 35, Train Loss 0.8166277218937874, Train Acc 71.872\n"
     ]
    },
    {
     "name": "stderr",
     "output_type": "stream",
     "text": [
      "100%|███████████████████████████████████████████████████████████████████████████████████████| 2500/2500 [00:21<00:00, 116.81it/s]\n",
      "100%|███████████████████████████████████████████████████████████████████████████████████████| 2500/2500 [00:08<00:00, 280.01it/s]\n"
     ]
    },
    {
     "name": "stdout",
     "output_type": "stream",
     "text": [
      "Epoch 36, Train Loss 0.8084904895961285, Train Acc 71.572\n"
     ]
    },
    {
     "name": "stderr",
     "output_type": "stream",
     "text": [
      "100%|███████████████████████████████████████████████████████████████████████████████████████| 2500/2500 [00:21<00:00, 118.26it/s]\n",
      "100%|███████████████████████████████████████████████████████████████████████████████████████| 2500/2500 [00:08<00:00, 282.17it/s]\n"
     ]
    },
    {
     "name": "stdout",
     "output_type": "stream",
     "text": [
      "Epoch 37, Train Loss 0.8087896985292434, Train Acc 72.322\n"
     ]
    },
    {
     "name": "stderr",
     "output_type": "stream",
     "text": [
      "100%|███████████████████████████████████████████████████████████████████████████████████████| 2500/2500 [00:22<00:00, 110.68it/s]\n",
      "100%|███████████████████████████████████████████████████████████████████████████████████████| 2500/2500 [00:08<00:00, 279.18it/s]\n"
     ]
    },
    {
     "name": "stdout",
     "output_type": "stream",
     "text": [
      "Epoch 38, Train Loss 0.8006245952785015, Train Acc 72.252\n"
     ]
    },
    {
     "name": "stderr",
     "output_type": "stream",
     "text": [
      "100%|███████████████████████████████████████████████████████████████████████████████████████| 2500/2500 [00:21<00:00, 118.13it/s]\n",
      "100%|███████████████████████████████████████████████████████████████████████████████████████| 2500/2500 [00:08<00:00, 281.00it/s]\n"
     ]
    },
    {
     "name": "stdout",
     "output_type": "stream",
     "text": [
      "Epoch 39, Train Loss 0.8006220763325691, Train Acc 72.708\n"
     ]
    },
    {
     "name": "stderr",
     "output_type": "stream",
     "text": [
      "100%|███████████████████████████████████████████████████████████████████████████████████████| 2500/2500 [00:21<00:00, 117.61it/s]\n",
      "100%|███████████████████████████████████████████████████████████████████████████████████████| 2500/2500 [00:08<00:00, 279.61it/s]\n"
     ]
    },
    {
     "name": "stdout",
     "output_type": "stream",
     "text": [
      "Epoch 40, Train Loss 0.7923751194417477, Train Acc 72.894\n"
     ]
    },
    {
     "name": "stderr",
     "output_type": "stream",
     "text": [
      "100%|███████████████████████████████████████████████████████████████████████████████████████| 2500/2500 [00:21<00:00, 117.84it/s]\n",
      "100%|███████████████████████████████████████████████████████████████████████████████████████| 2500/2500 [00:08<00:00, 280.91it/s]\n"
     ]
    },
    {
     "name": "stdout",
     "output_type": "stream",
     "text": [
      "Epoch 41, Train Loss 0.7870010082483292, Train Acc 73.212\n"
     ]
    },
    {
     "name": "stderr",
     "output_type": "stream",
     "text": [
      "100%|███████████████████████████████████████████████████████████████████████████████████████| 2500/2500 [00:20<00:00, 119.08it/s]\n",
      "100%|███████████████████████████████████████████████████████████████████████████████████████| 2500/2500 [00:08<00:00, 279.73it/s]\n"
     ]
    },
    {
     "name": "stdout",
     "output_type": "stream",
     "text": [
      "Epoch 42, Train Loss 0.7819677932024002, Train Acc 73.312\n"
     ]
    },
    {
     "name": "stderr",
     "output_type": "stream",
     "text": [
      "100%|███████████████████████████████████████████████████████████████████████████████████████| 2500/2500 [00:20<00:00, 119.43it/s]\n",
      "100%|███████████████████████████████████████████████████████████████████████████████████████| 2500/2500 [00:08<00:00, 281.07it/s]\n"
     ]
    },
    {
     "name": "stdout",
     "output_type": "stream",
     "text": [
      "Epoch 43, Train Loss 0.7764471396446228, Train Acc 73.93\n"
     ]
    },
    {
     "name": "stderr",
     "output_type": "stream",
     "text": [
      "100%|███████████████████████████████████████████████████████████████████████████████████████| 2500/2500 [00:21<00:00, 118.12it/s]\n",
      "100%|███████████████████████████████████████████████████████████████████████████████████████| 2500/2500 [00:08<00:00, 280.64it/s]\n"
     ]
    },
    {
     "name": "stdout",
     "output_type": "stream",
     "text": [
      "Epoch 44, Train Loss 0.7729852872550488, Train Acc 73.068\n"
     ]
    },
    {
     "name": "stderr",
     "output_type": "stream",
     "text": [
      "100%|███████████████████████████████████████████████████████████████████████████████████████| 2500/2500 [00:20<00:00, 119.31it/s]\n",
      "100%|███████████████████████████████████████████████████████████████████████████████████████| 2500/2500 [00:08<00:00, 281.73it/s]\n"
     ]
    },
    {
     "name": "stdout",
     "output_type": "stream",
     "text": [
      "Epoch 45, Train Loss 0.7638076986074448, Train Acc 72.15\n"
     ]
    },
    {
     "name": "stderr",
     "output_type": "stream",
     "text": [
      "100%|███████████████████████████████████████████████████████████████████████████████████████| 2500/2500 [00:21<00:00, 117.86it/s]\n",
      "100%|███████████████████████████████████████████████████████████████████████████████████████| 2500/2500 [00:08<00:00, 278.78it/s]\n"
     ]
    },
    {
     "name": "stdout",
     "output_type": "stream",
     "text": [
      "Epoch 46, Train Loss 0.7603028479337692, Train Acc 74.088\n"
     ]
    },
    {
     "name": "stderr",
     "output_type": "stream",
     "text": [
      "100%|███████████████████████████████████████████████████████████████████████████████████████| 2500/2500 [00:20<00:00, 119.53it/s]\n",
      "100%|███████████████████████████████████████████████████████████████████████████████████████| 2500/2500 [00:08<00:00, 280.95it/s]\n"
     ]
    },
    {
     "name": "stdout",
     "output_type": "stream",
     "text": [
      "Epoch 47, Train Loss 0.7535213288545608, Train Acc 73.692\n"
     ]
    },
    {
     "name": "stderr",
     "output_type": "stream",
     "text": [
      "100%|███████████████████████████████████████████████████████████████████████████████████████| 2500/2500 [00:21<00:00, 117.45it/s]\n",
      "100%|███████████████████████████████████████████████████████████████████████████████████████| 2500/2500 [00:09<00:00, 273.49it/s]\n"
     ]
    },
    {
     "name": "stdout",
     "output_type": "stream",
     "text": [
      "Epoch 48, Train Loss 0.758334881991148, Train Acc 71.85\n"
     ]
    },
    {
     "name": "stderr",
     "output_type": "stream",
     "text": [
      "100%|███████████████████████████████████████████████████████████████████████████████████████| 2500/2500 [00:21<00:00, 118.18it/s]\n",
      "100%|███████████████████████████████████████████████████████████████████████████████████████| 2500/2500 [00:08<00:00, 280.71it/s]\n"
     ]
    },
    {
     "name": "stdout",
     "output_type": "stream",
     "text": [
      "Epoch 49, Train Loss 0.7560197077989578, Train Acc 74.762\n"
     ]
    },
    {
     "name": "stderr",
     "output_type": "stream",
     "text": [
      "100%|███████████████████████████████████████████████████████████████████████████████████████| 2500/2500 [00:21<00:00, 117.66it/s]\n",
      "100%|███████████████████████████████████████████████████████████████████████████████████████| 2500/2500 [00:08<00:00, 280.30it/s]\n"
     ]
    },
    {
     "name": "stdout",
     "output_type": "stream",
     "text": [
      "Epoch 50, Train Loss 0.7479605409920216, Train Acc 74.364\n"
     ]
    },
    {
     "name": "stderr",
     "output_type": "stream",
     "text": [
      "100%|█████████████████████████████████████████████████████████████████████████████████████████| 500/500 [00:01<00:00, 337.27it/s]"
     ]
    },
    {
     "name": "stdout",
     "output_type": "stream",
     "text": [
      "Test Acc: 73.51\n"
     ]
    },
    {
     "name": "stderr",
     "output_type": "stream",
     "text": [
      "\n"
     ]
    }
   ],
   "source": [
    "cnn = CNNTanh().to(device)\n",
    "criterion = nn.CrossEntropyLoss().to(device)\n",
    "optimizer = torch.optim.SGD(params=cnn.parameters(), lr=0.01, weight_decay=0.0001)\n",
    "cnn_tanh_loss, cnn_tanh_acc = train(cnn, n_epochs)\n",
    "print('Test Acc: {}'.format(test(cnn, test_loader)))"
   ]
  },
  {
   "cell_type": "code",
   "execution_count": 35,
   "id": "9c1113b7",
   "metadata": {
    "pycharm": {
     "name": "#%%\n"
    }
   },
   "outputs": [
    {
     "data": {
      "image/png": "[encoded data removed]",
      "text/plain": [
       "<Figure size 864x360 with 1 Axes>"
      ]
     },
     "metadata": {
      "needs_background": "light"
     },
     "output_type": "display_data"
    },
    {
     "data": {
      "image/png": "[encoded data removed]",
      "text/plain": [
       "<Figure size 864x360 with 1 Axes>"
      ]
     },
     "metadata": {
      "needs_background": "light"
     },
     "output_type": "display_data"
    }
   ],
   "source": [
    "plot_loss_and_acc({\n",
    "    \"relu\": [cnn_loss, cnn_acc],\n",
    "    \"tanh\": [cnn_tanh_loss, cnn_tanh_acc]\n",
    "})   "
   ]
  },
  {
   "cell_type": "code",
   "execution_count": null,
   "id": "4fffb39f",
   "metadata": {
    "pycharm": {
     "name": "#%%\n"
    }
   },
   "outputs": [],
   "source": []
  }
 ],
 "metadata": {
  "kernelspec": {
   "display_name": "Python 3 (ipykernel)",
   "language": "python",
   "name": "python3"
  },
  "language_info": {
   "codemirror_mode": {
    "name": "ipython",
    "version": 3
   },
   "file_extension": ".py",
   "mimetype": "text/x-python",
   "name": "python",
   "nbconvert_exporter": "python",
   "pygments_lexer": "ipython3",
   "version": "3.9.12"
  }
 },
 "nbformat": 4,
 "nbformat_minor": 5
}