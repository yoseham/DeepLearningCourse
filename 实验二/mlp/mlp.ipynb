{
 "cells": [
  {
   "cell_type": "markdown",
   "metadata": {
    "pycharm": {
     "name": "#%% md\n"
    }
   },
   "source": [
    "# 案例2: 构建自己的多层感知机: MNIST 手写数字识别\n",
    "\n",
    "### 本案例要求如下\n",
    "- #### 实现SGD优化器 (`./optimizer.py`)\n",
    "- #### 实现全连接层FCLayer前向和后向计算 (`layers/fc_layer.py`)\n",
    "- #### 实现激活层SigmoidLayer前向和后向计算 (`layers/sigmoid_layer.py`)\n",
    "- #### 实现激活层ReLULayer前向和后向计算 (`layers/relu_layer.py`)\n",
    "- #### 实现损失层EuclideanLossLayer (`criterion/euclidean_loss.py`)\n",
    "- #### 实现损失层SoftmaxCrossEntropyLossLayer (`criterion/softmax_cross_entropy.py`)"
   ]
  },
  {
   "cell_type": "code",
   "execution_count": 1,
   "metadata": {
    "pycharm": {
     "name": "#%%\n"
    }
   },
   "outputs": [
    {
     "name": "stderr",
     "output_type": "stream",
     "text": [
      "/Users/chaoxiong.yang/opt/anaconda3/lib/python3.9/site-packages/scipy/__init__.py:146: UserWarning: A NumPy version >=1.16.5 and <1.23.0 is required for this version of SciPy (detected version 1.23.3\n",
      "  warnings.warn(f\"A NumPy version >={np_minversion} and <{np_maxversion}\"\n"
     ]
    }
   ],
   "source": [
    "import numpy as np\n",
    "import matplotlib.pyplot as plt\n",
    "%matplotlib inline\n",
    "import tensorflow.compat.v1 as tf\n",
    "tf.disable_eager_execution()\n",
    "\n",
    "from network import Network\n",
    "from solver import train, test\n",
    "from plot import plot_loss_and_acc"
   ]
  },
  {
   "cell_type": "markdown",
   "metadata": {
    "pycharm": {
     "name": "#%% md\n"
    }
   },
   "source": [
    "## 读入MNIST数据集"
   ]
  },
  {
   "cell_type": "code",
   "execution_count": 2,
   "metadata": {
    "pycharm": {
     "name": "#%%\n"
    }
   },
   "outputs": [],
   "source": [
    "(x_train, y_train), (x_test, y_test) = tf.keras.datasets.mnist.load_data()"
   ]
  },
  {
   "cell_type": "code",
   "execution_count": 3,
   "metadata": {
    "pycharm": {
     "name": "#%%\n"
    }
   },
   "outputs": [],
   "source": [
    "def decode_image(image):\n",
    "    # 归一化处理\n",
    "    image = tf.cast(image, tf.float32)\n",
    "    image = tf.reshape(image, [784])\n",
    "    image = image / 255.0\n",
    "    image = image - tf.reduce_mean(image)\n",
    "    return image\n",
    "\n",
    "def decode_label(label):\n",
    "    # 将标签变为one-hot编码\n",
    "    return tf.one_hot(label, depth=10)"
   ]
  },
  {
   "cell_type": "code",
   "execution_count": 4,
   "metadata": {
    "pycharm": {
     "name": "#%%\n"
    }
   },
   "outputs": [],
   "source": [
    "# 数据预处理\n",
    "x_train = tf.data.Dataset.from_tensor_slices(x_train).map(decode_image)\n",
    "y_train = tf.data.Dataset.from_tensor_slices(y_train).map(decode_label)\n",
    "data_train = tf.data.Dataset.zip((x_train, y_train))\n",
    "\n",
    "x_test = tf.data.Dataset.from_tensor_slices(x_test).map(decode_image)\n",
    "y_test = tf.data.Dataset.from_tensor_slices(y_test).map(decode_label)\n",
    "data_test = tf.data.Dataset.zip((x_test, y_test))"
   ]
  },
  {
   "cell_type": "markdown",
   "metadata": {
    "pycharm": {
     "name": "#%% md\n"
    }
   },
   "source": [
    "## 超参数设置"
   ]
  },
  {
   "cell_type": "code",
   "execution_count": 5,
   "metadata": {
    "pycharm": {
     "name": "#%%\n"
    }
   },
   "outputs": [],
   "source": [
    "batch_size = 100\n",
    "max_epoch = 20\n",
    "init_std = 0.01\n",
    "\n",
    "learning_rate_SGD = 0.001\n",
    "weight_decay = 0.1\n",
    "\n",
    "disp_freq = 50"
   ]
  },
  {
   "cell_type": "markdown",
   "metadata": {
    "pycharm": {
     "name": "#%% md\n"
    }
   },
   "source": [
    "## 1. 使用欧式距离损失训练多层感知机(MLP with Euclidean Loss)\n",
    "第一部分将使用欧式距离损失训练多层感知机. \n",
    "分别使用**Sigmoid**激活函数和**ReLU**激活函数.\n",
    "### TODO\n",
    "执行以下代码之前，请完成 **./optimizer.py** 和 **criterion/euclidean_loss.py**."
   ]
  },
  {
   "cell_type": "code",
   "execution_count": 6,
   "metadata": {
    "pycharm": {
     "name": "#%%\n"
    }
   },
   "outputs": [],
   "source": [
    "from criterion import EuclideanLossLayer\n",
    "from optimizer import SGD\n",
    "\n",
    "criterion = EuclideanLossLayer()\n",
    "\n",
    "sgd = SGD(learning_rate_SGD, weight_decay)"
   ]
  },
  {
   "cell_type": "markdown",
   "metadata": {
    "pycharm": {
     "name": "#%% md\n"
    }
   },
   "source": [
    "## 1.1 使用欧式距离损失和Sigmoid激活函数训练多层感知机\n",
    "训练带有一个隐含层且神经元个数为128的多层感知机，使用欧式距离损失和Sigmoid激活函数.\n",
    "\n",
    "### TODO\n",
    "执行以下代码之前，请完成 **layers/fc_layer.py** 和 **layers/sigmoid_layer.py**."
   ]
  },
  {
   "cell_type": "code",
   "execution_count": 7,
   "metadata": {
    "pycharm": {
     "name": "#%%\n"
    }
   },
   "outputs": [],
   "source": [
    "from layers import FCLayer, SigmoidLayer\n",
    "\n",
    "sigmoidMLP = Network()\n",
    "# 使用FCLayer和SigmoidLayer构建多层感知机\n",
    "# 128为隐含层的神经元数目\n",
    "sigmoidMLP.add(FCLayer(784, 128))\n",
    "sigmoidMLP.add(SigmoidLayer())\n",
    "sigmoidMLP.add(FCLayer(128, 10))"
   ]
  },
  {
   "cell_type": "code",
   "execution_count": 8,
   "metadata": {
    "pycharm": {
     "name": "#%%\n"
    },
    "scrolled": true
   },
   "outputs": [
    {
     "name": "stdout",
     "output_type": "stream",
     "text": [
      "WARNING:tensorflow:From /Users/chaoxiong.yang/DeepLearning/实验二/mlp/solver.py:15: DatasetV1.make_one_shot_iterator (from tensorflow.python.data.ops.dataset_ops) is deprecated and will be removed in a future version.\n",
      "Instructions for updating:\n",
      "This is a deprecated API that should only be used in TF 1 graph mode and legacy TF 2 graph mode available through `tf.compat.v1`. In all other situations -- namely, eager mode and inside `tf.function` -- you can consume dataset elements using `for elem in dataset: ...` or by explicitly creating iterator via `iterator = iter(dataset)` and fetching its elements via `values = next(iterator)`. Furthermore, this API is not available in TF 2. During the transition from TF 1 to TF 2 you can use `tf.compat.v1.data.make_one_shot_iterator(dataset)` to create a TF 1 graph mode style iterator for a dataset created through TF 2 APIs. Note that this should be a transient state of your code base as there are in general no guarantees about the interoperability of TF 1 and TF 2 code.\n",
      "Metal device set to: Apple M1 Pro\n"
     ]
    },
    {
     "name": "stderr",
     "output_type": "stream",
     "text": [
      "2022-09-20 21:02:25.860230: I tensorflow/core/common_runtime/pluggable_device/pluggable_device_factory.cc:306] Could not identify NUMA node of platform GPU ID 0, defaulting to 0. Your kernel may not have been built with NUMA support.\n",
      "2022-09-20 21:02:25.860883: I tensorflow/core/common_runtime/pluggable_device/pluggable_device_factory.cc:272] Created TensorFlow device (/job:localhost/replica:0/task:0/device:GPU:0 with 0 MB memory) -> physical PluggableDevice (device: 0, name: METAL, pci bus id: <undefined>)\n",
      "2022-09-20 21:02:26.031853: I tensorflow/compiler/mlir/mlir_graph_optimization_pass.cc:354] MLIR V1 optimization pass is not enabled\n",
      "2022-09-20 21:02:26.043043: W tensorflow/core/platform/profile_utils/cpu_utils.cc:128] Failed to get CPU frequency: 0 Hz\n"
     ]
    },
    {
     "name": "stdout",
     "output_type": "stream",
     "text": [
      "Epoch [0][20]\t Batch [0][550]\t Training Loss 26.2506\t Accuracy 0.1100\n",
      "Epoch [0][20]\t Batch [50][550]\t Training Loss 8.2680\t Accuracy 0.1925\n",
      "Epoch [0][20]\t Batch [100][550]\t Training Loss 6.5154\t Accuracy 0.2815\n",
      "Epoch [0][20]\t Batch [150][550]\t Training Loss 5.8323\t Accuracy 0.3462\n",
      "Epoch [0][20]\t Batch [200][550]\t Training Loss 5.4116\t Accuracy 0.4067\n",
      "Epoch [0][20]\t Batch [250][550]\t Training Loss 5.1286\t Accuracy 0.4604\n",
      "Epoch [0][20]\t Batch [300][550]\t Training Loss 4.9187\t Accuracy 0.5042\n",
      "Epoch [0][20]\t Batch [350][550]\t Training Loss 4.7571\t Accuracy 0.5395\n",
      "Epoch [0][20]\t Batch [400][550]\t Training Loss 4.6244\t Accuracy 0.5688\n",
      "Epoch [0][20]\t Batch [450][550]\t Training Loss 4.5101\t Accuracy 0.5937\n",
      "Epoch [0][20]\t Batch [500][550]\t Training Loss 4.4126\t Accuracy 0.6150\n",
      "\n",
      "Epoch [0]\t Average training loss 4.3266\t Average training accuracy 0.6333\n",
      "Epoch [0]\t Average validation loss 3.3201\t Average validation accuracy 0.8448\n",
      "\n",
      "Epoch [1][20]\t Batch [0][550]\t Training Loss 3.2892\t Accuracy 0.8300\n",
      "Epoch [1][20]\t Batch [50][550]\t Training Loss 3.3732\t Accuracy 0.8365\n",
      "Epoch [1][20]\t Batch [100][550]\t Training Loss 3.3638\t Accuracy 0.8385\n",
      "Epoch [1][20]\t Batch [150][550]\t Training Loss 3.3668\t Accuracy 0.8323\n",
      "Epoch [1][20]\t Batch [200][550]\t Training Loss 3.3443\t Accuracy 0.8358\n",
      "Epoch [1][20]\t Batch [250][550]\t Training Loss 3.3248\t Accuracy 0.8373\n",
      "Epoch [1][20]\t Batch [300][550]\t Training Loss 3.3083\t Accuracy 0.8392\n",
      "Epoch [1][20]\t Batch [350][550]\t Training Loss 3.2968\t Accuracy 0.8388\n",
      "Epoch [1][20]\t Batch [400][550]\t Training Loss 3.2818\t Accuracy 0.8408\n",
      "Epoch [1][20]\t Batch [450][550]\t Training Loss 3.2665\t Accuracy 0.8422\n",
      "Epoch [1][20]\t Batch [500][550]\t Training Loss 3.2519\t Accuracy 0.8432\n",
      "\n",
      "Epoch [1]\t Average training loss 3.2340\t Average training accuracy 0.8446\n",
      "Epoch [1]\t Average validation loss 2.9045\t Average validation accuracy 0.8894\n",
      "\n",
      "Epoch [2][20]\t Batch [0][550]\t Training Loss 2.8923\t Accuracy 0.8900\n",
      "Epoch [2][20]\t Batch [50][550]\t Training Loss 2.9988\t Accuracy 0.8733\n",
      "Epoch [2][20]\t Batch [100][550]\t Training Loss 2.9988\t Accuracy 0.8705\n",
      "Epoch [2][20]\t Batch [150][550]\t Training Loss 3.0175\t Accuracy 0.8658\n",
      "Epoch [2][20]\t Batch [200][550]\t Training Loss 3.0045\t Accuracy 0.8682\n",
      "Epoch [2][20]\t Batch [250][550]\t Training Loss 2.9929\t Accuracy 0.8683\n",
      "Epoch [2][20]\t Batch [300][550]\t Training Loss 2.9846\t Accuracy 0.8690\n",
      "Epoch [2][20]\t Batch [350][550]\t Training Loss 2.9810\t Accuracy 0.8682\n",
      "Epoch [2][20]\t Batch [400][550]\t Training Loss 2.9724\t Accuracy 0.8694\n",
      "Epoch [2][20]\t Batch [450][550]\t Training Loss 2.9636\t Accuracy 0.8704\n",
      "Epoch [2][20]\t Batch [500][550]\t Training Loss 2.9553\t Accuracy 0.8708\n",
      "\n",
      "Epoch [2]\t Average training loss 2.9426\t Average training accuracy 0.8713\n",
      "Epoch [2]\t Average validation loss 2.6537\t Average validation accuracy 0.9076\n",
      "\n",
      "Epoch [3][20]\t Batch [0][550]\t Training Loss 2.6509\t Accuracy 0.9200\n",
      "Epoch [3][20]\t Batch [50][550]\t Training Loss 2.7557\t Accuracy 0.8922\n",
      "Epoch [3][20]\t Batch [100][550]\t Training Loss 2.7623\t Accuracy 0.8874\n",
      "Epoch [3][20]\t Batch [150][550]\t Training Loss 2.7861\t Accuracy 0.8823\n",
      "Epoch [3][20]\t Batch [200][550]\t Training Loss 2.7765\t Accuracy 0.8843\n",
      "Epoch [3][20]\t Batch [250][550]\t Training Loss 2.7674\t Accuracy 0.8848\n",
      "Epoch [3][20]\t Batch [300][550]\t Training Loss 2.7613\t Accuracy 0.8853\n",
      "Epoch [3][20]\t Batch [350][550]\t Training Loss 2.7607\t Accuracy 0.8845\n",
      "Epoch [3][20]\t Batch [400][550]\t Training Loss 2.7549\t Accuracy 0.8853\n",
      "Epoch [3][20]\t Batch [450][550]\t Training Loss 2.7493\t Accuracy 0.8861\n",
      "Epoch [3][20]\t Batch [500][550]\t Training Loss 2.7440\t Accuracy 0.8860\n",
      "\n",
      "Epoch [3]\t Average training loss 2.7343\t Average training accuracy 0.8864\n",
      "Epoch [3]\t Average validation loss 2.4700\t Average validation accuracy 0.9190\n",
      "\n",
      "Epoch [4][20]\t Batch [0][550]\t Training Loss 2.4637\t Accuracy 0.9300\n",
      "Epoch [4][20]\t Batch [50][550]\t Training Loss 2.5707\t Accuracy 0.9063\n",
      "Epoch [4][20]\t Batch [100][550]\t Training Loss 2.5837\t Accuracy 0.8998\n",
      "Epoch [4][20]\t Batch [150][550]\t Training Loss 2.6107\t Accuracy 0.8948\n",
      "Epoch [4][20]\t Batch [200][550]\t Training Loss 2.6031\t Accuracy 0.8963\n",
      "Epoch [4][20]\t Batch [250][550]\t Training Loss 2.5966\t Accuracy 0.8968\n",
      "Epoch [4][20]\t Batch [300][550]\t Training Loss 2.5924\t Accuracy 0.8969\n",
      "Epoch [4][20]\t Batch [350][550]\t Training Loss 2.5938\t Accuracy 0.8962\n",
      "Epoch [4][20]\t Batch [400][550]\t Training Loss 2.5905\t Accuracy 0.8963\n",
      "Epoch [4][20]\t Batch [450][550]\t Training Loss 2.5875\t Accuracy 0.8966\n",
      "Epoch [4][20]\t Batch [500][550]\t Training Loss 2.5849\t Accuracy 0.8963\n",
      "\n",
      "Epoch [4]\t Average training loss 2.5775\t Average training accuracy 0.8965\n",
      "Epoch [4]\t Average validation loss 2.3356\t Average validation accuracy 0.9254\n",
      "\n",
      "Epoch [5][20]\t Batch [0][550]\t Training Loss 2.3241\t Accuracy 0.9500\n",
      "Epoch [5][20]\t Batch [50][550]\t Training Loss 2.4339\t Accuracy 0.9124\n",
      "Epoch [5][20]\t Batch [100][550]\t Training Loss 2.4512\t Accuracy 0.9071\n",
      "Epoch [5][20]\t Batch [150][550]\t Training Loss 2.4802\t Accuracy 0.9028\n",
      "Epoch [5][20]\t Batch [200][550]\t Training Loss 2.4734\t Accuracy 0.9040\n",
      "Epoch [5][20]\t Batch [250][550]\t Training Loss 2.4686\t Accuracy 0.9046\n",
      "Epoch [5][20]\t Batch [300][550]\t Training Loss 2.4659\t Accuracy 0.9048\n",
      "Epoch [5][20]\t Batch [350][550]\t Training Loss 2.4686\t Accuracy 0.9044\n",
      "Epoch [5][20]\t Batch [400][550]\t Training Loss 2.4671\t Accuracy 0.9043\n",
      "Epoch [5][20]\t Batch [450][550]\t Training Loss 2.4658\t Accuracy 0.9045\n",
      "Epoch [5][20]\t Batch [500][550]\t Training Loss 2.4651\t Accuracy 0.9040\n",
      "\n",
      "Epoch [5]\t Average training loss 2.4594\t Average training accuracy 0.9043\n",
      "Epoch [5]\t Average validation loss 2.2340\t Average validation accuracy 0.9320\n",
      "\n",
      "Epoch [6][20]\t Batch [0][550]\t Training Loss 2.2213\t Accuracy 0.9500\n",
      "Epoch [6][20]\t Batch [50][550]\t Training Loss 2.3316\t Accuracy 0.9182\n",
      "Epoch [6][20]\t Batch [100][550]\t Training Loss 2.3516\t Accuracy 0.9131\n",
      "Epoch [6][20]\t Batch [150][550]\t Training Loss 2.3820\t Accuracy 0.9093\n",
      "Epoch [6][20]\t Batch [200][550]\t Training Loss 2.3757\t Accuracy 0.9103\n",
      "Epoch [6][20]\t Batch [250][550]\t Training Loss 2.3721\t Accuracy 0.9107\n",
      "Epoch [6][20]\t Batch [300][550]\t Training Loss 2.3708\t Accuracy 0.9113\n",
      "Epoch [6][20]\t Batch [350][550]\t Training Loss 2.3742\t Accuracy 0.9108\n",
      "Epoch [6][20]\t Batch [400][550]\t Training Loss 2.3742\t Accuracy 0.9107\n",
      "Epoch [6][20]\t Batch [450][550]\t Training Loss 2.3742\t Accuracy 0.9106\n",
      "Epoch [6][20]\t Batch [500][550]\t Training Loss 2.3750\t Accuracy 0.9099\n",
      "\n",
      "Epoch [6]\t Average training loss 2.3705\t Average training accuracy 0.9101\n",
      "Epoch [6]\t Average validation loss 2.1572\t Average validation accuracy 0.9352\n",
      "\n",
      "Epoch [7][20]\t Batch [0][550]\t Training Loss 2.1500\t Accuracy 0.9500\n",
      "Epoch [7][20]\t Batch [50][550]\t Training Loss 2.2561\t Accuracy 0.9225\n",
      "Epoch [7][20]\t Batch [100][550]\t Training Loss 2.2777\t Accuracy 0.9176\n",
      "Epoch [7][20]\t Batch [150][550]\t Training Loss 2.3089\t Accuracy 0.9142\n",
      "Epoch [7][20]\t Batch [200][550]\t Training Loss 2.3027\t Accuracy 0.9156\n",
      "Epoch [7][20]\t Batch [250][550]\t Training Loss 2.2999\t Accuracy 0.9159\n",
      "Epoch [7][20]\t Batch [300][550]\t Training Loss 2.2995\t Accuracy 0.9161\n",
      "Epoch [7][20]\t Batch [350][550]\t Training Loss 2.3033\t Accuracy 0.9155\n",
      "Epoch [7][20]\t Batch [400][550]\t Training Loss 2.3043\t Accuracy 0.9154\n",
      "Epoch [7][20]\t Batch [450][550]\t Training Loss 2.3050\t Accuracy 0.9153\n",
      "Epoch [7][20]\t Batch [500][550]\t Training Loss 2.3069\t Accuracy 0.9145\n",
      "\n",
      "Epoch [7]\t Average training loss 2.3032\t Average training accuracy 0.9146\n",
      "Epoch [7]\t Average validation loss 2.0975\t Average validation accuracy 0.9378\n",
      "\n",
      "Epoch [8][20]\t Batch [0][550]\t Training Loss 2.0975\t Accuracy 0.9500\n",
      "Epoch [8][20]\t Batch [50][550]\t Training Loss 2.1979\t Accuracy 0.9255\n",
      "Epoch [8][20]\t Batch [100][550]\t Training Loss 2.2205\t Accuracy 0.9207\n",
      "Epoch [8][20]\t Batch [150][550]\t Training Loss 2.2519\t Accuracy 0.9175\n",
      "Epoch [8][20]\t Batch [200][550]\t Training Loss 2.2458\t Accuracy 0.9193\n",
      "Epoch [8][20]\t Batch [250][550]\t Training Loss 2.2433\t Accuracy 0.9198\n",
      "Epoch [8][20]\t Batch [300][550]\t Training Loss 2.2436\t Accuracy 0.9199\n",
      "Epoch [8][20]\t Batch [350][550]\t Training Loss 2.2476\t Accuracy 0.9195\n",
      "Epoch [8][20]\t Batch [400][550]\t Training Loss 2.2491\t Accuracy 0.9191\n",
      "Epoch [8][20]\t Batch [450][550]\t Training Loss 2.2502\t Accuracy 0.9190\n",
      "Epoch [8][20]\t Batch [500][550]\t Training Loss 2.2529\t Accuracy 0.9181\n"
     ]
    },
    {
     "name": "stdout",
     "output_type": "stream",
     "text": [
      "\n",
      "Epoch [8]\t Average training loss 2.2496\t Average training accuracy 0.9181\n",
      "Epoch [8]\t Average validation loss 2.0489\t Average validation accuracy 0.9384\n",
      "\n",
      "Epoch [9][20]\t Batch [0][550]\t Training Loss 2.0557\t Accuracy 0.9500\n",
      "Epoch [9][20]\t Batch [50][550]\t Training Loss 2.1506\t Accuracy 0.9286\n",
      "Epoch [9][20]\t Batch [100][550]\t Training Loss 2.1739\t Accuracy 0.9230\n",
      "Epoch [9][20]\t Batch [150][550]\t Training Loss 2.2053\t Accuracy 0.9197\n",
      "Epoch [9][20]\t Batch [200][550]\t Training Loss 2.1991\t Accuracy 0.9214\n",
      "Epoch [9][20]\t Batch [250][550]\t Training Loss 2.1968\t Accuracy 0.9218\n",
      "Epoch [9][20]\t Batch [300][550]\t Training Loss 2.1976\t Accuracy 0.9221\n",
      "Epoch [9][20]\t Batch [350][550]\t Training Loss 2.2016\t Accuracy 0.9219\n",
      "Epoch [9][20]\t Batch [400][550]\t Training Loss 2.2036\t Accuracy 0.9215\n",
      "Epoch [9][20]\t Batch [450][550]\t Training Loss 2.2050\t Accuracy 0.9213\n",
      "Epoch [9][20]\t Batch [500][550]\t Training Loss 2.2082\t Accuracy 0.9206\n",
      "\n",
      "Epoch [9]\t Average training loss 2.2052\t Average training accuracy 0.9205\n",
      "Epoch [9]\t Average validation loss 2.0083\t Average validation accuracy 0.9408\n",
      "\n",
      "Epoch [10][20]\t Batch [0][550]\t Training Loss 2.0208\t Accuracy 0.9500\n",
      "Epoch [10][20]\t Batch [50][550]\t Training Loss 2.1107\t Accuracy 0.9322\n",
      "Epoch [10][20]\t Batch [100][550]\t Training Loss 2.1345\t Accuracy 0.9257\n",
      "Epoch [10][20]\t Batch [150][550]\t Training Loss 2.1658\t Accuracy 0.9223\n",
      "Epoch [10][20]\t Batch [200][550]\t Training Loss 2.1596\t Accuracy 0.9241\n",
      "Epoch [10][20]\t Batch [250][550]\t Training Loss 2.1573\t Accuracy 0.9243\n",
      "Epoch [10][20]\t Batch [300][550]\t Training Loss 2.1585\t Accuracy 0.9248\n",
      "Epoch [10][20]\t Batch [350][550]\t Training Loss 2.1625\t Accuracy 0.9244\n",
      "Epoch [10][20]\t Batch [400][550]\t Training Loss 2.1649\t Accuracy 0.9242\n",
      "Epoch [10][20]\t Batch [450][550]\t Training Loss 2.1664\t Accuracy 0.9241\n",
      "Epoch [10][20]\t Batch [500][550]\t Training Loss 2.1700\t Accuracy 0.9233\n",
      "\n",
      "Epoch [10]\t Average training loss 2.1673\t Average training accuracy 0.9233\n",
      "Epoch [10]\t Average validation loss 1.9737\t Average validation accuracy 0.9434\n",
      "\n",
      "Epoch [11][20]\t Batch [0][550]\t Training Loss 1.9905\t Accuracy 0.9500\n",
      "Epoch [11][20]\t Batch [50][550]\t Training Loss 2.0763\t Accuracy 0.9333\n",
      "Epoch [11][20]\t Batch [100][550]\t Training Loss 2.1005\t Accuracy 0.9283\n",
      "Epoch [11][20]\t Batch [150][550]\t Training Loss 2.1314\t Accuracy 0.9246\n",
      "Epoch [11][20]\t Batch [200][550]\t Training Loss 2.1253\t Accuracy 0.9263\n",
      "Epoch [11][20]\t Batch [250][550]\t Training Loss 2.1230\t Accuracy 0.9263\n",
      "Epoch [11][20]\t Batch [300][550]\t Training Loss 2.1245\t Accuracy 0.9268\n",
      "Epoch [11][20]\t Batch [350][550]\t Training Loss 2.1285\t Accuracy 0.9264\n",
      "Epoch [11][20]\t Batch [400][550]\t Training Loss 2.1311\t Accuracy 0.9261\n",
      "Epoch [11][20]\t Batch [450][550]\t Training Loss 2.1328\t Accuracy 0.9260\n",
      "Epoch [11][20]\t Batch [500][550]\t Training Loss 2.1368\t Accuracy 0.9252\n",
      "\n",
      "Epoch [11]\t Average training loss 2.1342\t Average training accuracy 0.9253\n",
      "Epoch [11]\t Average validation loss 1.9436\t Average validation accuracy 0.9460\n",
      "\n",
      "Epoch [12][20]\t Batch [0][550]\t Training Loss 1.9635\t Accuracy 0.9500\n",
      "Epoch [12][20]\t Batch [50][550]\t Training Loss 2.0460\t Accuracy 0.9343\n",
      "Epoch [12][20]\t Batch [100][550]\t Training Loss 2.0707\t Accuracy 0.9300\n",
      "Epoch [12][20]\t Batch [150][550]\t Training Loss 2.1011\t Accuracy 0.9267\n",
      "Epoch [12][20]\t Batch [200][550]\t Training Loss 2.0951\t Accuracy 0.9280\n",
      "Epoch [12][20]\t Batch [250][550]\t Training Loss 2.0927\t Accuracy 0.9280\n",
      "Epoch [12][20]\t Batch [300][550]\t Training Loss 2.0945\t Accuracy 0.9283\n",
      "Epoch [12][20]\t Batch [350][550]\t Training Loss 2.0985\t Accuracy 0.9280\n",
      "Epoch [12][20]\t Batch [400][550]\t Training Loss 2.1013\t Accuracy 0.9279\n",
      "Epoch [12][20]\t Batch [450][550]\t Training Loss 2.1031\t Accuracy 0.9277\n",
      "Epoch [12][20]\t Batch [500][550]\t Training Loss 2.1073\t Accuracy 0.9270\n",
      "\n",
      "Epoch [12]\t Average training loss 2.1049\t Average training accuracy 0.9270\n",
      "Epoch [12]\t Average validation loss 1.9172\t Average validation accuracy 0.9474\n",
      "\n",
      "Epoch [13][20]\t Batch [0][550]\t Training Loss 1.9390\t Accuracy 0.9500\n",
      "Epoch [13][20]\t Batch [50][550]\t Training Loss 2.0191\t Accuracy 0.9353\n",
      "Epoch [13][20]\t Batch [100][550]\t Training Loss 2.0440\t Accuracy 0.9312\n",
      "Epoch [13][20]\t Batch [150][550]\t Training Loss 2.0740\t Accuracy 0.9281\n",
      "Epoch [13][20]\t Batch [200][550]\t Training Loss 2.0680\t Accuracy 0.9292\n",
      "Epoch [13][20]\t Batch [250][550]\t Training Loss 2.0656\t Accuracy 0.9291\n",
      "Epoch [13][20]\t Batch [300][550]\t Training Loss 2.0677\t Accuracy 0.9296\n",
      "Epoch [13][20]\t Batch [350][550]\t Training Loss 2.0716\t Accuracy 0.9293\n",
      "Epoch [13][20]\t Batch [400][550]\t Training Loss 2.0747\t Accuracy 0.9293\n",
      "Epoch [13][20]\t Batch [450][550]\t Training Loss 2.0765\t Accuracy 0.9290\n",
      "Epoch [13][20]\t Batch [500][550]\t Training Loss 2.0810\t Accuracy 0.9283\n",
      "\n",
      "Epoch [13]\t Average training loss 2.0787\t Average training accuracy 0.9283\n",
      "Epoch [13]\t Average validation loss 1.8938\t Average validation accuracy 0.9496\n",
      "\n",
      "Epoch [14][20]\t Batch [0][550]\t Training Loss 1.9167\t Accuracy 0.9500\n",
      "Epoch [14][20]\t Batch [50][550]\t Training Loss 1.9950\t Accuracy 0.9375\n",
      "Epoch [14][20]\t Batch [100][550]\t Training Loss 2.0201\t Accuracy 0.9332\n",
      "Epoch [14][20]\t Batch [150][550]\t Training Loss 2.0496\t Accuracy 0.9303\n",
      "Epoch [14][20]\t Batch [200][550]\t Training Loss 2.0437\t Accuracy 0.9311\n",
      "Epoch [14][20]\t Batch [250][550]\t Training Loss 2.0411\t Accuracy 0.9309\n",
      "Epoch [14][20]\t Batch [300][550]\t Training Loss 2.0436\t Accuracy 0.9314\n",
      "Epoch [14][20]\t Batch [350][550]\t Training Loss 2.0475\t Accuracy 0.9310\n",
      "Epoch [14][20]\t Batch [400][550]\t Training Loss 2.0506\t Accuracy 0.9310\n",
      "Epoch [14][20]\t Batch [450][550]\t Training Loss 2.0525\t Accuracy 0.9306\n",
      "Epoch [14][20]\t Batch [500][550]\t Training Loss 2.0572\t Accuracy 0.9301\n",
      "\n",
      "Epoch [14]\t Average training loss 2.0550\t Average training accuracy 0.9301\n",
      "Epoch [14]\t Average validation loss 1.8728\t Average validation accuracy 0.9510\n",
      "\n",
      "Epoch [15][20]\t Batch [0][550]\t Training Loss 1.8963\t Accuracy 0.9500\n",
      "Epoch [15][20]\t Batch [50][550]\t Training Loss 1.9731\t Accuracy 0.9384\n",
      "Epoch [15][20]\t Batch [100][550]\t Training Loss 1.9984\t Accuracy 0.9345\n",
      "Epoch [15][20]\t Batch [150][550]\t Training Loss 2.0274\t Accuracy 0.9317\n",
      "Epoch [15][20]\t Batch [200][550]\t Training Loss 2.0215\t Accuracy 0.9325\n",
      "Epoch [15][20]\t Batch [250][550]\t Training Loss 2.0189\t Accuracy 0.9324\n",
      "Epoch [15][20]\t Batch [300][550]\t Training Loss 2.0217\t Accuracy 0.9328\n",
      "Epoch [15][20]\t Batch [350][550]\t Training Loss 2.0255\t Accuracy 0.9325\n",
      "Epoch [15][20]\t Batch [400][550]\t Training Loss 2.0289\t Accuracy 0.9324\n",
      "Epoch [15][20]\t Batch [450][550]\t Training Loss 2.0308\t Accuracy 0.9320\n",
      "Epoch [15][20]\t Batch [500][550]\t Training Loss 2.0357\t Accuracy 0.9316\n",
      "\n",
      "Epoch [15]\t Average training loss 2.0335\t Average training accuracy 0.9315\n",
      "Epoch [15]\t Average validation loss 1.8541\t Average validation accuracy 0.9512\n",
      "\n",
      "Epoch [16][20]\t Batch [0][550]\t Training Loss 1.8776\t Accuracy 0.9500\n",
      "Epoch [16][20]\t Batch [50][550]\t Training Loss 1.9531\t Accuracy 0.9400\n",
      "Epoch [16][20]\t Batch [100][550]\t Training Loss 1.9786\t Accuracy 0.9358\n",
      "Epoch [16][20]\t Batch [150][550]\t Training Loss 2.0072\t Accuracy 0.9330\n",
      "Epoch [16][20]\t Batch [200][550]\t Training Loss 2.0014\t Accuracy 0.9339\n",
      "Epoch [16][20]\t Batch [250][550]\t Training Loss 1.9987\t Accuracy 0.9337\n",
      "Epoch [16][20]\t Batch [300][550]\t Training Loss 2.0018\t Accuracy 0.9342\n",
      "Epoch [16][20]\t Batch [350][550]\t Training Loss 2.0056\t Accuracy 0.9338\n",
      "Epoch [16][20]\t Batch [400][550]\t Training Loss 2.0090\t Accuracy 0.9337\n",
      "Epoch [16][20]\t Batch [450][550]\t Training Loss 2.0110\t Accuracy 0.9334\n",
      "Epoch [16][20]\t Batch [500][550]\t Training Loss 2.0160\t Accuracy 0.9329\n",
      "\n",
      "Epoch [16]\t Average training loss 2.0139\t Average training accuracy 0.9329\n",
      "Epoch [16]\t Average validation loss 1.8372\t Average validation accuracy 0.9524\n",
      "\n",
      "Epoch [17][20]\t Batch [0][550]\t Training Loss 1.8605\t Accuracy 0.9500\n",
      "Epoch [17][20]\t Batch [50][550]\t Training Loss 1.9349\t Accuracy 0.9412\n",
      "Epoch [17][20]\t Batch [100][550]\t Training Loss 1.9606\t Accuracy 0.9368\n",
      "Epoch [17][20]\t Batch [150][550]\t Training Loss 1.9887\t Accuracy 0.9342\n",
      "Epoch [17][20]\t Batch [200][550]\t Training Loss 1.9829\t Accuracy 0.9350\n",
      "Epoch [17][20]\t Batch [250][550]\t Training Loss 1.9802\t Accuracy 0.9349\n",
      "Epoch [17][20]\t Batch [300][550]\t Training Loss 1.9835\t Accuracy 0.9352\n",
      "Epoch [17][20]\t Batch [350][550]\t Training Loss 1.9874\t Accuracy 0.9349\n"
     ]
    },
    {
     "name": "stdout",
     "output_type": "stream",
     "text": [
      "Epoch [17][20]\t Batch [400][550]\t Training Loss 1.9909\t Accuracy 0.9347\n",
      "Epoch [17][20]\t Batch [450][550]\t Training Loss 1.9929\t Accuracy 0.9344\n",
      "Epoch [17][20]\t Batch [500][550]\t Training Loss 1.9980\t Accuracy 0.9340\n",
      "\n",
      "Epoch [17]\t Average training loss 1.9960\t Average training accuracy 0.9340\n",
      "Epoch [17]\t Average validation loss 1.8219\t Average validation accuracy 0.9528\n",
      "\n",
      "Epoch [18][20]\t Batch [0][550]\t Training Loss 1.8448\t Accuracy 0.9500\n",
      "Epoch [18][20]\t Batch [50][550]\t Training Loss 1.9181\t Accuracy 0.9429\n",
      "Epoch [18][20]\t Batch [100][550]\t Training Loss 1.9440\t Accuracy 0.9383\n",
      "Epoch [18][20]\t Batch [150][550]\t Training Loss 1.9716\t Accuracy 0.9359\n",
      "Epoch [18][20]\t Batch [200][550]\t Training Loss 1.9659\t Accuracy 0.9365\n",
      "Epoch [18][20]\t Batch [250][550]\t Training Loss 1.9632\t Accuracy 0.9363\n",
      "Epoch [18][20]\t Batch [300][550]\t Training Loss 1.9668\t Accuracy 0.9363\n",
      "Epoch [18][20]\t Batch [350][550]\t Training Loss 1.9706\t Accuracy 0.9358\n",
      "Epoch [18][20]\t Batch [400][550]\t Training Loss 1.9742\t Accuracy 0.9356\n",
      "Epoch [18][20]\t Batch [450][550]\t Training Loss 1.9762\t Accuracy 0.9354\n",
      "Epoch [18][20]\t Batch [500][550]\t Training Loss 1.9814\t Accuracy 0.9349\n",
      "\n",
      "Epoch [18]\t Average training loss 1.9794\t Average training accuracy 0.9349\n",
      "Epoch [18]\t Average validation loss 1.8081\t Average validation accuracy 0.9530\n",
      "\n",
      "Epoch [19][20]\t Batch [0][550]\t Training Loss 1.8303\t Accuracy 0.9500\n",
      "Epoch [19][20]\t Batch [50][550]\t Training Loss 1.9026\t Accuracy 0.9439\n",
      "Epoch [19][20]\t Batch [100][550]\t Training Loss 1.9287\t Accuracy 0.9394\n",
      "Epoch [19][20]\t Batch [150][550]\t Training Loss 1.9558\t Accuracy 0.9370\n",
      "Epoch [19][20]\t Batch [200][550]\t Training Loss 1.9502\t Accuracy 0.9376\n",
      "Epoch [19][20]\t Batch [250][550]\t Training Loss 1.9474\t Accuracy 0.9376\n",
      "Epoch [19][20]\t Batch [300][550]\t Training Loss 1.9513\t Accuracy 0.9376\n",
      "Epoch [19][20]\t Batch [350][550]\t Training Loss 1.9551\t Accuracy 0.9371\n",
      "Epoch [19][20]\t Batch [400][550]\t Training Loss 1.9587\t Accuracy 0.9369\n",
      "Epoch [19][20]\t Batch [450][550]\t Training Loss 1.9608\t Accuracy 0.9366\n",
      "Epoch [19][20]\t Batch [500][550]\t Training Loss 1.9661\t Accuracy 0.9362\n",
      "\n",
      "Epoch [19]\t Average training loss 1.9641\t Average training accuracy 0.9363\n",
      "Epoch [19]\t Average validation loss 1.7954\t Average validation accuracy 0.9538\n",
      "\n"
     ]
    }
   ],
   "source": [
    "sigmoidMLP, sigmoid_loss, sigmoid_acc = train(sigmoidMLP, criterion, sgd, data_train, max_epoch, batch_size, disp_freq)"
   ]
  },
  {
   "cell_type": "code",
   "execution_count": 9,
   "metadata": {
    "pycharm": {
     "name": "#%%\n"
    }
   },
   "outputs": [
    {
     "name": "stdout",
     "output_type": "stream",
     "text": [
      "Testing...\n",
      "The test accuracy is 0.9388.\n",
      "\n"
     ]
    }
   ],
   "source": [
    "test(sigmoidMLP, criterion, data_test, batch_size, disp_freq)"
   ]
  },
  {
   "cell_type": "markdown",
   "metadata": {
    "pycharm": {
     "name": "#%% md\n"
    }
   },
   "source": [
    "## 1.2 使用欧式距离损失和ReLU激活函数训练多层感知机\n",
    "训练带有一个隐含层且神经元个数为128的多层感知机，使用欧式距离损失和ReLU激活函数.\n",
    "\n",
    "### TODO\n",
    "执行以下代码之前，请完成 **layers/relu_layer.py**."
   ]
  },
  {
   "cell_type": "code",
   "execution_count": 10,
   "metadata": {
    "pycharm": {
     "name": "#%%\n"
    }
   },
   "outputs": [],
   "source": [
    "from layers import ReLULayer\n",
    "\n",
    "reluMLP = Network()\n",
    "# 使用FCLayer和ReLULayer构建多层感知机\n",
    "reluMLP.add(FCLayer(784, 128))\n",
    "reluMLP.add(ReLULayer())\n",
    "reluMLP.add(FCLayer(128, 10))"
   ]
  },
  {
   "cell_type": "code",
   "execution_count": 11,
   "metadata": {
    "pycharm": {
     "name": "#%%\n"
    },
    "scrolled": true
   },
   "outputs": [
    {
     "name": "stdout",
     "output_type": "stream",
     "text": [
      "Epoch [0][20]\t Batch [0][550]\t Training Loss 12.5907\t Accuracy 0.1600\n",
      "Epoch [0][20]\t Batch [50][550]\t Training Loss 5.0506\t Accuracy 0.5016\n",
      "Epoch [0][20]\t Batch [100][550]\t Training Loss 4.3306\t Accuracy 0.6279\n",
      "Epoch [0][20]\t Batch [150][550]\t Training Loss 4.0040\t Accuracy 0.6843\n",
      "Epoch [0][20]\t Batch [200][550]\t Training Loss 3.7769\t Accuracy 0.7230\n",
      "Epoch [0][20]\t Batch [250][550]\t Training Loss 3.6080\t Accuracy 0.7495\n",
      "Epoch [0][20]\t Batch [300][550]\t Training Loss 3.4852\t Accuracy 0.7679\n",
      "Epoch [0][20]\t Batch [350][550]\t Training Loss 3.3850\t Accuracy 0.7821\n",
      "Epoch [0][20]\t Batch [400][550]\t Training Loss 3.2994\t Accuracy 0.7940\n",
      "Epoch [0][20]\t Batch [450][550]\t Training Loss 3.2272\t Accuracy 0.8040\n",
      "Epoch [0][20]\t Batch [500][550]\t Training Loss 3.1669\t Accuracy 0.8115\n",
      "\n",
      "Epoch [0]\t Average training loss 3.1076\t Average training accuracy 0.8188\n",
      "Epoch [0]\t Average validation loss 2.3403\t Average validation accuracy 0.9220\n",
      "\n",
      "Epoch [1][20]\t Batch [0][550]\t Training Loss 2.2797\t Accuracy 0.9300\n",
      "Epoch [1][20]\t Batch [50][550]\t Training Loss 2.4119\t Accuracy 0.9059\n",
      "Epoch [1][20]\t Batch [100][550]\t Training Loss 2.4118\t Accuracy 0.9042\n",
      "Epoch [1][20]\t Batch [150][550]\t Training Loss 2.4321\t Accuracy 0.9010\n",
      "Epoch [1][20]\t Batch [200][550]\t Training Loss 2.4179\t Accuracy 0.9031\n",
      "Epoch [1][20]\t Batch [250][550]\t Training Loss 2.4046\t Accuracy 0.9052\n",
      "Epoch [1][20]\t Batch [300][550]\t Training Loss 2.4005\t Accuracy 0.9055\n",
      "Epoch [1][20]\t Batch [350][550]\t Training Loss 2.3940\t Accuracy 0.9058\n",
      "Epoch [1][20]\t Batch [400][550]\t Training Loss 2.3877\t Accuracy 0.9067\n",
      "Epoch [1][20]\t Batch [450][550]\t Training Loss 2.3798\t Accuracy 0.9078\n",
      "Epoch [1][20]\t Batch [500][550]\t Training Loss 2.3758\t Accuracy 0.9079\n",
      "\n",
      "Epoch [1]\t Average training loss 2.3643\t Average training accuracy 0.9085\n",
      "Epoch [1]\t Average validation loss 2.1108\t Average validation accuracy 0.9380\n",
      "\n",
      "Epoch [2][20]\t Batch [0][550]\t Training Loss 2.0907\t Accuracy 0.9500\n",
      "Epoch [2][20]\t Batch [50][550]\t Training Loss 2.1791\t Accuracy 0.9269\n",
      "Epoch [2][20]\t Batch [100][550]\t Training Loss 2.1973\t Accuracy 0.9228\n",
      "Epoch [2][20]\t Batch [150][550]\t Training Loss 2.2232\t Accuracy 0.9207\n",
      "Epoch [2][20]\t Batch [200][550]\t Training Loss 2.2144\t Accuracy 0.9220\n",
      "Epoch [2][20]\t Batch [250][550]\t Training Loss 2.2086\t Accuracy 0.9235\n",
      "Epoch [2][20]\t Batch [300][550]\t Training Loss 2.2112\t Accuracy 0.9230\n",
      "Epoch [2][20]\t Batch [350][550]\t Training Loss 2.2106\t Accuracy 0.9226\n",
      "Epoch [2][20]\t Batch [400][550]\t Training Loss 2.2103\t Accuracy 0.9230\n",
      "Epoch [2][20]\t Batch [450][550]\t Training Loss 2.2068\t Accuracy 0.9237\n",
      "Epoch [2][20]\t Batch [500][550]\t Training Loss 2.2080\t Accuracy 0.9229\n",
      "\n",
      "Epoch [2]\t Average training loss 2.2011\t Average training accuracy 0.9231\n",
      "Epoch [2]\t Average validation loss 2.0116\t Average validation accuracy 0.9446\n",
      "\n",
      "Epoch [3][20]\t Batch [0][550]\t Training Loss 2.0102\t Accuracy 0.9600\n",
      "Epoch [3][20]\t Batch [50][550]\t Training Loss 2.0727\t Accuracy 0.9367\n",
      "Epoch [3][20]\t Batch [100][550]\t Training Loss 2.0971\t Accuracy 0.9325\n",
      "Epoch [3][20]\t Batch [150][550]\t Training Loss 2.1232\t Accuracy 0.9293\n",
      "Epoch [3][20]\t Batch [200][550]\t Training Loss 2.1147\t Accuracy 0.9302\n",
      "Epoch [3][20]\t Batch [250][550]\t Training Loss 2.1103\t Accuracy 0.9314\n",
      "Epoch [3][20]\t Batch [300][550]\t Training Loss 2.1147\t Accuracy 0.9310\n",
      "Epoch [3][20]\t Batch [350][550]\t Training Loss 2.1155\t Accuracy 0.9306\n",
      "Epoch [3][20]\t Batch [400][550]\t Training Loss 2.1164\t Accuracy 0.9309\n",
      "Epoch [3][20]\t Batch [450][550]\t Training Loss 2.1137\t Accuracy 0.9315\n",
      "Epoch [3][20]\t Batch [500][550]\t Training Loss 2.1165\t Accuracy 0.9308\n",
      "\n",
      "Epoch [3]\t Average training loss 2.1106\t Average training accuracy 0.9310\n",
      "Epoch [3]\t Average validation loss 1.9490\t Average validation accuracy 0.9506\n",
      "\n",
      "Epoch [4][20]\t Batch [0][550]\t Training Loss 1.9493\t Accuracy 0.9600\n",
      "Epoch [4][20]\t Batch [50][550]\t Training Loss 1.9993\t Accuracy 0.9408\n",
      "Epoch [4][20]\t Batch [100][550]\t Training Loss 2.0278\t Accuracy 0.9373\n",
      "Epoch [4][20]\t Batch [150][550]\t Training Loss 2.0529\t Accuracy 0.9353\n",
      "Epoch [4][20]\t Batch [200][550]\t Training Loss 2.0449\t Accuracy 0.9367\n",
      "Epoch [4][20]\t Batch [250][550]\t Training Loss 2.0410\t Accuracy 0.9377\n",
      "Epoch [4][20]\t Batch [300][550]\t Training Loss 2.0464\t Accuracy 0.9371\n",
      "Epoch [4][20]\t Batch [350][550]\t Training Loss 2.0477\t Accuracy 0.9365\n",
      "Epoch [4][20]\t Batch [400][550]\t Training Loss 2.0491\t Accuracy 0.9368\n",
      "Epoch [4][20]\t Batch [450][550]\t Training Loss 2.0467\t Accuracy 0.9374\n",
      "Epoch [4][20]\t Batch [500][550]\t Training Loss 2.0503\t Accuracy 0.9368\n",
      "\n",
      "Epoch [4]\t Average training loss 2.0447\t Average training accuracy 0.9370\n",
      "Epoch [4]\t Average validation loss 1.9021\t Average validation accuracy 0.9540\n",
      "\n",
      "Epoch [5][20]\t Batch [0][550]\t Training Loss 1.9003\t Accuracy 0.9700\n",
      "Epoch [5][20]\t Batch [50][550]\t Training Loss 1.9436\t Accuracy 0.9445\n",
      "Epoch [5][20]\t Batch [100][550]\t Training Loss 1.9736\t Accuracy 0.9411\n",
      "Epoch [5][20]\t Batch [150][550]\t Training Loss 1.9979\t Accuracy 0.9396\n",
      "Epoch [5][20]\t Batch [200][550]\t Training Loss 1.9905\t Accuracy 0.9412\n",
      "Epoch [5][20]\t Batch [250][550]\t Training Loss 1.9866\t Accuracy 0.9422\n",
      "Epoch [5][20]\t Batch [300][550]\t Training Loss 1.9928\t Accuracy 0.9414\n",
      "Epoch [5][20]\t Batch [350][550]\t Training Loss 1.9943\t Accuracy 0.9410\n",
      "Epoch [5][20]\t Batch [400][550]\t Training Loss 1.9960\t Accuracy 0.9410\n",
      "Epoch [5][20]\t Batch [450][550]\t Training Loss 1.9939\t Accuracy 0.9418\n",
      "Epoch [5][20]\t Batch [500][550]\t Training Loss 1.9981\t Accuracy 0.9411\n",
      "\n",
      "Epoch [5]\t Average training loss 1.9927\t Average training accuracy 0.9413\n",
      "Epoch [5]\t Average validation loss 1.8646\t Average validation accuracy 0.9570\n",
      "\n",
      "Epoch [6][20]\t Batch [0][550]\t Training Loss 1.8603\t Accuracy 0.9700\n",
      "Epoch [6][20]\t Batch [50][550]\t Training Loss 1.8984\t Accuracy 0.9494\n",
      "Epoch [6][20]\t Batch [100][550]\t Training Loss 1.9299\t Accuracy 0.9451\n",
      "Epoch [6][20]\t Batch [150][550]\t Training Loss 1.9527\t Accuracy 0.9444\n",
      "Epoch [6][20]\t Batch [200][550]\t Training Loss 1.9458\t Accuracy 0.9456\n",
      "Epoch [6][20]\t Batch [250][550]\t Training Loss 1.9421\t Accuracy 0.9461\n",
      "Epoch [6][20]\t Batch [300][550]\t Training Loss 1.9490\t Accuracy 0.9451\n",
      "Epoch [6][20]\t Batch [350][550]\t Training Loss 1.9506\t Accuracy 0.9446\n",
      "Epoch [6][20]\t Batch [400][550]\t Training Loss 1.9524\t Accuracy 0.9446\n",
      "Epoch [6][20]\t Batch [450][550]\t Training Loss 1.9506\t Accuracy 0.9451\n",
      "Epoch [6][20]\t Batch [500][550]\t Training Loss 1.9551\t Accuracy 0.9444\n",
      "\n",
      "Epoch [6]\t Average training loss 1.9500\t Average training accuracy 0.9446\n",
      "Epoch [6]\t Average validation loss 1.8355\t Average validation accuracy 0.9588\n",
      "\n",
      "Epoch [7][20]\t Batch [0][550]\t Training Loss 1.8315\t Accuracy 0.9700\n",
      "Epoch [7][20]\t Batch [50][550]\t Training Loss 1.8620\t Accuracy 0.9524\n",
      "Epoch [7][20]\t Batch [100][550]\t Training Loss 1.8938\t Accuracy 0.9481\n",
      "Epoch [7][20]\t Batch [150][550]\t Training Loss 1.9152\t Accuracy 0.9471\n",
      "Epoch [7][20]\t Batch [200][550]\t Training Loss 1.9085\t Accuracy 0.9479\n",
      "Epoch [7][20]\t Batch [250][550]\t Training Loss 1.9049\t Accuracy 0.9482\n",
      "Epoch [7][20]\t Batch [300][550]\t Training Loss 1.9126\t Accuracy 0.9472\n",
      "Epoch [7][20]\t Batch [350][550]\t Training Loss 1.9141\t Accuracy 0.9472\n",
      "Epoch [7][20]\t Batch [400][550]\t Training Loss 1.9159\t Accuracy 0.9472\n",
      "Epoch [7][20]\t Batch [450][550]\t Training Loss 1.9144\t Accuracy 0.9476\n",
      "Epoch [7][20]\t Batch [500][550]\t Training Loss 1.9192\t Accuracy 0.9468\n",
      "\n",
      "Epoch [7]\t Average training loss 1.9142\t Average training accuracy 0.9471\n",
      "Epoch [7]\t Average validation loss 1.8109\t Average validation accuracy 0.9590\n",
      "\n",
      "Epoch [8][20]\t Batch [0][550]\t Training Loss 1.8076\t Accuracy 0.9700\n",
      "Epoch [8][20]\t Batch [50][550]\t Training Loss 1.8309\t Accuracy 0.9543\n",
      "Epoch [8][20]\t Batch [100][550]\t Training Loss 1.8627\t Accuracy 0.9499\n",
      "Epoch [8][20]\t Batch [150][550]\t Training Loss 1.8828\t Accuracy 0.9494\n",
      "Epoch [8][20]\t Batch [200][550]\t Training Loss 1.8763\t Accuracy 0.9502\n",
      "Epoch [8][20]\t Batch [250][550]\t Training Loss 1.8728\t Accuracy 0.9506\n",
      "Epoch [8][20]\t Batch [300][550]\t Training Loss 1.8809\t Accuracy 0.9497\n",
      "Epoch [8][20]\t Batch [350][550]\t Training Loss 1.8823\t Accuracy 0.9496\n",
      "Epoch [8][20]\t Batch [400][550]\t Training Loss 1.8842\t Accuracy 0.9494\n",
      "Epoch [8][20]\t Batch [450][550]\t Training Loss 1.8829\t Accuracy 0.9498\n",
      "Epoch [8][20]\t Batch [500][550]\t Training Loss 1.8880\t Accuracy 0.9490\n"
     ]
    },
    {
     "name": "stdout",
     "output_type": "stream",
     "text": [
      "\n",
      "Epoch [8]\t Average training loss 1.8831\t Average training accuracy 0.9494\n",
      "Epoch [8]\t Average validation loss 1.7909\t Average validation accuracy 0.9606\n",
      "\n",
      "Epoch [9][20]\t Batch [0][550]\t Training Loss 1.7884\t Accuracy 0.9700\n",
      "Epoch [9][20]\t Batch [50][550]\t Training Loss 1.8041\t Accuracy 0.9553\n",
      "Epoch [9][20]\t Batch [100][550]\t Training Loss 1.8358\t Accuracy 0.9511\n",
      "Epoch [9][20]\t Batch [150][550]\t Training Loss 1.8551\t Accuracy 0.9509\n",
      "Epoch [9][20]\t Batch [200][550]\t Training Loss 1.8485\t Accuracy 0.9519\n",
      "Epoch [9][20]\t Batch [250][550]\t Training Loss 1.8450\t Accuracy 0.9522\n",
      "Epoch [9][20]\t Batch [300][550]\t Training Loss 1.8534\t Accuracy 0.9513\n",
      "Epoch [9][20]\t Batch [350][550]\t Training Loss 1.8547\t Accuracy 0.9512\n",
      "Epoch [9][20]\t Batch [400][550]\t Training Loss 1.8567\t Accuracy 0.9511\n",
      "Epoch [9][20]\t Batch [450][550]\t Training Loss 1.8556\t Accuracy 0.9514\n",
      "Epoch [9][20]\t Batch [500][550]\t Training Loss 1.8608\t Accuracy 0.9507\n",
      "\n",
      "Epoch [9]\t Average training loss 1.8561\t Average training accuracy 0.9509\n",
      "Epoch [9]\t Average validation loss 1.7723\t Average validation accuracy 0.9624\n",
      "\n",
      "Epoch [10][20]\t Batch [0][550]\t Training Loss 1.7716\t Accuracy 0.9700\n",
      "Epoch [10][20]\t Batch [50][550]\t Training Loss 1.7806\t Accuracy 0.9569\n",
      "Epoch [10][20]\t Batch [100][550]\t Training Loss 1.8122\t Accuracy 0.9528\n",
      "Epoch [10][20]\t Batch [150][550]\t Training Loss 1.8308\t Accuracy 0.9527\n",
      "Epoch [10][20]\t Batch [200][550]\t Training Loss 1.8242\t Accuracy 0.9538\n",
      "Epoch [10][20]\t Batch [250][550]\t Training Loss 1.8205\t Accuracy 0.9543\n",
      "Epoch [10][20]\t Batch [300][550]\t Training Loss 1.8293\t Accuracy 0.9533\n",
      "Epoch [10][20]\t Batch [350][550]\t Training Loss 1.8303\t Accuracy 0.9532\n",
      "Epoch [10][20]\t Batch [400][550]\t Training Loss 1.8323\t Accuracy 0.9530\n",
      "Epoch [10][20]\t Batch [450][550]\t Training Loss 1.8315\t Accuracy 0.9531\n",
      "Epoch [10][20]\t Batch [500][550]\t Training Loss 1.8368\t Accuracy 0.9523\n",
      "\n",
      "Epoch [10]\t Average training loss 1.8322\t Average training accuracy 0.9526\n",
      "Epoch [10]\t Average validation loss 1.7559\t Average validation accuracy 0.9636\n",
      "\n",
      "Epoch [11][20]\t Batch [0][550]\t Training Loss 1.7572\t Accuracy 0.9700\n",
      "Epoch [11][20]\t Batch [50][550]\t Training Loss 1.7594\t Accuracy 0.9584\n",
      "Epoch [11][20]\t Batch [100][550]\t Training Loss 1.7907\t Accuracy 0.9547\n",
      "Epoch [11][20]\t Batch [150][550]\t Training Loss 1.8088\t Accuracy 0.9545\n",
      "Epoch [11][20]\t Batch [200][550]\t Training Loss 1.8023\t Accuracy 0.9559\n",
      "Epoch [11][20]\t Batch [250][550]\t Training Loss 1.7983\t Accuracy 0.9562\n",
      "Epoch [11][20]\t Batch [300][550]\t Training Loss 1.8074\t Accuracy 0.9551\n",
      "Epoch [11][20]\t Batch [350][550]\t Training Loss 1.8084\t Accuracy 0.9548\n",
      "Epoch [11][20]\t Batch [400][550]\t Training Loss 1.8105\t Accuracy 0.9546\n",
      "Epoch [11][20]\t Batch [450][550]\t Training Loss 1.8099\t Accuracy 0.9547\n",
      "Epoch [11][20]\t Batch [500][550]\t Training Loss 1.8152\t Accuracy 0.9541\n",
      "\n",
      "Epoch [11]\t Average training loss 1.8108\t Average training accuracy 0.9542\n",
      "Epoch [11]\t Average validation loss 1.7422\t Average validation accuracy 0.9644\n",
      "\n",
      "Epoch [12][20]\t Batch [0][550]\t Training Loss 1.7415\t Accuracy 0.9700\n",
      "Epoch [12][20]\t Batch [50][550]\t Training Loss 1.7396\t Accuracy 0.9608\n",
      "Epoch [12][20]\t Batch [100][550]\t Training Loss 1.7709\t Accuracy 0.9565\n",
      "Epoch [12][20]\t Batch [150][550]\t Training Loss 1.7886\t Accuracy 0.9566\n",
      "Epoch [12][20]\t Batch [200][550]\t Training Loss 1.7822\t Accuracy 0.9578\n",
      "Epoch [12][20]\t Batch [250][550]\t Training Loss 1.7781\t Accuracy 0.9580\n",
      "Epoch [12][20]\t Batch [300][550]\t Training Loss 1.7875\t Accuracy 0.9568\n",
      "Epoch [12][20]\t Batch [350][550]\t Training Loss 1.7884\t Accuracy 0.9566\n",
      "Epoch [12][20]\t Batch [400][550]\t Training Loss 1.7906\t Accuracy 0.9562\n",
      "Epoch [12][20]\t Batch [450][550]\t Training Loss 1.7902\t Accuracy 0.9563\n",
      "Epoch [12][20]\t Batch [500][550]\t Training Loss 1.7955\t Accuracy 0.9557\n",
      "\n",
      "Epoch [12]\t Average training loss 1.7913\t Average training accuracy 0.9558\n",
      "Epoch [12]\t Average validation loss 1.7289\t Average validation accuracy 0.9654\n",
      "\n",
      "Epoch [13][20]\t Batch [0][550]\t Training Loss 1.7235\t Accuracy 0.9700\n",
      "Epoch [13][20]\t Batch [50][550]\t Training Loss 1.7210\t Accuracy 0.9631\n",
      "Epoch [13][20]\t Batch [100][550]\t Training Loss 1.7523\t Accuracy 0.9586\n",
      "Epoch [13][20]\t Batch [150][550]\t Training Loss 1.7698\t Accuracy 0.9583\n",
      "Epoch [13][20]\t Batch [200][550]\t Training Loss 1.7635\t Accuracy 0.9593\n",
      "Epoch [13][20]\t Batch [250][550]\t Training Loss 1.7593\t Accuracy 0.9594\n",
      "Epoch [13][20]\t Batch [300][550]\t Training Loss 1.7691\t Accuracy 0.9582\n",
      "Epoch [13][20]\t Batch [350][550]\t Training Loss 1.7699\t Accuracy 0.9580\n",
      "Epoch [13][20]\t Batch [400][550]\t Training Loss 1.7721\t Accuracy 0.9576\n",
      "Epoch [13][20]\t Batch [450][550]\t Training Loss 1.7719\t Accuracy 0.9577\n",
      "Epoch [13][20]\t Batch [500][550]\t Training Loss 1.7773\t Accuracy 0.9571\n",
      "\n",
      "Epoch [13]\t Average training loss 1.7732\t Average training accuracy 0.9572\n",
      "Epoch [13]\t Average validation loss 1.7170\t Average validation accuracy 0.9660\n",
      "\n",
      "Epoch [14][20]\t Batch [0][550]\t Training Loss 1.7076\t Accuracy 0.9700\n",
      "Epoch [14][20]\t Batch [50][550]\t Training Loss 1.7037\t Accuracy 0.9643\n",
      "Epoch [14][20]\t Batch [100][550]\t Training Loss 1.7353\t Accuracy 0.9591\n",
      "Epoch [14][20]\t Batch [150][550]\t Training Loss 1.7524\t Accuracy 0.9590\n",
      "Epoch [14][20]\t Batch [200][550]\t Training Loss 1.7464\t Accuracy 0.9601\n",
      "Epoch [14][20]\t Batch [250][550]\t Training Loss 1.7421\t Accuracy 0.9603\n",
      "Epoch [14][20]\t Batch [300][550]\t Training Loss 1.7521\t Accuracy 0.9593\n",
      "Epoch [14][20]\t Batch [350][550]\t Training Loss 1.7529\t Accuracy 0.9591\n",
      "Epoch [14][20]\t Batch [400][550]\t Training Loss 1.7553\t Accuracy 0.9588\n",
      "Epoch [14][20]\t Batch [450][550]\t Training Loss 1.7551\t Accuracy 0.9589\n",
      "Epoch [14][20]\t Batch [500][550]\t Training Loss 1.7605\t Accuracy 0.9582\n",
      "\n",
      "Epoch [14]\t Average training loss 1.7566\t Average training accuracy 0.9583\n",
      "Epoch [14]\t Average validation loss 1.7052\t Average validation accuracy 0.9658\n",
      "\n",
      "Epoch [15][20]\t Batch [0][550]\t Training Loss 1.6923\t Accuracy 0.9700\n",
      "Epoch [15][20]\t Batch [50][550]\t Training Loss 1.6881\t Accuracy 0.9651\n",
      "Epoch [15][20]\t Batch [100][550]\t Training Loss 1.7198\t Accuracy 0.9600\n",
      "Epoch [15][20]\t Batch [150][550]\t Training Loss 1.7366\t Accuracy 0.9599\n",
      "Epoch [15][20]\t Batch [200][550]\t Training Loss 1.7307\t Accuracy 0.9610\n",
      "Epoch [15][20]\t Batch [250][550]\t Training Loss 1.7264\t Accuracy 0.9613\n",
      "Epoch [15][20]\t Batch [300][550]\t Training Loss 1.7366\t Accuracy 0.9601\n",
      "Epoch [15][20]\t Batch [350][550]\t Training Loss 1.7375\t Accuracy 0.9601\n",
      "Epoch [15][20]\t Batch [400][550]\t Training Loss 1.7399\t Accuracy 0.9599\n",
      "Epoch [15][20]\t Batch [450][550]\t Training Loss 1.7398\t Accuracy 0.9600\n",
      "Epoch [15][20]\t Batch [500][550]\t Training Loss 1.7453\t Accuracy 0.9593\n",
      "\n",
      "Epoch [15]\t Average training loss 1.7415\t Average training accuracy 0.9594\n",
      "Epoch [15]\t Average validation loss 1.6945\t Average validation accuracy 0.9664\n",
      "\n",
      "Epoch [16][20]\t Batch [0][550]\t Training Loss 1.6752\t Accuracy 0.9700\n",
      "Epoch [16][20]\t Batch [50][550]\t Training Loss 1.6738\t Accuracy 0.9665\n",
      "Epoch [16][20]\t Batch [100][550]\t Training Loss 1.7052\t Accuracy 0.9617\n",
      "Epoch [16][20]\t Batch [150][550]\t Training Loss 1.7217\t Accuracy 0.9613\n",
      "Epoch [16][20]\t Batch [200][550]\t Training Loss 1.7160\t Accuracy 0.9624\n",
      "Epoch [16][20]\t Batch [250][550]\t Training Loss 1.7117\t Accuracy 0.9625\n",
      "Epoch [16][20]\t Batch [300][550]\t Training Loss 1.7221\t Accuracy 0.9613\n",
      "Epoch [16][20]\t Batch [350][550]\t Training Loss 1.7230\t Accuracy 0.9612\n",
      "Epoch [16][20]\t Batch [400][550]\t Training Loss 1.7255\t Accuracy 0.9610\n",
      "Epoch [16][20]\t Batch [450][550]\t Training Loss 1.7254\t Accuracy 0.9610\n",
      "Epoch [16][20]\t Batch [500][550]\t Training Loss 1.7310\t Accuracy 0.9603\n",
      "\n",
      "Epoch [16]\t Average training loss 1.7273\t Average training accuracy 0.9605\n",
      "Epoch [16]\t Average validation loss 1.6850\t Average validation accuracy 0.9670\n",
      "\n",
      "Epoch [17][20]\t Batch [0][550]\t Training Loss 1.6599\t Accuracy 0.9700\n",
      "Epoch [17][20]\t Batch [50][550]\t Training Loss 1.6602\t Accuracy 0.9675\n",
      "Epoch [17][20]\t Batch [100][550]\t Training Loss 1.6914\t Accuracy 0.9632\n",
      "Epoch [17][20]\t Batch [150][550]\t Training Loss 1.7078\t Accuracy 0.9625\n",
      "Epoch [17][20]\t Batch [200][550]\t Training Loss 1.7024\t Accuracy 0.9634\n",
      "Epoch [17][20]\t Batch [250][550]\t Training Loss 1.6981\t Accuracy 0.9636\n",
      "Epoch [17][20]\t Batch [300][550]\t Training Loss 1.7086\t Accuracy 0.9625\n",
      "Epoch [17][20]\t Batch [350][550]\t Training Loss 1.7095\t Accuracy 0.9623\n"
     ]
    },
    {
     "name": "stdout",
     "output_type": "stream",
     "text": [
      "Epoch [17][20]\t Batch [400][550]\t Training Loss 1.7121\t Accuracy 0.9622\n",
      "Epoch [17][20]\t Batch [450][550]\t Training Loss 1.7120\t Accuracy 0.9621\n",
      "Epoch [17][20]\t Batch [500][550]\t Training Loss 1.7176\t Accuracy 0.9613\n",
      "\n",
      "Epoch [17]\t Average training loss 1.7141\t Average training accuracy 0.9615\n",
      "Epoch [17]\t Average validation loss 1.6762\t Average validation accuracy 0.9670\n",
      "\n",
      "Epoch [18][20]\t Batch [0][550]\t Training Loss 1.6460\t Accuracy 0.9700\n",
      "Epoch [18][20]\t Batch [50][550]\t Training Loss 1.6480\t Accuracy 0.9678\n",
      "Epoch [18][20]\t Batch [100][550]\t Training Loss 1.6785\t Accuracy 0.9639\n",
      "Epoch [18][20]\t Batch [150][550]\t Training Loss 1.6947\t Accuracy 0.9630\n",
      "Epoch [18][20]\t Batch [200][550]\t Training Loss 1.6896\t Accuracy 0.9638\n",
      "Epoch [18][20]\t Batch [250][550]\t Training Loss 1.6852\t Accuracy 0.9642\n",
      "Epoch [18][20]\t Batch [300][550]\t Training Loss 1.6959\t Accuracy 0.9631\n",
      "Epoch [18][20]\t Batch [350][550]\t Training Loss 1.6970\t Accuracy 0.9629\n",
      "Epoch [18][20]\t Batch [400][550]\t Training Loss 1.6995\t Accuracy 0.9628\n",
      "Epoch [18][20]\t Batch [450][550]\t Training Loss 1.6995\t Accuracy 0.9627\n",
      "Epoch [18][20]\t Batch [500][550]\t Training Loss 1.7051\t Accuracy 0.9619\n",
      "\n",
      "Epoch [18]\t Average training loss 1.7017\t Average training accuracy 0.9621\n",
      "Epoch [18]\t Average validation loss 1.6684\t Average validation accuracy 0.9674\n",
      "\n",
      "Epoch [19][20]\t Batch [0][550]\t Training Loss 1.6339\t Accuracy 0.9800\n",
      "Epoch [19][20]\t Batch [50][550]\t Training Loss 1.6365\t Accuracy 0.9680\n",
      "Epoch [19][20]\t Batch [100][550]\t Training Loss 1.6666\t Accuracy 0.9645\n",
      "Epoch [19][20]\t Batch [150][550]\t Training Loss 1.6826\t Accuracy 0.9636\n",
      "Epoch [19][20]\t Batch [200][550]\t Training Loss 1.6778\t Accuracy 0.9646\n",
      "Epoch [19][20]\t Batch [250][550]\t Training Loss 1.6734\t Accuracy 0.9649\n",
      "Epoch [19][20]\t Batch [300][550]\t Training Loss 1.6843\t Accuracy 0.9638\n",
      "Epoch [19][20]\t Batch [350][550]\t Training Loss 1.6854\t Accuracy 0.9636\n",
      "Epoch [19][20]\t Batch [400][550]\t Training Loss 1.6879\t Accuracy 0.9635\n",
      "Epoch [19][20]\t Batch [450][550]\t Training Loss 1.6879\t Accuracy 0.9635\n",
      "Epoch [19][20]\t Batch [500][550]\t Training Loss 1.6935\t Accuracy 0.9627\n",
      "\n",
      "Epoch [19]\t Average training loss 1.6903\t Average training accuracy 0.9629\n",
      "Epoch [19]\t Average validation loss 1.6607\t Average validation accuracy 0.9678\n",
      "\n"
     ]
    }
   ],
   "source": [
    "reluMLP, relu_loss, relu_acc = train(reluMLP, criterion, sgd, data_train, max_epoch, batch_size, disp_freq)"
   ]
  },
  {
   "cell_type": "code",
   "execution_count": 12,
   "metadata": {
    "pycharm": {
     "name": "#%%\n"
    }
   },
   "outputs": [
    {
     "name": "stdout",
     "output_type": "stream",
     "text": [
      "Testing...\n",
      "The test accuracy is 0.9590.\n",
      "\n"
     ]
    }
   ],
   "source": [
    "test(reluMLP, criterion, data_test, batch_size, disp_freq)"
   ]
  },
  {
   "cell_type": "markdown",
   "metadata": {
    "pycharm": {
     "name": "#%% md\n"
    }
   },
   "source": [
    "## 绘制曲线"
   ]
  },
  {
   "cell_type": "code",
   "execution_count": 13,
   "metadata": {
    "pycharm": {
     "name": "#%%\n"
    }
   },
   "outputs": [
    {
     "data": {
      "image/png": "[encoded data removed]",
      "text/plain": [
       "<Figure size 432x288 with 1 Axes>"
      ]
     },
     "metadata": {
      "needs_background": "light"
     },
     "output_type": "display_data"
    },
    {
     "data": {
      "image/png": "[encoded data removed]",
      "text/plain": [
       "<Figure size 432x288 with 1 Axes>"
      ]
     },
     "metadata": {
      "needs_background": "light"
     },
     "output_type": "display_data"
    }
   ],
   "source": [
    "plot_loss_and_acc({'Sigmoid': [sigmoid_loss, sigmoid_acc],\n",
    "                   'relu': [relu_loss, relu_acc]})"
   ]
  },
  {
   "cell_type": "markdown",
   "metadata": {
    "pycharm": {
     "name": "#%% md\n"
    }
   },
   "source": [
    "## 2. 使用Softmax交叉熵损失训练多层感知机(MLP with Softmax Cross-Entropy Loss)\n",
    "第二部分将使用Softmax交叉熵损失训练多层感知机. \n",
    "分别使用**Sigmoid**激活函数和**ReLU**激活函数.\n",
    "\n",
    "### TODO\n",
    "执行以下代码之前，请完成 **criterion/softmax_cross_entropy_loss.py**."
   ]
  },
  {
   "cell_type": "code",
   "execution_count": 14,
   "metadata": {
    "pycharm": {
     "name": "#%%\n"
    }
   },
   "outputs": [],
   "source": [
    "from criterion import SoftmaxCrossEntropyLossLayer\n",
    "\n",
    "criterion = SoftmaxCrossEntropyLossLayer()\n",
    "\n",
    "sgd = SGD(learning_rate_SGD, weight_decay)"
   ]
  },
  {
   "cell_type": "markdown",
   "metadata": {
    "pycharm": {
     "name": "#%% md\n"
    }
   },
   "source": [
    "## 2.1 使用Softmax交叉熵损失和Sigmoid激活函数训练多层感知机\n",
    "训练带有一个隐含层且神经元个数为128的多层感知机，使用Softmax交叉熵损失和Sigmoid激活函数."
   ]
  },
  {
   "cell_type": "code",
   "execution_count": 15,
   "metadata": {
    "pycharm": {
     "name": "#%%\n"
    }
   },
   "outputs": [],
   "source": [
    "sigmoidMLP = Network()\n",
    "# 使用FCLayer和SigmoidLayer构建多层感知机\n",
    "# 128为隐含层的神经元数目\n",
    "sigmoidMLP.add(FCLayer(784, 128))\n",
    "sigmoidMLP.add(SigmoidLayer())\n",
    "sigmoidMLP.add(FCLayer(128, 10))"
   ]
  },
  {
   "cell_type": "markdown",
   "metadata": {
    "pycharm": {
     "name": "#%% md\n"
    }
   },
   "source": [
    "### 训练"
   ]
  },
  {
   "cell_type": "code",
   "execution_count": 16,
   "metadata": {
    "pycharm": {
     "name": "#%%\n"
    },
    "scrolled": true
   },
   "outputs": [
    {
     "name": "stdout",
     "output_type": "stream",
     "text": [
      "Epoch [0][20]\t Batch [0][550]\t Training Loss 2.8934\t Accuracy 0.1400\n",
      "Epoch [0][20]\t Batch [50][550]\t Training Loss 1.8810\t Accuracy 0.5108\n",
      "Epoch [0][20]\t Batch [100][550]\t Training Loss 1.5511\t Accuracy 0.6375\n",
      "Epoch [0][20]\t Batch [150][550]\t Training Loss 1.3478\t Accuracy 0.6901\n",
      "Epoch [0][20]\t Batch [200][550]\t Training Loss 1.2056\t Accuracy 0.7251\n",
      "Epoch [0][20]\t Batch [250][550]\t Training Loss 1.0961\t Accuracy 0.7507\n",
      "Epoch [0][20]\t Batch [300][550]\t Training Loss 1.0136\t Accuracy 0.7690\n",
      "Epoch [0][20]\t Batch [350][550]\t Training Loss 0.9538\t Accuracy 0.7817\n",
      "Epoch [0][20]\t Batch [400][550]\t Training Loss 0.9001\t Accuracy 0.7925\n",
      "Epoch [0][20]\t Batch [450][550]\t Training Loss 0.8564\t Accuracy 0.8010\n",
      "Epoch [0][20]\t Batch [500][550]\t Training Loss 0.8196\t Accuracy 0.8083\n",
      "\n",
      "Epoch [0]\t Average training loss 0.7877\t Average training accuracy 0.8147\n",
      "Epoch [0]\t Average validation loss 0.3675\t Average validation accuracy 0.9114\n",
      "\n",
      "Epoch [1][20]\t Batch [0][550]\t Training Loss 0.4342\t Accuracy 0.9000\n",
      "Epoch [1][20]\t Batch [50][550]\t Training Loss 0.4168\t Accuracy 0.8906\n",
      "Epoch [1][20]\t Batch [100][550]\t Training Loss 0.4200\t Accuracy 0.8896\n",
      "Epoch [1][20]\t Batch [150][550]\t Training Loss 0.4267\t Accuracy 0.8861\n",
      "Epoch [1][20]\t Batch [200][550]\t Training Loss 0.4205\t Accuracy 0.8881\n",
      "Epoch [1][20]\t Batch [250][550]\t Training Loss 0.4140\t Accuracy 0.8899\n",
      "Epoch [1][20]\t Batch [300][550]\t Training Loss 0.4101\t Accuracy 0.8904\n",
      "Epoch [1][20]\t Batch [350][550]\t Training Loss 0.4103\t Accuracy 0.8893\n",
      "Epoch [1][20]\t Batch [400][550]\t Training Loss 0.4063\t Accuracy 0.8902\n",
      "Epoch [1][20]\t Batch [450][550]\t Training Loss 0.4035\t Accuracy 0.8907\n",
      "Epoch [1][20]\t Batch [500][550]\t Training Loss 0.4014\t Accuracy 0.8909\n",
      "\n",
      "Epoch [1]\t Average training loss 0.3987\t Average training accuracy 0.8912\n",
      "Epoch [1]\t Average validation loss 0.2874\t Average validation accuracy 0.9256\n",
      "\n",
      "Epoch [2][20]\t Batch [0][550]\t Training Loss 0.3395\t Accuracy 0.9400\n",
      "Epoch [2][20]\t Batch [50][550]\t Training Loss 0.3319\t Accuracy 0.9094\n",
      "Epoch [2][20]\t Batch [100][550]\t Training Loss 0.3412\t Accuracy 0.9058\n",
      "Epoch [2][20]\t Batch [150][550]\t Training Loss 0.3521\t Accuracy 0.9024\n",
      "Epoch [2][20]\t Batch [200][550]\t Training Loss 0.3478\t Accuracy 0.9039\n",
      "Epoch [2][20]\t Batch [250][550]\t Training Loss 0.3450\t Accuracy 0.9047\n",
      "Epoch [2][20]\t Batch [300][550]\t Training Loss 0.3440\t Accuracy 0.9047\n",
      "Epoch [2][20]\t Batch [350][550]\t Training Loss 0.3461\t Accuracy 0.9033\n",
      "Epoch [2][20]\t Batch [400][550]\t Training Loss 0.3446\t Accuracy 0.9037\n",
      "Epoch [2][20]\t Batch [450][550]\t Training Loss 0.3439\t Accuracy 0.9035\n",
      "Epoch [2][20]\t Batch [500][550]\t Training Loss 0.3439\t Accuracy 0.9035\n",
      "\n",
      "Epoch [2]\t Average training loss 0.3432\t Average training accuracy 0.9035\n",
      "Epoch [2]\t Average validation loss 0.2579\t Average validation accuracy 0.9322\n",
      "\n",
      "Epoch [3][20]\t Batch [0][550]\t Training Loss 0.2997\t Accuracy 0.9400\n",
      "Epoch [3][20]\t Batch [50][550]\t Training Loss 0.2971\t Accuracy 0.9182\n",
      "Epoch [3][20]\t Batch [100][550]\t Training Loss 0.3078\t Accuracy 0.9142\n",
      "Epoch [3][20]\t Batch [150][550]\t Training Loss 0.3196\t Accuracy 0.9101\n",
      "Epoch [3][20]\t Batch [200][550]\t Training Loss 0.3154\t Accuracy 0.9115\n",
      "Epoch [3][20]\t Batch [250][550]\t Training Loss 0.3138\t Accuracy 0.9121\n",
      "Epoch [3][20]\t Batch [300][550]\t Training Loss 0.3135\t Accuracy 0.9123\n",
      "Epoch [3][20]\t Batch [350][550]\t Training Loss 0.3158\t Accuracy 0.9109\n",
      "Epoch [3][20]\t Batch [400][550]\t Training Loss 0.3151\t Accuracy 0.9108\n",
      "Epoch [3][20]\t Batch [450][550]\t Training Loss 0.3149\t Accuracy 0.9107\n",
      "Epoch [3][20]\t Batch [500][550]\t Training Loss 0.3155\t Accuracy 0.9105\n",
      "\n",
      "Epoch [3]\t Average training loss 0.3153\t Average training accuracy 0.9103\n",
      "Epoch [3]\t Average validation loss 0.2406\t Average validation accuracy 0.9354\n",
      "\n",
      "Epoch [4][20]\t Batch [0][550]\t Training Loss 0.2751\t Accuracy 0.9400\n",
      "Epoch [4][20]\t Batch [50][550]\t Training Loss 0.2759\t Accuracy 0.9233\n",
      "Epoch [4][20]\t Batch [100][550]\t Training Loss 0.2869\t Accuracy 0.9192\n",
      "Epoch [4][20]\t Batch [150][550]\t Training Loss 0.2989\t Accuracy 0.9151\n",
      "Epoch [4][20]\t Batch [200][550]\t Training Loss 0.2947\t Accuracy 0.9164\n",
      "Epoch [4][20]\t Batch [250][550]\t Training Loss 0.2936\t Accuracy 0.9170\n",
      "Epoch [4][20]\t Batch [300][550]\t Training Loss 0.2936\t Accuracy 0.9173\n",
      "Epoch [4][20]\t Batch [350][550]\t Training Loss 0.2958\t Accuracy 0.9159\n",
      "Epoch [4][20]\t Batch [400][550]\t Training Loss 0.2954\t Accuracy 0.9158\n",
      "Epoch [4][20]\t Batch [450][550]\t Training Loss 0.2956\t Accuracy 0.9157\n",
      "Epoch [4][20]\t Batch [500][550]\t Training Loss 0.2963\t Accuracy 0.9155\n",
      "\n",
      "Epoch [4]\t Average training loss 0.2965\t Average training accuracy 0.9152\n",
      "Epoch [4]\t Average validation loss 0.2281\t Average validation accuracy 0.9376\n",
      "\n",
      "Epoch [5][20]\t Batch [0][550]\t Training Loss 0.2573\t Accuracy 0.9400\n",
      "Epoch [5][20]\t Batch [50][550]\t Training Loss 0.2602\t Accuracy 0.9276\n",
      "Epoch [5][20]\t Batch [100][550]\t Training Loss 0.2712\t Accuracy 0.9239\n",
      "Epoch [5][20]\t Batch [150][550]\t Training Loss 0.2830\t Accuracy 0.9201\n",
      "Epoch [5][20]\t Batch [200][550]\t Training Loss 0.2788\t Accuracy 0.9212\n",
      "Epoch [5][20]\t Batch [250][550]\t Training Loss 0.2782\t Accuracy 0.9215\n",
      "Epoch [5][20]\t Batch [300][550]\t Training Loss 0.2783\t Accuracy 0.9218\n",
      "Epoch [5][20]\t Batch [350][550]\t Training Loss 0.2804\t Accuracy 0.9205\n",
      "Epoch [5][20]\t Batch [400][550]\t Training Loss 0.2802\t Accuracy 0.9201\n",
      "Epoch [5][20]\t Batch [450][550]\t Training Loss 0.2805\t Accuracy 0.9201\n",
      "Epoch [5][20]\t Batch [500][550]\t Training Loss 0.2814\t Accuracy 0.9200\n",
      "\n",
      "Epoch [5]\t Average training loss 0.2816\t Average training accuracy 0.9196\n",
      "Epoch [5]\t Average validation loss 0.2179\t Average validation accuracy 0.9408\n",
      "\n",
      "Epoch [6][20]\t Batch [0][550]\t Training Loss 0.2433\t Accuracy 0.9400\n",
      "Epoch [6][20]\t Batch [50][550]\t Training Loss 0.2473\t Accuracy 0.9310\n",
      "Epoch [6][20]\t Batch [100][550]\t Training Loss 0.2581\t Accuracy 0.9266\n",
      "Epoch [6][20]\t Batch [150][550]\t Training Loss 0.2696\t Accuracy 0.9231\n",
      "Epoch [6][20]\t Batch [200][550]\t Training Loss 0.2655\t Accuracy 0.9240\n",
      "Epoch [6][20]\t Batch [250][550]\t Training Loss 0.2652\t Accuracy 0.9242\n",
      "Epoch [6][20]\t Batch [300][550]\t Training Loss 0.2654\t Accuracy 0.9247\n",
      "Epoch [6][20]\t Batch [350][550]\t Training Loss 0.2673\t Accuracy 0.9236\n",
      "Epoch [6][20]\t Batch [400][550]\t Training Loss 0.2672\t Accuracy 0.9234\n",
      "Epoch [6][20]\t Batch [450][550]\t Training Loss 0.2676\t Accuracy 0.9233\n",
      "Epoch [6][20]\t Batch [500][550]\t Training Loss 0.2686\t Accuracy 0.9231\n",
      "\n",
      "Epoch [6]\t Average training loss 0.2688\t Average training accuracy 0.9229\n",
      "Epoch [6]\t Average validation loss 0.2089\t Average validation accuracy 0.9440\n",
      "\n",
      "Epoch [7][20]\t Batch [0][550]\t Training Loss 0.2316\t Accuracy 0.9400\n",
      "Epoch [7][20]\t Batch [50][550]\t Training Loss 0.2361\t Accuracy 0.9355\n",
      "Epoch [7][20]\t Batch [100][550]\t Training Loss 0.2466\t Accuracy 0.9312\n",
      "Epoch [7][20]\t Batch [150][550]\t Training Loss 0.2576\t Accuracy 0.9270\n",
      "Epoch [7][20]\t Batch [200][550]\t Training Loss 0.2536\t Accuracy 0.9279\n",
      "Epoch [7][20]\t Batch [250][550]\t Training Loss 0.2535\t Accuracy 0.9281\n",
      "Epoch [7][20]\t Batch [300][550]\t Training Loss 0.2539\t Accuracy 0.9282\n",
      "Epoch [7][20]\t Batch [350][550]\t Training Loss 0.2556\t Accuracy 0.9274\n",
      "Epoch [7][20]\t Batch [400][550]\t Training Loss 0.2556\t Accuracy 0.9269\n",
      "Epoch [7][20]\t Batch [450][550]\t Training Loss 0.2560\t Accuracy 0.9266\n",
      "Epoch [7][20]\t Batch [500][550]\t Training Loss 0.2571\t Accuracy 0.9264\n",
      "\n",
      "Epoch [7]\t Average training loss 0.2573\t Average training accuracy 0.9261\n",
      "Epoch [7]\t Average validation loss 0.2007\t Average validation accuracy 0.9450\n",
      "\n",
      "Epoch [8][20]\t Batch [0][550]\t Training Loss 0.2214\t Accuracy 0.9500\n",
      "Epoch [8][20]\t Batch [50][550]\t Training Loss 0.2259\t Accuracy 0.9378\n",
      "Epoch [8][20]\t Batch [100][550]\t Training Loss 0.2361\t Accuracy 0.9344\n",
      "Epoch [8][20]\t Batch [150][550]\t Training Loss 0.2466\t Accuracy 0.9306\n",
      "Epoch [8][20]\t Batch [200][550]\t Training Loss 0.2428\t Accuracy 0.9312\n",
      "Epoch [8][20]\t Batch [250][550]\t Training Loss 0.2429\t Accuracy 0.9318\n",
      "Epoch [8][20]\t Batch [300][550]\t Training Loss 0.2433\t Accuracy 0.9316\n",
      "Epoch [8][20]\t Batch [350][550]\t Training Loss 0.2449\t Accuracy 0.9309\n",
      "Epoch [8][20]\t Batch [400][550]\t Training Loss 0.2450\t Accuracy 0.9304\n",
      "Epoch [8][20]\t Batch [450][550]\t Training Loss 0.2454\t Accuracy 0.9302\n",
      "Epoch [8][20]\t Batch [500][550]\t Training Loss 0.2465\t Accuracy 0.9299\n"
     ]
    },
    {
     "name": "stdout",
     "output_type": "stream",
     "text": [
      "\n",
      "Epoch [8]\t Average training loss 0.2468\t Average training accuracy 0.9297\n",
      "Epoch [8]\t Average validation loss 0.1932\t Average validation accuracy 0.9476\n",
      "\n",
      "Epoch [9][20]\t Batch [0][550]\t Training Loss 0.2121\t Accuracy 0.9500\n",
      "Epoch [9][20]\t Batch [50][550]\t Training Loss 0.2164\t Accuracy 0.9406\n",
      "Epoch [9][20]\t Batch [100][550]\t Training Loss 0.2264\t Accuracy 0.9367\n",
      "Epoch [9][20]\t Batch [150][550]\t Training Loss 0.2363\t Accuracy 0.9336\n",
      "Epoch [9][20]\t Batch [200][550]\t Training Loss 0.2327\t Accuracy 0.9343\n",
      "Epoch [9][20]\t Batch [250][550]\t Training Loss 0.2329\t Accuracy 0.9347\n",
      "Epoch [9][20]\t Batch [300][550]\t Training Loss 0.2335\t Accuracy 0.9347\n",
      "Epoch [9][20]\t Batch [350][550]\t Training Loss 0.2349\t Accuracy 0.9340\n",
      "Epoch [9][20]\t Batch [400][550]\t Training Loss 0.2350\t Accuracy 0.9337\n",
      "Epoch [9][20]\t Batch [450][550]\t Training Loss 0.2355\t Accuracy 0.9334\n",
      "Epoch [9][20]\t Batch [500][550]\t Training Loss 0.2367\t Accuracy 0.9330\n",
      "\n",
      "Epoch [9]\t Average training loss 0.2369\t Average training accuracy 0.9328\n",
      "Epoch [9]\t Average validation loss 0.1862\t Average validation accuracy 0.9502\n",
      "\n",
      "Epoch [10][20]\t Batch [0][550]\t Training Loss 0.2035\t Accuracy 0.9500\n",
      "Epoch [10][20]\t Batch [50][550]\t Training Loss 0.2076\t Accuracy 0.9420\n",
      "Epoch [10][20]\t Batch [100][550]\t Training Loss 0.2173\t Accuracy 0.9386\n",
      "Epoch [10][20]\t Batch [150][550]\t Training Loss 0.2267\t Accuracy 0.9356\n",
      "Epoch [10][20]\t Batch [200][550]\t Training Loss 0.2233\t Accuracy 0.9366\n",
      "Epoch [10][20]\t Batch [250][550]\t Training Loss 0.2237\t Accuracy 0.9368\n",
      "Epoch [10][20]\t Batch [300][550]\t Training Loss 0.2243\t Accuracy 0.9368\n",
      "Epoch [10][20]\t Batch [350][550]\t Training Loss 0.2256\t Accuracy 0.9363\n",
      "Epoch [10][20]\t Batch [400][550]\t Training Loss 0.2258\t Accuracy 0.9359\n",
      "Epoch [10][20]\t Batch [450][550]\t Training Loss 0.2263\t Accuracy 0.9357\n",
      "Epoch [10][20]\t Batch [500][550]\t Training Loss 0.2275\t Accuracy 0.9352\n",
      "\n",
      "Epoch [10]\t Average training loss 0.2277\t Average training accuracy 0.9352\n",
      "Epoch [10]\t Average validation loss 0.1798\t Average validation accuracy 0.9524\n",
      "\n",
      "Epoch [11][20]\t Batch [0][550]\t Training Loss 0.1954\t Accuracy 0.9500\n",
      "Epoch [11][20]\t Batch [50][550]\t Training Loss 0.1994\t Accuracy 0.9447\n",
      "Epoch [11][20]\t Batch [100][550]\t Training Loss 0.2089\t Accuracy 0.9407\n",
      "Epoch [11][20]\t Batch [150][550]\t Training Loss 0.2177\t Accuracy 0.9379\n",
      "Epoch [11][20]\t Batch [200][550]\t Training Loss 0.2146\t Accuracy 0.9389\n",
      "Epoch [11][20]\t Batch [250][550]\t Training Loss 0.2150\t Accuracy 0.9391\n",
      "Epoch [11][20]\t Batch [300][550]\t Training Loss 0.2158\t Accuracy 0.9392\n",
      "Epoch [11][20]\t Batch [350][550]\t Training Loss 0.2170\t Accuracy 0.9388\n",
      "Epoch [11][20]\t Batch [400][550]\t Training Loss 0.2171\t Accuracy 0.9385\n",
      "Epoch [11][20]\t Batch [450][550]\t Training Loss 0.2177\t Accuracy 0.9382\n",
      "Epoch [11][20]\t Batch [500][550]\t Training Loss 0.2189\t Accuracy 0.9378\n",
      "\n",
      "Epoch [11]\t Average training loss 0.2191\t Average training accuracy 0.9378\n",
      "Epoch [11]\t Average validation loss 0.1739\t Average validation accuracy 0.9546\n",
      "\n",
      "Epoch [12][20]\t Batch [0][550]\t Training Loss 0.1878\t Accuracy 0.9500\n",
      "Epoch [12][20]\t Batch [50][550]\t Training Loss 0.1918\t Accuracy 0.9478\n",
      "Epoch [12][20]\t Batch [100][550]\t Training Loss 0.2010\t Accuracy 0.9432\n",
      "Epoch [12][20]\t Batch [150][550]\t Training Loss 0.2093\t Accuracy 0.9405\n",
      "Epoch [12][20]\t Batch [200][550]\t Training Loss 0.2064\t Accuracy 0.9412\n",
      "Epoch [12][20]\t Batch [250][550]\t Training Loss 0.2069\t Accuracy 0.9415\n",
      "Epoch [12][20]\t Batch [300][550]\t Training Loss 0.2077\t Accuracy 0.9416\n",
      "Epoch [12][20]\t Batch [350][550]\t Training Loss 0.2089\t Accuracy 0.9409\n",
      "Epoch [12][20]\t Batch [400][550]\t Training Loss 0.2091\t Accuracy 0.9407\n",
      "Epoch [12][20]\t Batch [450][550]\t Training Loss 0.2096\t Accuracy 0.9404\n",
      "Epoch [12][20]\t Batch [500][550]\t Training Loss 0.2109\t Accuracy 0.9400\n",
      "\n",
      "Epoch [12]\t Average training loss 0.2111\t Average training accuracy 0.9400\n",
      "Epoch [12]\t Average validation loss 0.1684\t Average validation accuracy 0.9560\n",
      "\n",
      "Epoch [13][20]\t Batch [0][550]\t Training Loss 0.1807\t Accuracy 0.9600\n",
      "Epoch [13][20]\t Batch [50][550]\t Training Loss 0.1846\t Accuracy 0.9506\n",
      "Epoch [13][20]\t Batch [100][550]\t Training Loss 0.1937\t Accuracy 0.9455\n",
      "Epoch [13][20]\t Batch [150][550]\t Training Loss 0.2015\t Accuracy 0.9430\n",
      "Epoch [13][20]\t Batch [200][550]\t Training Loss 0.1988\t Accuracy 0.9439\n",
      "Epoch [13][20]\t Batch [250][550]\t Training Loss 0.1994\t Accuracy 0.9438\n",
      "Epoch [13][20]\t Batch [300][550]\t Training Loss 0.2002\t Accuracy 0.9438\n",
      "Epoch [13][20]\t Batch [350][550]\t Training Loss 0.2014\t Accuracy 0.9432\n",
      "Epoch [13][20]\t Batch [400][550]\t Training Loss 0.2015\t Accuracy 0.9431\n",
      "Epoch [13][20]\t Batch [450][550]\t Training Loss 0.2021\t Accuracy 0.9429\n",
      "Epoch [13][20]\t Batch [500][550]\t Training Loss 0.2034\t Accuracy 0.9424\n",
      "\n",
      "Epoch [13]\t Average training loss 0.2036\t Average training accuracy 0.9423\n",
      "Epoch [13]\t Average validation loss 0.1634\t Average validation accuracy 0.9576\n",
      "\n",
      "Epoch [14][20]\t Batch [0][550]\t Training Loss 0.1740\t Accuracy 0.9600\n",
      "Epoch [14][20]\t Batch [50][550]\t Training Loss 0.1779\t Accuracy 0.9524\n",
      "Epoch [14][20]\t Batch [100][550]\t Training Loss 0.1869\t Accuracy 0.9470\n",
      "Epoch [14][20]\t Batch [150][550]\t Training Loss 0.1942\t Accuracy 0.9448\n",
      "Epoch [14][20]\t Batch [200][550]\t Training Loss 0.1916\t Accuracy 0.9458\n",
      "Epoch [14][20]\t Batch [250][550]\t Training Loss 0.1923\t Accuracy 0.9455\n",
      "Epoch [14][20]\t Batch [300][550]\t Training Loss 0.1932\t Accuracy 0.9456\n",
      "Epoch [14][20]\t Batch [350][550]\t Training Loss 0.1943\t Accuracy 0.9452\n",
      "Epoch [14][20]\t Batch [400][550]\t Training Loss 0.1945\t Accuracy 0.9451\n",
      "Epoch [14][20]\t Batch [450][550]\t Training Loss 0.1950\t Accuracy 0.9449\n",
      "Epoch [14][20]\t Batch [500][550]\t Training Loss 0.1964\t Accuracy 0.9444\n",
      "\n",
      "Epoch [14]\t Average training loss 0.1966\t Average training accuracy 0.9445\n",
      "Epoch [14]\t Average validation loss 0.1587\t Average validation accuracy 0.9596\n",
      "\n",
      "Epoch [15][20]\t Batch [0][550]\t Training Loss 0.1677\t Accuracy 0.9600\n",
      "Epoch [15][20]\t Batch [50][550]\t Training Loss 0.1716\t Accuracy 0.9533\n",
      "Epoch [15][20]\t Batch [100][550]\t Training Loss 0.1805\t Accuracy 0.9486\n",
      "Epoch [15][20]\t Batch [150][550]\t Training Loss 0.1873\t Accuracy 0.9466\n",
      "Epoch [15][20]\t Batch [200][550]\t Training Loss 0.1850\t Accuracy 0.9476\n",
      "Epoch [15][20]\t Batch [250][550]\t Training Loss 0.1856\t Accuracy 0.9474\n",
      "Epoch [15][20]\t Batch [300][550]\t Training Loss 0.1866\t Accuracy 0.9473\n",
      "Epoch [15][20]\t Batch [350][550]\t Training Loss 0.1877\t Accuracy 0.9470\n",
      "Epoch [15][20]\t Batch [400][550]\t Training Loss 0.1878\t Accuracy 0.9468\n",
      "Epoch [15][20]\t Batch [450][550]\t Training Loss 0.1884\t Accuracy 0.9466\n",
      "Epoch [15][20]\t Batch [500][550]\t Training Loss 0.1898\t Accuracy 0.9461\n",
      "\n",
      "Epoch [15]\t Average training loss 0.1900\t Average training accuracy 0.9463\n",
      "Epoch [15]\t Average validation loss 0.1544\t Average validation accuracy 0.9618\n",
      "\n",
      "Epoch [16][20]\t Batch [0][550]\t Training Loss 0.1618\t Accuracy 0.9600\n",
      "Epoch [16][20]\t Batch [50][550]\t Training Loss 0.1658\t Accuracy 0.9549\n",
      "Epoch [16][20]\t Batch [100][550]\t Training Loss 0.1745\t Accuracy 0.9504\n",
      "Epoch [16][20]\t Batch [150][550]\t Training Loss 0.1808\t Accuracy 0.9487\n",
      "Epoch [16][20]\t Batch [200][550]\t Training Loss 0.1787\t Accuracy 0.9496\n",
      "Epoch [16][20]\t Batch [250][550]\t Training Loss 0.1794\t Accuracy 0.9492\n",
      "Epoch [16][20]\t Batch [300][550]\t Training Loss 0.1804\t Accuracy 0.9490\n",
      "Epoch [16][20]\t Batch [350][550]\t Training Loss 0.1815\t Accuracy 0.9486\n",
      "Epoch [16][20]\t Batch [400][550]\t Training Loss 0.1816\t Accuracy 0.9485\n",
      "Epoch [16][20]\t Batch [450][550]\t Training Loss 0.1822\t Accuracy 0.9482\n",
      "Epoch [16][20]\t Batch [500][550]\t Training Loss 0.1836\t Accuracy 0.9477\n",
      "\n",
      "Epoch [16]\t Average training loss 0.1838\t Average training accuracy 0.9479\n",
      "Epoch [16]\t Average validation loss 0.1503\t Average validation accuracy 0.9626\n",
      "\n",
      "Epoch [17][20]\t Batch [0][550]\t Training Loss 0.1564\t Accuracy 0.9600\n",
      "Epoch [17][20]\t Batch [50][550]\t Training Loss 0.1602\t Accuracy 0.9578\n",
      "Epoch [17][20]\t Batch [100][550]\t Training Loss 0.1689\t Accuracy 0.9523\n",
      "Epoch [17][20]\t Batch [150][550]\t Training Loss 0.1747\t Accuracy 0.9505\n",
      "Epoch [17][20]\t Batch [200][550]\t Training Loss 0.1728\t Accuracy 0.9514\n",
      "Epoch [17][20]\t Batch [250][550]\t Training Loss 0.1735\t Accuracy 0.9509\n",
      "Epoch [17][20]\t Batch [300][550]\t Training Loss 0.1746\t Accuracy 0.9509\n",
      "Epoch [17][20]\t Batch [350][550]\t Training Loss 0.1756\t Accuracy 0.9505\n"
     ]
    },
    {
     "name": "stdout",
     "output_type": "stream",
     "text": [
      "Epoch [17][20]\t Batch [400][550]\t Training Loss 0.1758\t Accuracy 0.9504\n",
      "Epoch [17][20]\t Batch [450][550]\t Training Loss 0.1764\t Accuracy 0.9502\n",
      "Epoch [17][20]\t Batch [500][550]\t Training Loss 0.1778\t Accuracy 0.9498\n",
      "\n",
      "Epoch [17]\t Average training loss 0.1779\t Average training accuracy 0.9499\n",
      "Epoch [17]\t Average validation loss 0.1465\t Average validation accuracy 0.9638\n",
      "\n",
      "Epoch [18][20]\t Batch [0][550]\t Training Loss 0.1513\t Accuracy 0.9700\n",
      "Epoch [18][20]\t Batch [50][550]\t Training Loss 0.1551\t Accuracy 0.9586\n",
      "Epoch [18][20]\t Batch [100][550]\t Training Loss 0.1636\t Accuracy 0.9530\n",
      "Epoch [18][20]\t Batch [150][550]\t Training Loss 0.1690\t Accuracy 0.9519\n",
      "Epoch [18][20]\t Batch [200][550]\t Training Loss 0.1672\t Accuracy 0.9529\n",
      "Epoch [18][20]\t Batch [250][550]\t Training Loss 0.1680\t Accuracy 0.9524\n",
      "Epoch [18][20]\t Batch [300][550]\t Training Loss 0.1691\t Accuracy 0.9525\n",
      "Epoch [18][20]\t Batch [350][550]\t Training Loss 0.1701\t Accuracy 0.9522\n",
      "Epoch [18][20]\t Batch [400][550]\t Training Loss 0.1703\t Accuracy 0.9521\n",
      "Epoch [18][20]\t Batch [450][550]\t Training Loss 0.1708\t Accuracy 0.9519\n",
      "Epoch [18][20]\t Batch [500][550]\t Training Loss 0.1723\t Accuracy 0.9514\n",
      "\n",
      "Epoch [18]\t Average training loss 0.1724\t Average training accuracy 0.9515\n",
      "Epoch [18]\t Average validation loss 0.1430\t Average validation accuracy 0.9648\n",
      "\n",
      "Epoch [19][20]\t Batch [0][550]\t Training Loss 0.1465\t Accuracy 0.9700\n",
      "Epoch [19][20]\t Batch [50][550]\t Training Loss 0.1502\t Accuracy 0.9600\n",
      "Epoch [19][20]\t Batch [100][550]\t Training Loss 0.1586\t Accuracy 0.9542\n",
      "Epoch [19][20]\t Batch [150][550]\t Training Loss 0.1636\t Accuracy 0.9532\n",
      "Epoch [19][20]\t Batch [200][550]\t Training Loss 0.1620\t Accuracy 0.9542\n",
      "Epoch [19][20]\t Batch [250][550]\t Training Loss 0.1627\t Accuracy 0.9538\n",
      "Epoch [19][20]\t Batch [300][550]\t Training Loss 0.1639\t Accuracy 0.9539\n",
      "Epoch [19][20]\t Batch [350][550]\t Training Loss 0.1649\t Accuracy 0.9536\n",
      "Epoch [19][20]\t Batch [400][550]\t Training Loss 0.1651\t Accuracy 0.9535\n",
      "Epoch [19][20]\t Batch [450][550]\t Training Loss 0.1656\t Accuracy 0.9533\n",
      "Epoch [19][20]\t Batch [500][550]\t Training Loss 0.1670\t Accuracy 0.9530\n",
      "\n",
      "Epoch [19]\t Average training loss 0.1672\t Average training accuracy 0.9529\n",
      "Epoch [19]\t Average validation loss 0.1396\t Average validation accuracy 0.9654\n",
      "\n"
     ]
    }
   ],
   "source": [
    "sigmoidMLP, sigmoid_loss, sigmoid_acc = train(sigmoidMLP, criterion, sgd, data_train, max_epoch, batch_size, disp_freq)"
   ]
  },
  {
   "cell_type": "markdown",
   "metadata": {
    "pycharm": {
     "name": "#%% md\n"
    }
   },
   "source": [
    "### 测试"
   ]
  },
  {
   "cell_type": "code",
   "execution_count": 17,
   "metadata": {
    "pycharm": {
     "name": "#%%\n"
    }
   },
   "outputs": [
    {
     "name": "stdout",
     "output_type": "stream",
     "text": [
      "Testing...\n",
      "The test accuracy is 0.9507.\n",
      "\n"
     ]
    }
   ],
   "source": [
    "test(sigmoidMLP, criterion, data_test, batch_size, disp_freq)"
   ]
  },
  {
   "cell_type": "markdown",
   "metadata": {
    "pycharm": {
     "name": "#%% md\n"
    }
   },
   "source": [
    "## 2.2 使用Softmax交叉熵损失和ReLU激活函数训练多层感知机\n",
    "训练带有一个隐含层且神经元个数为128的多层感知机，使用Softmax交叉熵损失和ReLU激活函数."
   ]
  },
  {
   "cell_type": "code",
   "execution_count": 18,
   "metadata": {
    "pycharm": {
     "name": "#%%\n"
    }
   },
   "outputs": [],
   "source": [
    "reluMLP = Network()\n",
    "# 使用FCLayer和SigmoidLayer构建多层感知机\n",
    "# 128为隐含层的神经元数目\n",
    "reluMLP.add(FCLayer(784, 128))\n",
    "reluMLP.add(ReLULayer())\n",
    "reluMLP.add(FCLayer(128, 10))"
   ]
  },
  {
   "cell_type": "code",
   "execution_count": 19,
   "metadata": {
    "pycharm": {
     "name": "#%%\n"
    },
    "scrolled": true
   },
   "outputs": [
    {
     "name": "stdout",
     "output_type": "stream",
     "text": [
      "Epoch [0][20]\t Batch [0][550]\t Training Loss 2.4977\t Accuracy 0.0900\n",
      "Epoch [0][20]\t Batch [50][550]\t Training Loss 0.9540\t Accuracy 0.7394\n",
      "Epoch [0][20]\t Batch [100][550]\t Training Loss 0.7160\t Accuracy 0.8054\n",
      "Epoch [0][20]\t Batch [150][550]\t Training Loss 0.6197\t Accuracy 0.8295\n",
      "Epoch [0][20]\t Batch [200][550]\t Training Loss 0.5536\t Accuracy 0.8480\n",
      "Epoch [0][20]\t Batch [250][550]\t Training Loss 0.5094\t Accuracy 0.8598\n",
      "Epoch [0][20]\t Batch [300][550]\t Training Loss 0.4766\t Accuracy 0.8686\n",
      "Epoch [0][20]\t Batch [350][550]\t Training Loss 0.4532\t Accuracy 0.8746\n",
      "Epoch [0][20]\t Batch [400][550]\t Training Loss 0.4321\t Accuracy 0.8798\n",
      "Epoch [0][20]\t Batch [450][550]\t Training Loss 0.4151\t Accuracy 0.8843\n",
      "Epoch [0][20]\t Batch [500][550]\t Training Loss 0.4022\t Accuracy 0.8875\n",
      "\n",
      "Epoch [0]\t Average training loss 0.3901\t Average training accuracy 0.8910\n",
      "Epoch [0]\t Average validation loss 0.1963\t Average validation accuracy 0.9498\n",
      "\n",
      "Epoch [1][20]\t Batch [0][550]\t Training Loss 0.2567\t Accuracy 0.9400\n",
      "Epoch [1][20]\t Batch [50][550]\t Training Loss 0.2176\t Accuracy 0.9412\n",
      "Epoch [1][20]\t Batch [100][550]\t Training Loss 0.2271\t Accuracy 0.9375\n",
      "Epoch [1][20]\t Batch [150][550]\t Training Loss 0.2331\t Accuracy 0.9348\n",
      "Epoch [1][20]\t Batch [200][550]\t Training Loss 0.2274\t Accuracy 0.9365\n",
      "Epoch [1][20]\t Batch [250][550]\t Training Loss 0.2247\t Accuracy 0.9372\n",
      "Epoch [1][20]\t Batch [300][550]\t Training Loss 0.2230\t Accuracy 0.9377\n",
      "Epoch [1][20]\t Batch [350][550]\t Training Loss 0.2213\t Accuracy 0.9380\n",
      "Epoch [1][20]\t Batch [400][550]\t Training Loss 0.2185\t Accuracy 0.9386\n",
      "Epoch [1][20]\t Batch [450][550]\t Training Loss 0.2168\t Accuracy 0.9391\n",
      "Epoch [1][20]\t Batch [500][550]\t Training Loss 0.2165\t Accuracy 0.9391\n",
      "\n",
      "Epoch [1]\t Average training loss 0.2149\t Average training accuracy 0.9396\n",
      "Epoch [1]\t Average validation loss 0.1524\t Average validation accuracy 0.9608\n",
      "\n",
      "Epoch [2][20]\t Batch [0][550]\t Training Loss 0.1740\t Accuracy 0.9500\n",
      "Epoch [2][20]\t Batch [50][550]\t Training Loss 0.1619\t Accuracy 0.9561\n",
      "Epoch [2][20]\t Batch [100][550]\t Training Loss 0.1712\t Accuracy 0.9505\n",
      "Epoch [2][20]\t Batch [150][550]\t Training Loss 0.1757\t Accuracy 0.9496\n",
      "Epoch [2][20]\t Batch [200][550]\t Training Loss 0.1725\t Accuracy 0.9504\n",
      "Epoch [2][20]\t Batch [250][550]\t Training Loss 0.1712\t Accuracy 0.9510\n",
      "Epoch [2][20]\t Batch [300][550]\t Training Loss 0.1712\t Accuracy 0.9509\n",
      "Epoch [2][20]\t Batch [350][550]\t Training Loss 0.1705\t Accuracy 0.9510\n",
      "Epoch [2][20]\t Batch [400][550]\t Training Loss 0.1691\t Accuracy 0.9517\n",
      "Epoch [2][20]\t Batch [450][550]\t Training Loss 0.1686\t Accuracy 0.9518\n",
      "Epoch [2][20]\t Batch [500][550]\t Training Loss 0.1694\t Accuracy 0.9517\n",
      "\n",
      "Epoch [2]\t Average training loss 0.1687\t Average training accuracy 0.9520\n",
      "Epoch [2]\t Average validation loss 0.1293\t Average validation accuracy 0.9654\n",
      "\n",
      "Epoch [3][20]\t Batch [0][550]\t Training Loss 0.1342\t Accuracy 0.9500\n",
      "Epoch [3][20]\t Batch [50][550]\t Training Loss 0.1316\t Accuracy 0.9653\n",
      "Epoch [3][20]\t Batch [100][550]\t Training Loss 0.1400\t Accuracy 0.9602\n",
      "Epoch [3][20]\t Batch [150][550]\t Training Loss 0.1434\t Accuracy 0.9594\n",
      "Epoch [3][20]\t Batch [200][550]\t Training Loss 0.1414\t Accuracy 0.9597\n",
      "Epoch [3][20]\t Batch [250][550]\t Training Loss 0.1406\t Accuracy 0.9600\n",
      "Epoch [3][20]\t Batch [300][550]\t Training Loss 0.1411\t Accuracy 0.9598\n",
      "Epoch [3][20]\t Batch [350][550]\t Training Loss 0.1408\t Accuracy 0.9599\n",
      "Epoch [3][20]\t Batch [400][550]\t Training Loss 0.1400\t Accuracy 0.9603\n",
      "Epoch [3][20]\t Batch [450][550]\t Training Loss 0.1399\t Accuracy 0.9602\n",
      "Epoch [3][20]\t Batch [500][550]\t Training Loss 0.1411\t Accuracy 0.9599\n",
      "\n",
      "Epoch [3]\t Average training loss 0.1408\t Average training accuracy 0.9601\n",
      "Epoch [3]\t Average validation loss 0.1150\t Average validation accuracy 0.9692\n",
      "\n",
      "Epoch [4][20]\t Batch [0][550]\t Training Loss 0.1128\t Accuracy 0.9600\n",
      "Epoch [4][20]\t Batch [50][550]\t Training Loss 0.1122\t Accuracy 0.9706\n",
      "Epoch [4][20]\t Batch [100][550]\t Training Loss 0.1192\t Accuracy 0.9663\n",
      "Epoch [4][20]\t Batch [150][550]\t Training Loss 0.1218\t Accuracy 0.9656\n",
      "Epoch [4][20]\t Batch [200][550]\t Training Loss 0.1205\t Accuracy 0.9658\n",
      "Epoch [4][20]\t Batch [250][550]\t Training Loss 0.1199\t Accuracy 0.9661\n",
      "Epoch [4][20]\t Batch [300][550]\t Training Loss 0.1206\t Accuracy 0.9661\n",
      "Epoch [4][20]\t Batch [350][550]\t Training Loss 0.1205\t Accuracy 0.9661\n",
      "Epoch [4][20]\t Batch [400][550]\t Training Loss 0.1200\t Accuracy 0.9667\n",
      "Epoch [4][20]\t Batch [450][550]\t Training Loss 0.1202\t Accuracy 0.9665\n",
      "Epoch [4][20]\t Batch [500][550]\t Training Loss 0.1216\t Accuracy 0.9660\n",
      "\n",
      "Epoch [4]\t Average training loss 0.1214\t Average training accuracy 0.9662\n",
      "Epoch [4]\t Average validation loss 0.1054\t Average validation accuracy 0.9716\n",
      "\n",
      "Epoch [5][20]\t Batch [0][550]\t Training Loss 0.0975\t Accuracy 0.9700\n",
      "Epoch [5][20]\t Batch [50][550]\t Training Loss 0.0981\t Accuracy 0.9747\n",
      "Epoch [5][20]\t Batch [100][550]\t Training Loss 0.1040\t Accuracy 0.9721\n",
      "Epoch [5][20]\t Batch [150][550]\t Training Loss 0.1060\t Accuracy 0.9709\n",
      "Epoch [5][20]\t Batch [200][550]\t Training Loss 0.1052\t Accuracy 0.9708\n",
      "Epoch [5][20]\t Batch [250][550]\t Training Loss 0.1047\t Accuracy 0.9706\n",
      "Epoch [5][20]\t Batch [300][550]\t Training Loss 0.1055\t Accuracy 0.9707\n",
      "Epoch [5][20]\t Batch [350][550]\t Training Loss 0.1055\t Accuracy 0.9706\n",
      "Epoch [5][20]\t Batch [400][550]\t Training Loss 0.1052\t Accuracy 0.9709\n",
      "Epoch [5][20]\t Batch [450][550]\t Training Loss 0.1056\t Accuracy 0.9706\n",
      "Epoch [5][20]\t Batch [500][550]\t Training Loss 0.1070\t Accuracy 0.9701\n",
      "\n",
      "Epoch [5]\t Average training loss 0.1068\t Average training accuracy 0.9702\n",
      "Epoch [5]\t Average validation loss 0.0985\t Average validation accuracy 0.9738\n",
      "\n",
      "Epoch [6][20]\t Batch [0][550]\t Training Loss 0.0858\t Accuracy 0.9800\n",
      "Epoch [6][20]\t Batch [50][550]\t Training Loss 0.0876\t Accuracy 0.9767\n",
      "Epoch [6][20]\t Batch [100][550]\t Training Loss 0.0926\t Accuracy 0.9748\n",
      "Epoch [6][20]\t Batch [150][550]\t Training Loss 0.0938\t Accuracy 0.9736\n",
      "Epoch [6][20]\t Batch [200][550]\t Training Loss 0.0933\t Accuracy 0.9735\n",
      "Epoch [6][20]\t Batch [250][550]\t Training Loss 0.0929\t Accuracy 0.9736\n",
      "Epoch [6][20]\t Batch [300][550]\t Training Loss 0.0938\t Accuracy 0.9736\n",
      "Epoch [6][20]\t Batch [350][550]\t Training Loss 0.0938\t Accuracy 0.9735\n",
      "Epoch [6][20]\t Batch [400][550]\t Training Loss 0.0937\t Accuracy 0.9738\n",
      "Epoch [6][20]\t Batch [450][550]\t Training Loss 0.0941\t Accuracy 0.9736\n",
      "Epoch [6][20]\t Batch [500][550]\t Training Loss 0.0955\t Accuracy 0.9733\n",
      "\n",
      "Epoch [6]\t Average training loss 0.0954\t Average training accuracy 0.9733\n",
      "Epoch [6]\t Average validation loss 0.0930\t Average validation accuracy 0.9754\n",
      "\n",
      "Epoch [7][20]\t Batch [0][550]\t Training Loss 0.0770\t Accuracy 0.9800\n",
      "Epoch [7][20]\t Batch [50][550]\t Training Loss 0.0792\t Accuracy 0.9780\n",
      "Epoch [7][20]\t Batch [100][550]\t Training Loss 0.0833\t Accuracy 0.9768\n",
      "Epoch [7][20]\t Batch [150][550]\t Training Loss 0.0841\t Accuracy 0.9761\n",
      "Epoch [7][20]\t Batch [200][550]\t Training Loss 0.0838\t Accuracy 0.9764\n",
      "Epoch [7][20]\t Batch [250][550]\t Training Loss 0.0834\t Accuracy 0.9765\n",
      "Epoch [7][20]\t Batch [300][550]\t Training Loss 0.0844\t Accuracy 0.9764\n",
      "Epoch [7][20]\t Batch [350][550]\t Training Loss 0.0844\t Accuracy 0.9765\n",
      "Epoch [7][20]\t Batch [400][550]\t Training Loss 0.0844\t Accuracy 0.9768\n",
      "Epoch [7][20]\t Batch [450][550]\t Training Loss 0.0848\t Accuracy 0.9767\n",
      "Epoch [7][20]\t Batch [500][550]\t Training Loss 0.0861\t Accuracy 0.9764\n",
      "\n",
      "Epoch [7]\t Average training loss 0.0860\t Average training accuracy 0.9765\n",
      "Epoch [7]\t Average validation loss 0.0886\t Average validation accuracy 0.9762\n",
      "\n",
      "Epoch [8][20]\t Batch [0][550]\t Training Loss 0.0698\t Accuracy 0.9800\n",
      "Epoch [8][20]\t Batch [50][550]\t Training Loss 0.0721\t Accuracy 0.9806\n",
      "Epoch [8][20]\t Batch [100][550]\t Training Loss 0.0755\t Accuracy 0.9794\n",
      "Epoch [8][20]\t Batch [150][550]\t Training Loss 0.0759\t Accuracy 0.9785\n",
      "Epoch [8][20]\t Batch [200][550]\t Training Loss 0.0758\t Accuracy 0.9787\n",
      "Epoch [8][20]\t Batch [250][550]\t Training Loss 0.0755\t Accuracy 0.9789\n",
      "Epoch [8][20]\t Batch [300][550]\t Training Loss 0.0765\t Accuracy 0.9788\n",
      "Epoch [8][20]\t Batch [350][550]\t Training Loss 0.0765\t Accuracy 0.9790\n",
      "Epoch [8][20]\t Batch [400][550]\t Training Loss 0.0766\t Accuracy 0.9791\n",
      "Epoch [8][20]\t Batch [450][550]\t Training Loss 0.0771\t Accuracy 0.9790\n",
      "Epoch [8][20]\t Batch [500][550]\t Training Loss 0.0783\t Accuracy 0.9787\n"
     ]
    },
    {
     "name": "stdout",
     "output_type": "stream",
     "text": [
      "\n",
      "Epoch [8]\t Average training loss 0.0782\t Average training accuracy 0.9786\n",
      "Epoch [8]\t Average validation loss 0.0853\t Average validation accuracy 0.9770\n",
      "\n",
      "Epoch [9][20]\t Batch [0][550]\t Training Loss 0.0636\t Accuracy 0.9800\n",
      "Epoch [9][20]\t Batch [50][550]\t Training Loss 0.0661\t Accuracy 0.9825\n",
      "Epoch [9][20]\t Batch [100][550]\t Training Loss 0.0691\t Accuracy 0.9818\n",
      "Epoch [9][20]\t Batch [150][550]\t Training Loss 0.0691\t Accuracy 0.9808\n",
      "Epoch [9][20]\t Batch [200][550]\t Training Loss 0.0692\t Accuracy 0.9808\n",
      "Epoch [9][20]\t Batch [250][550]\t Training Loss 0.0688\t Accuracy 0.9810\n",
      "Epoch [9][20]\t Batch [300][550]\t Training Loss 0.0698\t Accuracy 0.9809\n",
      "Epoch [9][20]\t Batch [350][550]\t Training Loss 0.0698\t Accuracy 0.9809\n",
      "Epoch [9][20]\t Batch [400][550]\t Training Loss 0.0700\t Accuracy 0.9809\n",
      "Epoch [9][20]\t Batch [450][550]\t Training Loss 0.0705\t Accuracy 0.9809\n",
      "Epoch [9][20]\t Batch [500][550]\t Training Loss 0.0717\t Accuracy 0.9806\n",
      "\n",
      "Epoch [9]\t Average training loss 0.0716\t Average training accuracy 0.9806\n",
      "Epoch [9]\t Average validation loss 0.0827\t Average validation accuracy 0.9776\n",
      "\n",
      "Epoch [10][20]\t Batch [0][550]\t Training Loss 0.0583\t Accuracy 0.9800\n",
      "Epoch [10][20]\t Batch [50][550]\t Training Loss 0.0611\t Accuracy 0.9845\n",
      "Epoch [10][20]\t Batch [100][550]\t Training Loss 0.0636\t Accuracy 0.9837\n",
      "Epoch [10][20]\t Batch [150][550]\t Training Loss 0.0633\t Accuracy 0.9828\n",
      "Epoch [10][20]\t Batch [200][550]\t Training Loss 0.0634\t Accuracy 0.9827\n",
      "Epoch [10][20]\t Batch [250][550]\t Training Loss 0.0631\t Accuracy 0.9828\n",
      "Epoch [10][20]\t Batch [300][550]\t Training Loss 0.0641\t Accuracy 0.9828\n",
      "Epoch [10][20]\t Batch [350][550]\t Training Loss 0.0641\t Accuracy 0.9829\n",
      "Epoch [10][20]\t Batch [400][550]\t Training Loss 0.0644\t Accuracy 0.9829\n",
      "Epoch [10][20]\t Batch [450][550]\t Training Loss 0.0648\t Accuracy 0.9829\n",
      "Epoch [10][20]\t Batch [500][550]\t Training Loss 0.0659\t Accuracy 0.9825\n",
      "\n",
      "Epoch [10]\t Average training loss 0.0658\t Average training accuracy 0.9823\n",
      "Epoch [10]\t Average validation loss 0.0808\t Average validation accuracy 0.9774\n",
      "\n",
      "Epoch [11][20]\t Batch [0][550]\t Training Loss 0.0541\t Accuracy 0.9800\n",
      "Epoch [11][20]\t Batch [50][550]\t Training Loss 0.0568\t Accuracy 0.9857\n",
      "Epoch [11][20]\t Batch [100][550]\t Training Loss 0.0588\t Accuracy 0.9848\n",
      "Epoch [11][20]\t Batch [150][550]\t Training Loss 0.0582\t Accuracy 0.9844\n",
      "Epoch [11][20]\t Batch [200][550]\t Training Loss 0.0584\t Accuracy 0.9841\n",
      "Epoch [11][20]\t Batch [250][550]\t Training Loss 0.0581\t Accuracy 0.9842\n",
      "Epoch [11][20]\t Batch [300][550]\t Training Loss 0.0591\t Accuracy 0.9843\n",
      "Epoch [11][20]\t Batch [350][550]\t Training Loss 0.0592\t Accuracy 0.9844\n",
      "Epoch [11][20]\t Batch [400][550]\t Training Loss 0.0594\t Accuracy 0.9843\n",
      "Epoch [11][20]\t Batch [450][550]\t Training Loss 0.0599\t Accuracy 0.9842\n",
      "Epoch [11][20]\t Batch [500][550]\t Training Loss 0.0609\t Accuracy 0.9838\n",
      "\n",
      "Epoch [11]\t Average training loss 0.0608\t Average training accuracy 0.9838\n",
      "Epoch [11]\t Average validation loss 0.0791\t Average validation accuracy 0.9780\n",
      "\n",
      "Epoch [12][20]\t Batch [0][550]\t Training Loss 0.0501\t Accuracy 0.9800\n",
      "Epoch [12][20]\t Batch [50][550]\t Training Loss 0.0530\t Accuracy 0.9863\n",
      "Epoch [12][20]\t Batch [100][550]\t Training Loss 0.0548\t Accuracy 0.9856\n",
      "Epoch [12][20]\t Batch [150][550]\t Training Loss 0.0539\t Accuracy 0.9854\n",
      "Epoch [12][20]\t Batch [200][550]\t Training Loss 0.0542\t Accuracy 0.9850\n",
      "Epoch [12][20]\t Batch [250][550]\t Training Loss 0.0538\t Accuracy 0.9851\n",
      "Epoch [12][20]\t Batch [300][550]\t Training Loss 0.0548\t Accuracy 0.9853\n",
      "Epoch [12][20]\t Batch [350][550]\t Training Loss 0.0548\t Accuracy 0.9852\n",
      "Epoch [12][20]\t Batch [400][550]\t Training Loss 0.0551\t Accuracy 0.9851\n",
      "Epoch [12][20]\t Batch [450][550]\t Training Loss 0.0555\t Accuracy 0.9851\n",
      "Epoch [12][20]\t Batch [500][550]\t Training Loss 0.0564\t Accuracy 0.9849\n",
      "\n",
      "Epoch [12]\t Average training loss 0.0563\t Average training accuracy 0.9848\n",
      "Epoch [12]\t Average validation loss 0.0777\t Average validation accuracy 0.9784\n",
      "\n",
      "Epoch [13][20]\t Batch [0][550]\t Training Loss 0.0472\t Accuracy 0.9800\n",
      "Epoch [13][20]\t Batch [50][550]\t Training Loss 0.0496\t Accuracy 0.9869\n",
      "Epoch [13][20]\t Batch [100][550]\t Training Loss 0.0511\t Accuracy 0.9868\n",
      "Epoch [13][20]\t Batch [150][550]\t Training Loss 0.0501\t Accuracy 0.9865\n",
      "Epoch [13][20]\t Batch [200][550]\t Training Loss 0.0503\t Accuracy 0.9860\n",
      "Epoch [13][20]\t Batch [250][550]\t Training Loss 0.0500\t Accuracy 0.9860\n",
      "Epoch [13][20]\t Batch [300][550]\t Training Loss 0.0510\t Accuracy 0.9862\n",
      "Epoch [13][20]\t Batch [350][550]\t Training Loss 0.0510\t Accuracy 0.9862\n",
      "Epoch [13][20]\t Batch [400][550]\t Training Loss 0.0513\t Accuracy 0.9862\n",
      "Epoch [13][20]\t Batch [450][550]\t Training Loss 0.0517\t Accuracy 0.9862\n",
      "Epoch [13][20]\t Batch [500][550]\t Training Loss 0.0525\t Accuracy 0.9859\n",
      "\n",
      "Epoch [13]\t Average training loss 0.0524\t Average training accuracy 0.9859\n",
      "Epoch [13]\t Average validation loss 0.0765\t Average validation accuracy 0.9786\n",
      "\n",
      "Epoch [14][20]\t Batch [0][550]\t Training Loss 0.0443\t Accuracy 0.9800\n",
      "Epoch [14][20]\t Batch [50][550]\t Training Loss 0.0465\t Accuracy 0.9878\n",
      "Epoch [14][20]\t Batch [100][550]\t Training Loss 0.0478\t Accuracy 0.9874\n",
      "Epoch [14][20]\t Batch [150][550]\t Training Loss 0.0466\t Accuracy 0.9876\n",
      "Epoch [14][20]\t Batch [200][550]\t Training Loss 0.0468\t Accuracy 0.9870\n",
      "Epoch [14][20]\t Batch [250][550]\t Training Loss 0.0465\t Accuracy 0.9871\n",
      "Epoch [14][20]\t Batch [300][550]\t Training Loss 0.0475\t Accuracy 0.9872\n",
      "Epoch [14][20]\t Batch [350][550]\t Training Loss 0.0475\t Accuracy 0.9871\n",
      "Epoch [14][20]\t Batch [400][550]\t Training Loss 0.0478\t Accuracy 0.9871\n",
      "Epoch [14][20]\t Batch [450][550]\t Training Loss 0.0482\t Accuracy 0.9871\n",
      "Epoch [14][20]\t Batch [500][550]\t Training Loss 0.0489\t Accuracy 0.9869\n",
      "\n",
      "Epoch [14]\t Average training loss 0.0488\t Average training accuracy 0.9869\n",
      "Epoch [14]\t Average validation loss 0.0756\t Average validation accuracy 0.9782\n",
      "\n",
      "Epoch [15][20]\t Batch [0][550]\t Training Loss 0.0419\t Accuracy 0.9800\n",
      "Epoch [15][20]\t Batch [50][550]\t Training Loss 0.0437\t Accuracy 0.9892\n",
      "Epoch [15][20]\t Batch [100][550]\t Training Loss 0.0448\t Accuracy 0.9886\n",
      "Epoch [15][20]\t Batch [150][550]\t Training Loss 0.0435\t Accuracy 0.9885\n",
      "Epoch [15][20]\t Batch [200][550]\t Training Loss 0.0437\t Accuracy 0.9881\n",
      "Epoch [15][20]\t Batch [250][550]\t Training Loss 0.0434\t Accuracy 0.9882\n",
      "Epoch [15][20]\t Batch [300][550]\t Training Loss 0.0444\t Accuracy 0.9882\n",
      "Epoch [15][20]\t Batch [350][550]\t Training Loss 0.0443\t Accuracy 0.9881\n",
      "Epoch [15][20]\t Batch [400][550]\t Training Loss 0.0446\t Accuracy 0.9882\n",
      "Epoch [15][20]\t Batch [450][550]\t Training Loss 0.0450\t Accuracy 0.9882\n",
      "Epoch [15][20]\t Batch [500][550]\t Training Loss 0.0456\t Accuracy 0.9880\n",
      "\n",
      "Epoch [15]\t Average training loss 0.0455\t Average training accuracy 0.9880\n",
      "Epoch [15]\t Average validation loss 0.0749\t Average validation accuracy 0.9782\n",
      "\n",
      "Epoch [16][20]\t Batch [0][550]\t Training Loss 0.0401\t Accuracy 0.9800\n",
      "Epoch [16][20]\t Batch [50][550]\t Training Loss 0.0411\t Accuracy 0.9904\n",
      "Epoch [16][20]\t Batch [100][550]\t Training Loss 0.0420\t Accuracy 0.9896\n",
      "Epoch [16][20]\t Batch [150][550]\t Training Loss 0.0407\t Accuracy 0.9895\n",
      "Epoch [16][20]\t Batch [200][550]\t Training Loss 0.0408\t Accuracy 0.9892\n",
      "Epoch [16][20]\t Batch [250][550]\t Training Loss 0.0405\t Accuracy 0.9895\n",
      "Epoch [16][20]\t Batch [300][550]\t Training Loss 0.0415\t Accuracy 0.9896\n",
      "Epoch [16][20]\t Batch [350][550]\t Training Loss 0.0415\t Accuracy 0.9895\n",
      "Epoch [16][20]\t Batch [400][550]\t Training Loss 0.0418\t Accuracy 0.9894\n",
      "Epoch [16][20]\t Batch [450][550]\t Training Loss 0.0421\t Accuracy 0.9893\n",
      "Epoch [16][20]\t Batch [500][550]\t Training Loss 0.0427\t Accuracy 0.9891\n",
      "\n",
      "Epoch [16]\t Average training loss 0.0426\t Average training accuracy 0.9891\n",
      "Epoch [16]\t Average validation loss 0.0742\t Average validation accuracy 0.9784\n",
      "\n",
      "Epoch [17][20]\t Batch [0][550]\t Training Loss 0.0382\t Accuracy 0.9900\n",
      "Epoch [17][20]\t Batch [50][550]\t Training Loss 0.0388\t Accuracy 0.9906\n",
      "Epoch [17][20]\t Batch [100][550]\t Training Loss 0.0396\t Accuracy 0.9904\n",
      "Epoch [17][20]\t Batch [150][550]\t Training Loss 0.0381\t Accuracy 0.9907\n",
      "Epoch [17][20]\t Batch [200][550]\t Training Loss 0.0383\t Accuracy 0.9901\n",
      "Epoch [17][20]\t Batch [250][550]\t Training Loss 0.0380\t Accuracy 0.9904\n",
      "Epoch [17][20]\t Batch [300][550]\t Training Loss 0.0389\t Accuracy 0.9905\n"
     ]
    },
    {
     "name": "stdout",
     "output_type": "stream",
     "text": [
      "Epoch [17][20]\t Batch [350][550]\t Training Loss 0.0389\t Accuracy 0.9905\n",
      "Epoch [17][20]\t Batch [400][550]\t Training Loss 0.0392\t Accuracy 0.9904\n",
      "Epoch [17][20]\t Batch [450][550]\t Training Loss 0.0395\t Accuracy 0.9902\n",
      "Epoch [17][20]\t Batch [500][550]\t Training Loss 0.0401\t Accuracy 0.9900\n",
      "\n",
      "Epoch [17]\t Average training loss 0.0399\t Average training accuracy 0.9900\n",
      "Epoch [17]\t Average validation loss 0.0738\t Average validation accuracy 0.9788\n",
      "\n",
      "Epoch [18][20]\t Batch [0][550]\t Training Loss 0.0362\t Accuracy 0.9900\n",
      "Epoch [18][20]\t Batch [50][550]\t Training Loss 0.0367\t Accuracy 0.9910\n",
      "Epoch [18][20]\t Batch [100][550]\t Training Loss 0.0373\t Accuracy 0.9911\n",
      "Epoch [18][20]\t Batch [150][550]\t Training Loss 0.0358\t Accuracy 0.9915\n",
      "Epoch [18][20]\t Batch [200][550]\t Training Loss 0.0359\t Accuracy 0.9910\n",
      "Epoch [18][20]\t Batch [250][550]\t Training Loss 0.0356\t Accuracy 0.9914\n",
      "Epoch [18][20]\t Batch [300][550]\t Training Loss 0.0366\t Accuracy 0.9914\n",
      "Epoch [18][20]\t Batch [350][550]\t Training Loss 0.0365\t Accuracy 0.9915\n",
      "Epoch [18][20]\t Batch [400][550]\t Training Loss 0.0369\t Accuracy 0.9914\n",
      "Epoch [18][20]\t Batch [450][550]\t Training Loss 0.0371\t Accuracy 0.9912\n",
      "Epoch [18][20]\t Batch [500][550]\t Training Loss 0.0376\t Accuracy 0.9910\n",
      "\n",
      "Epoch [18]\t Average training loss 0.0375\t Average training accuracy 0.9909\n",
      "Epoch [18]\t Average validation loss 0.0734\t Average validation accuracy 0.9790\n",
      "\n",
      "Epoch [19][20]\t Batch [0][550]\t Training Loss 0.0349\t Accuracy 0.9900\n",
      "Epoch [19][20]\t Batch [50][550]\t Training Loss 0.0347\t Accuracy 0.9918\n",
      "Epoch [19][20]\t Batch [100][550]\t Training Loss 0.0352\t Accuracy 0.9916\n",
      "Epoch [19][20]\t Batch [150][550]\t Training Loss 0.0337\t Accuracy 0.9919\n",
      "Epoch [19][20]\t Batch [200][550]\t Training Loss 0.0338\t Accuracy 0.9917\n",
      "Epoch [19][20]\t Batch [250][550]\t Training Loss 0.0335\t Accuracy 0.9922\n",
      "Epoch [19][20]\t Batch [300][550]\t Training Loss 0.0344\t Accuracy 0.9921\n",
      "Epoch [19][20]\t Batch [350][550]\t Training Loss 0.0344\t Accuracy 0.9921\n",
      "Epoch [19][20]\t Batch [400][550]\t Training Loss 0.0347\t Accuracy 0.9920\n",
      "Epoch [19][20]\t Batch [450][550]\t Training Loss 0.0350\t Accuracy 0.9918\n",
      "Epoch [19][20]\t Batch [500][550]\t Training Loss 0.0354\t Accuracy 0.9916\n",
      "\n",
      "Epoch [19]\t Average training loss 0.0352\t Average training accuracy 0.9916\n",
      "Epoch [19]\t Average validation loss 0.0731\t Average validation accuracy 0.9792\n",
      "\n"
     ]
    }
   ],
   "source": [
    "reluMLP, relu_loss, relu_acc = train(reluMLP, criterion, sgd, data_train, max_epoch, batch_size, disp_freq)"
   ]
  },
  {
   "cell_type": "code",
   "execution_count": 20,
   "metadata": {
    "pycharm": {
     "name": "#%%\n"
    }
   },
   "outputs": [
    {
     "name": "stdout",
     "output_type": "stream",
     "text": [
      "Testing...\n",
      "The test accuracy is 0.9760.\n",
      "\n"
     ]
    }
   ],
   "source": [
    "test(reluMLP, criterion, data_test, batch_size, disp_freq)"
   ]
  },
  {
   "cell_type": "markdown",
   "metadata": {
    "pycharm": {
     "name": "#%% md\n"
    }
   },
   "source": [
    "## 绘制曲线"
   ]
  },
  {
   "cell_type": "code",
   "execution_count": 21,
   "metadata": {
    "pycharm": {
     "name": "#%%\n"
    }
   },
   "outputs": [
    {
     "data": {
      "image/png": "[encoded data removed]",
      "text/plain": [
       "<Figure size 432x288 with 1 Axes>"
      ]
     },
     "metadata": {
      "needs_background": "light"
     },
     "output_type": "display_data"
    },
    {
     "data": {
      "image/png": "[encoded data removed]",
      "text/plain": [
       "<Figure size 432x288 with 1 Axes>"
      ]
     },
     "metadata": {
      "needs_background": "light"
     },
     "output_type": "display_data"
    }
   ],
   "source": [
    "plot_loss_and_acc({'Sigmoid': [sigmoid_loss, sigmoid_acc],\n",
    "                   'relu': [relu_loss, relu_acc]})"
   ]
  },
  {
   "cell_type": "markdown",
   "metadata": {
    "pycharm": {
     "name": "#%% md\n"
    }
   },
   "source": [
    "## 具有两层隐含层的多层感知机\n",
    "\n",
    "接下来，根据案例要求，还需要完成**构造具有两个隐含层的多层感知机，自行选取合适的激活函数和损失函数，与只有一个隐含层的结果相比较**.\n",
    "\n",
    "注意: 请在下方插入新的代码块，不要直接修改上面的代码."
   ]
  },
  {
   "cell_type": "code",
   "execution_count": 22,
   "metadata": {
    "pycharm": {
     "name": "#%%\n"
    }
   },
   "outputs": [],
   "source": [
    "twoLayerMLP = Network()\n",
    "twoLayerMLP.add(FCLayer(784, 128))\n",
    "twoLayerMLP.add(ReLULayer())\n",
    "twoLayerMLP.add(FCLayer(128, 64))\n",
    "twoLayerMLP.add(ReLULayer())\n",
    "twoLayerMLP.add(FCLayer(64, 10))"
   ]
  },
  {
   "cell_type": "code",
   "execution_count": 23,
   "metadata": {
    "scrolled": true,
    "pycharm": {
     "name": "#%%\n"
    }
   },
   "outputs": [
    {
     "name": "stdout",
     "output_type": "stream",
     "text": [
      "Epoch [0][20]\t Batch [0][550]\t Training Loss 2.7464\t Accuracy 0.0800\n",
      "Epoch [0][20]\t Batch [50][550]\t Training Loss 0.9401\t Accuracy 0.7318\n",
      "Epoch [0][20]\t Batch [100][550]\t Training Loss 0.6946\t Accuracy 0.7993\n",
      "Epoch [0][20]\t Batch [150][550]\t Training Loss 0.5939\t Accuracy 0.8270\n",
      "Epoch [0][20]\t Batch [200][550]\t Training Loss 0.5260\t Accuracy 0.8469\n",
      "Epoch [0][20]\t Batch [250][550]\t Training Loss 0.4790\t Accuracy 0.8607\n",
      "Epoch [0][20]\t Batch [300][550]\t Training Loss 0.4458\t Accuracy 0.8703\n",
      "Epoch [0][20]\t Batch [350][550]\t Training Loss 0.4198\t Accuracy 0.8775\n",
      "Epoch [0][20]\t Batch [400][550]\t Training Loss 0.3983\t Accuracy 0.8835\n",
      "Epoch [0][20]\t Batch [450][550]\t Training Loss 0.3799\t Accuracy 0.8890\n",
      "Epoch [0][20]\t Batch [500][550]\t Training Loss 0.3669\t Accuracy 0.8924\n",
      "\n",
      "Epoch [0]\t Average training loss 0.3542\t Average training accuracy 0.8964\n",
      "Epoch [0]\t Average validation loss 0.1739\t Average validation accuracy 0.9532\n",
      "\n",
      "Epoch [1][20]\t Batch [0][550]\t Training Loss 0.2057\t Accuracy 0.9600\n",
      "Epoch [1][20]\t Batch [50][550]\t Training Loss 0.1771\t Accuracy 0.9516\n",
      "Epoch [1][20]\t Batch [100][550]\t Training Loss 0.1855\t Accuracy 0.9471\n",
      "Epoch [1][20]\t Batch [150][550]\t Training Loss 0.1919\t Accuracy 0.9448\n",
      "Epoch [1][20]\t Batch [200][550]\t Training Loss 0.1863\t Accuracy 0.9464\n",
      "Epoch [1][20]\t Batch [250][550]\t Training Loss 0.1821\t Accuracy 0.9478\n",
      "Epoch [1][20]\t Batch [300][550]\t Training Loss 0.1798\t Accuracy 0.9485\n",
      "Epoch [1][20]\t Batch [350][550]\t Training Loss 0.1772\t Accuracy 0.9487\n",
      "Epoch [1][20]\t Batch [400][550]\t Training Loss 0.1749\t Accuracy 0.9494\n",
      "Epoch [1][20]\t Batch [450][550]\t Training Loss 0.1727\t Accuracy 0.9504\n",
      "Epoch [1][20]\t Batch [500][550]\t Training Loss 0.1732\t Accuracy 0.9500\n",
      "\n",
      "Epoch [1]\t Average training loss 0.1716\t Average training accuracy 0.9506\n",
      "Epoch [1]\t Average validation loss 0.1334\t Average validation accuracy 0.9636\n",
      "\n",
      "Epoch [2][20]\t Batch [0][550]\t Training Loss 0.1381\t Accuracy 0.9700\n",
      "Epoch [2][20]\t Batch [50][550]\t Training Loss 0.1217\t Accuracy 0.9673\n",
      "Epoch [2][20]\t Batch [100][550]\t Training Loss 0.1292\t Accuracy 0.9634\n",
      "Epoch [2][20]\t Batch [150][550]\t Training Loss 0.1338\t Accuracy 0.9623\n",
      "Epoch [2][20]\t Batch [200][550]\t Training Loss 0.1312\t Accuracy 0.9632\n",
      "Epoch [2][20]\t Batch [250][550]\t Training Loss 0.1287\t Accuracy 0.9639\n",
      "Epoch [2][20]\t Batch [300][550]\t Training Loss 0.1276\t Accuracy 0.9644\n",
      "Epoch [2][20]\t Batch [350][550]\t Training Loss 0.1263\t Accuracy 0.9643\n",
      "Epoch [2][20]\t Batch [400][550]\t Training Loss 0.1253\t Accuracy 0.9646\n",
      "Epoch [2][20]\t Batch [450][550]\t Training Loss 0.1245\t Accuracy 0.9649\n",
      "Epoch [2][20]\t Batch [500][550]\t Training Loss 0.1261\t Accuracy 0.9642\n",
      "\n",
      "Epoch [2]\t Average training loss 0.1254\t Average training accuracy 0.9644\n",
      "Epoch [2]\t Average validation loss 0.1117\t Average validation accuracy 0.9698\n",
      "\n",
      "Epoch [3][20]\t Batch [0][550]\t Training Loss 0.0985\t Accuracy 0.9800\n",
      "Epoch [3][20]\t Batch [50][550]\t Training Loss 0.0934\t Accuracy 0.9743\n",
      "Epoch [3][20]\t Batch [100][550]\t Training Loss 0.1000\t Accuracy 0.9713\n",
      "Epoch [3][20]\t Batch [150][550]\t Training Loss 0.1024\t Accuracy 0.9709\n",
      "Epoch [3][20]\t Batch [200][550]\t Training Loss 0.1015\t Accuracy 0.9709\n",
      "Epoch [3][20]\t Batch [250][550]\t Training Loss 0.0997\t Accuracy 0.9714\n",
      "Epoch [3][20]\t Batch [300][550]\t Training Loss 0.0991\t Accuracy 0.9715\n",
      "Epoch [3][20]\t Batch [350][550]\t Training Loss 0.0983\t Accuracy 0.9717\n",
      "Epoch [3][20]\t Batch [400][550]\t Training Loss 0.0978\t Accuracy 0.9721\n",
      "Epoch [3][20]\t Batch [450][550]\t Training Loss 0.0976\t Accuracy 0.9723\n",
      "Epoch [3][20]\t Batch [500][550]\t Training Loss 0.0993\t Accuracy 0.9717\n",
      "\n",
      "Epoch [3]\t Average training loss 0.0990\t Average training accuracy 0.9718\n",
      "Epoch [3]\t Average validation loss 0.0986\t Average validation accuracy 0.9728\n",
      "\n",
      "Epoch [4][20]\t Batch [0][550]\t Training Loss 0.0752\t Accuracy 0.9900\n",
      "Epoch [4][20]\t Batch [50][550]\t Training Loss 0.0758\t Accuracy 0.9810\n",
      "Epoch [4][20]\t Batch [100][550]\t Training Loss 0.0810\t Accuracy 0.9786\n",
      "Epoch [4][20]\t Batch [150][550]\t Training Loss 0.0827\t Accuracy 0.9777\n",
      "Epoch [4][20]\t Batch [200][550]\t Training Loss 0.0822\t Accuracy 0.9776\n",
      "Epoch [4][20]\t Batch [250][550]\t Training Loss 0.0808\t Accuracy 0.9775\n",
      "Epoch [4][20]\t Batch [300][550]\t Training Loss 0.0805\t Accuracy 0.9773\n",
      "Epoch [4][20]\t Batch [350][550]\t Training Loss 0.0799\t Accuracy 0.9775\n",
      "Epoch [4][20]\t Batch [400][550]\t Training Loss 0.0796\t Accuracy 0.9777\n",
      "Epoch [4][20]\t Batch [450][550]\t Training Loss 0.0798\t Accuracy 0.9779\n",
      "Epoch [4][20]\t Batch [500][550]\t Training Loss 0.0814\t Accuracy 0.9772\n",
      "\n",
      "Epoch [4]\t Average training loss 0.0812\t Average training accuracy 0.9773\n",
      "Epoch [4]\t Average validation loss 0.0911\t Average validation accuracy 0.9752\n",
      "\n",
      "Epoch [5][20]\t Batch [0][550]\t Training Loss 0.0606\t Accuracy 0.9900\n",
      "Epoch [5][20]\t Batch [50][550]\t Training Loss 0.0636\t Accuracy 0.9845\n",
      "Epoch [5][20]\t Batch [100][550]\t Training Loss 0.0678\t Accuracy 0.9829\n",
      "Epoch [5][20]\t Batch [150][550]\t Training Loss 0.0693\t Accuracy 0.9817\n",
      "Epoch [5][20]\t Batch [200][550]\t Training Loss 0.0687\t Accuracy 0.9816\n",
      "Epoch [5][20]\t Batch [250][550]\t Training Loss 0.0675\t Accuracy 0.9818\n",
      "Epoch [5][20]\t Batch [300][550]\t Training Loss 0.0672\t Accuracy 0.9821\n",
      "Epoch [5][20]\t Batch [350][550]\t Training Loss 0.0668\t Accuracy 0.9821\n",
      "Epoch [5][20]\t Batch [400][550]\t Training Loss 0.0666\t Accuracy 0.9821\n",
      "Epoch [5][20]\t Batch [450][550]\t Training Loss 0.0669\t Accuracy 0.9820\n",
      "Epoch [5][20]\t Batch [500][550]\t Training Loss 0.0683\t Accuracy 0.9814\n",
      "\n",
      "Epoch [5]\t Average training loss 0.0681\t Average training accuracy 0.9814\n",
      "Epoch [5]\t Average validation loss 0.0867\t Average validation accuracy 0.9756\n",
      "\n",
      "Epoch [6][20]\t Batch [0][550]\t Training Loss 0.0489\t Accuracy 0.9900\n",
      "Epoch [6][20]\t Batch [50][550]\t Training Loss 0.0548\t Accuracy 0.9861\n",
      "Epoch [6][20]\t Batch [100][550]\t Training Loss 0.0580\t Accuracy 0.9858\n",
      "Epoch [6][20]\t Batch [150][550]\t Training Loss 0.0590\t Accuracy 0.9852\n",
      "Epoch [6][20]\t Batch [200][550]\t Training Loss 0.0583\t Accuracy 0.9850\n",
      "Epoch [6][20]\t Batch [250][550]\t Training Loss 0.0570\t Accuracy 0.9850\n",
      "Epoch [6][20]\t Batch [300][550]\t Training Loss 0.0568\t Accuracy 0.9854\n",
      "Epoch [6][20]\t Batch [350][550]\t Training Loss 0.0565\t Accuracy 0.9854\n",
      "Epoch [6][20]\t Batch [400][550]\t Training Loss 0.0564\t Accuracy 0.9853\n",
      "Epoch [6][20]\t Batch [450][550]\t Training Loss 0.0568\t Accuracy 0.9852\n",
      "Epoch [6][20]\t Batch [500][550]\t Training Loss 0.0580\t Accuracy 0.9846\n",
      "\n",
      "Epoch [6]\t Average training loss 0.0578\t Average training accuracy 0.9845\n",
      "Epoch [6]\t Average validation loss 0.0842\t Average validation accuracy 0.9754\n",
      "\n",
      "Epoch [7][20]\t Batch [0][550]\t Training Loss 0.0378\t Accuracy 0.9900\n",
      "Epoch [7][20]\t Batch [50][550]\t Training Loss 0.0475\t Accuracy 0.9876\n",
      "Epoch [7][20]\t Batch [100][550]\t Training Loss 0.0502\t Accuracy 0.9874\n",
      "Epoch [7][20]\t Batch [150][550]\t Training Loss 0.0505\t Accuracy 0.9872\n",
      "Epoch [7][20]\t Batch [200][550]\t Training Loss 0.0498\t Accuracy 0.9874\n",
      "Epoch [7][20]\t Batch [250][550]\t Training Loss 0.0485\t Accuracy 0.9875\n",
      "Epoch [7][20]\t Batch [300][550]\t Training Loss 0.0484\t Accuracy 0.9879\n",
      "Epoch [7][20]\t Batch [350][550]\t Training Loss 0.0483\t Accuracy 0.9877\n",
      "Epoch [7][20]\t Batch [400][550]\t Training Loss 0.0483\t Accuracy 0.9876\n",
      "Epoch [7][20]\t Batch [450][550]\t Training Loss 0.0486\t Accuracy 0.9875\n",
      "Epoch [7][20]\t Batch [500][550]\t Training Loss 0.0496\t Accuracy 0.9871\n",
      "\n",
      "Epoch [7]\t Average training loss 0.0494\t Average training accuracy 0.9871\n",
      "Epoch [7]\t Average validation loss 0.0826\t Average validation accuracy 0.9758\n",
      "\n",
      "Epoch [8][20]\t Batch [0][550]\t Training Loss 0.0304\t Accuracy 0.9900\n",
      "Epoch [8][20]\t Batch [50][550]\t Training Loss 0.0416\t Accuracy 0.9898\n",
      "Epoch [8][20]\t Batch [100][550]\t Training Loss 0.0438\t Accuracy 0.9897\n",
      "Epoch [8][20]\t Batch [150][550]\t Training Loss 0.0437\t Accuracy 0.9894\n",
      "Epoch [8][20]\t Batch [200][550]\t Training Loss 0.0429\t Accuracy 0.9896\n",
      "Epoch [8][20]\t Batch [250][550]\t Training Loss 0.0416\t Accuracy 0.9895\n",
      "Epoch [8][20]\t Batch [300][550]\t Training Loss 0.0415\t Accuracy 0.9898\n",
      "Epoch [8][20]\t Batch [350][550]\t Training Loss 0.0414\t Accuracy 0.9897\n",
      "Epoch [8][20]\t Batch [400][550]\t Training Loss 0.0415\t Accuracy 0.9896\n",
      "Epoch [8][20]\t Batch [450][550]\t Training Loss 0.0418\t Accuracy 0.9894\n",
      "Epoch [8][20]\t Batch [500][550]\t Training Loss 0.0426\t Accuracy 0.9892\n"
     ]
    },
    {
     "name": "stdout",
     "output_type": "stream",
     "text": [
      "\n",
      "Epoch [8]\t Average training loss 0.0424\t Average training accuracy 0.9893\n",
      "Epoch [8]\t Average validation loss 0.0819\t Average validation accuracy 0.9770\n",
      "\n",
      "Epoch [9][20]\t Batch [0][550]\t Training Loss 0.0250\t Accuracy 0.9900\n",
      "Epoch [9][20]\t Batch [50][550]\t Training Loss 0.0366\t Accuracy 0.9912\n",
      "Epoch [9][20]\t Batch [100][550]\t Training Loss 0.0384\t Accuracy 0.9909\n",
      "Epoch [9][20]\t Batch [150][550]\t Training Loss 0.0377\t Accuracy 0.9907\n",
      "Epoch [9][20]\t Batch [200][550]\t Training Loss 0.0369\t Accuracy 0.9909\n",
      "Epoch [9][20]\t Batch [250][550]\t Training Loss 0.0357\t Accuracy 0.9910\n",
      "Epoch [9][20]\t Batch [300][550]\t Training Loss 0.0357\t Accuracy 0.9913\n",
      "Epoch [9][20]\t Batch [350][550]\t Training Loss 0.0358\t Accuracy 0.9913\n",
      "Epoch [9][20]\t Batch [400][550]\t Training Loss 0.0359\t Accuracy 0.9913\n",
      "Epoch [9][20]\t Batch [450][550]\t Training Loss 0.0361\t Accuracy 0.9913\n",
      "Epoch [9][20]\t Batch [500][550]\t Training Loss 0.0368\t Accuracy 0.9912\n",
      "\n",
      "Epoch [9]\t Average training loss 0.0366\t Average training accuracy 0.9912\n",
      "Epoch [9]\t Average validation loss 0.0816\t Average validation accuracy 0.9772\n",
      "\n",
      "Epoch [10][20]\t Batch [0][550]\t Training Loss 0.0210\t Accuracy 0.9900\n",
      "Epoch [10][20]\t Batch [50][550]\t Training Loss 0.0323\t Accuracy 0.9924\n",
      "Epoch [10][20]\t Batch [100][550]\t Training Loss 0.0340\t Accuracy 0.9921\n",
      "Epoch [10][20]\t Batch [150][550]\t Training Loss 0.0327\t Accuracy 0.9922\n",
      "Epoch [10][20]\t Batch [200][550]\t Training Loss 0.0318\t Accuracy 0.9925\n",
      "Epoch [10][20]\t Batch [250][550]\t Training Loss 0.0307\t Accuracy 0.9927\n",
      "Epoch [10][20]\t Batch [300][550]\t Training Loss 0.0307\t Accuracy 0.9927\n",
      "Epoch [10][20]\t Batch [350][550]\t Training Loss 0.0308\t Accuracy 0.9928\n",
      "Epoch [10][20]\t Batch [400][550]\t Training Loss 0.0311\t Accuracy 0.9928\n",
      "Epoch [10][20]\t Batch [450][550]\t Training Loss 0.0312\t Accuracy 0.9928\n",
      "Epoch [10][20]\t Batch [500][550]\t Training Loss 0.0318\t Accuracy 0.9927\n",
      "\n",
      "Epoch [10]\t Average training loss 0.0315\t Average training accuracy 0.9926\n",
      "Epoch [10]\t Average validation loss 0.0813\t Average validation accuracy 0.9782\n",
      "\n",
      "Epoch [11][20]\t Batch [0][550]\t Training Loss 0.0186\t Accuracy 0.9900\n",
      "Epoch [11][20]\t Batch [50][550]\t Training Loss 0.0283\t Accuracy 0.9937\n",
      "Epoch [11][20]\t Batch [100][550]\t Training Loss 0.0299\t Accuracy 0.9933\n",
      "Epoch [11][20]\t Batch [150][550]\t Training Loss 0.0283\t Accuracy 0.9938\n",
      "Epoch [11][20]\t Batch [200][550]\t Training Loss 0.0274\t Accuracy 0.9940\n",
      "Epoch [11][20]\t Batch [250][550]\t Training Loss 0.0264\t Accuracy 0.9941\n",
      "Epoch [11][20]\t Batch [300][550]\t Training Loss 0.0264\t Accuracy 0.9941\n",
      "Epoch [11][20]\t Batch [350][550]\t Training Loss 0.0266\t Accuracy 0.9941\n",
      "Epoch [11][20]\t Batch [400][550]\t Training Loss 0.0268\t Accuracy 0.9941\n",
      "Epoch [11][20]\t Batch [450][550]\t Training Loss 0.0269\t Accuracy 0.9941\n",
      "Epoch [11][20]\t Batch [500][550]\t Training Loss 0.0273\t Accuracy 0.9941\n",
      "\n",
      "Epoch [11]\t Average training loss 0.0271\t Average training accuracy 0.9941\n",
      "Epoch [11]\t Average validation loss 0.0811\t Average validation accuracy 0.9794\n",
      "\n",
      "Epoch [12][20]\t Batch [0][550]\t Training Loss 0.0162\t Accuracy 0.9900\n",
      "Epoch [12][20]\t Batch [50][550]\t Training Loss 0.0248\t Accuracy 0.9943\n",
      "Epoch [12][20]\t Batch [100][550]\t Training Loss 0.0261\t Accuracy 0.9942\n",
      "Epoch [12][20]\t Batch [150][550]\t Training Loss 0.0244\t Accuracy 0.9949\n",
      "Epoch [12][20]\t Batch [200][550]\t Training Loss 0.0236\t Accuracy 0.9950\n",
      "Epoch [12][20]\t Batch [250][550]\t Training Loss 0.0227\t Accuracy 0.9953\n",
      "Epoch [12][20]\t Batch [300][550]\t Training Loss 0.0227\t Accuracy 0.9952\n",
      "Epoch [12][20]\t Batch [350][550]\t Training Loss 0.0229\t Accuracy 0.9952\n",
      "Epoch [12][20]\t Batch [400][550]\t Training Loss 0.0231\t Accuracy 0.9952\n",
      "Epoch [12][20]\t Batch [450][550]\t Training Loss 0.0231\t Accuracy 0.9952\n",
      "Epoch [12][20]\t Batch [500][550]\t Training Loss 0.0235\t Accuracy 0.9952\n",
      "\n",
      "Epoch [12]\t Average training loss 0.0233\t Average training accuracy 0.9952\n",
      "Epoch [12]\t Average validation loss 0.0812\t Average validation accuracy 0.9784\n",
      "\n",
      "Epoch [13][20]\t Batch [0][550]\t Training Loss 0.0137\t Accuracy 1.0000\n",
      "Epoch [13][20]\t Batch [50][550]\t Training Loss 0.0215\t Accuracy 0.9951\n",
      "Epoch [13][20]\t Batch [100][550]\t Training Loss 0.0228\t Accuracy 0.9951\n",
      "Epoch [13][20]\t Batch [150][550]\t Training Loss 0.0210\t Accuracy 0.9957\n",
      "Epoch [13][20]\t Batch [200][550]\t Training Loss 0.0204\t Accuracy 0.9957\n",
      "Epoch [13][20]\t Batch [250][550]\t Training Loss 0.0195\t Accuracy 0.9961\n",
      "Epoch [13][20]\t Batch [300][550]\t Training Loss 0.0195\t Accuracy 0.9960\n",
      "Epoch [13][20]\t Batch [350][550]\t Training Loss 0.0197\t Accuracy 0.9960\n",
      "Epoch [13][20]\t Batch [400][550]\t Training Loss 0.0200\t Accuracy 0.9961\n",
      "Epoch [13][20]\t Batch [450][550]\t Training Loss 0.0199\t Accuracy 0.9960\n",
      "Epoch [13][20]\t Batch [500][550]\t Training Loss 0.0202\t Accuracy 0.9960\n",
      "\n",
      "Epoch [13]\t Average training loss 0.0200\t Average training accuracy 0.9960\n",
      "Epoch [13]\t Average validation loss 0.0814\t Average validation accuracy 0.9796\n",
      "\n",
      "Epoch [14][20]\t Batch [0][550]\t Training Loss 0.0106\t Accuracy 1.0000\n",
      "Epoch [14][20]\t Batch [50][550]\t Training Loss 0.0188\t Accuracy 0.9961\n",
      "Epoch [14][20]\t Batch [100][550]\t Training Loss 0.0199\t Accuracy 0.9962\n",
      "Epoch [14][20]\t Batch [150][550]\t Training Loss 0.0182\t Accuracy 0.9966\n",
      "Epoch [14][20]\t Batch [200][550]\t Training Loss 0.0176\t Accuracy 0.9966\n",
      "Epoch [14][20]\t Batch [250][550]\t Training Loss 0.0169\t Accuracy 0.9968\n",
      "Epoch [14][20]\t Batch [300][550]\t Training Loss 0.0169\t Accuracy 0.9968\n",
      "Epoch [14][20]\t Batch [350][550]\t Training Loss 0.0170\t Accuracy 0.9968\n",
      "Epoch [14][20]\t Batch [400][550]\t Training Loss 0.0174\t Accuracy 0.9969\n",
      "Epoch [14][20]\t Batch [450][550]\t Training Loss 0.0172\t Accuracy 0.9969\n",
      "Epoch [14][20]\t Batch [500][550]\t Training Loss 0.0174\t Accuracy 0.9968\n",
      "\n",
      "Epoch [14]\t Average training loss 0.0172\t Average training accuracy 0.9969\n",
      "Epoch [14]\t Average validation loss 0.0819\t Average validation accuracy 0.9786\n",
      "\n",
      "Epoch [15][20]\t Batch [0][550]\t Training Loss 0.0091\t Accuracy 1.0000\n",
      "Epoch [15][20]\t Batch [50][550]\t Training Loss 0.0163\t Accuracy 0.9975\n",
      "Epoch [15][20]\t Batch [100][550]\t Training Loss 0.0173\t Accuracy 0.9971\n",
      "Epoch [15][20]\t Batch [150][550]\t Training Loss 0.0158\t Accuracy 0.9974\n",
      "Epoch [15][20]\t Batch [200][550]\t Training Loss 0.0153\t Accuracy 0.9974\n",
      "Epoch [15][20]\t Batch [250][550]\t Training Loss 0.0146\t Accuracy 0.9975\n",
      "Epoch [15][20]\t Batch [300][550]\t Training Loss 0.0146\t Accuracy 0.9974\n",
      "Epoch [15][20]\t Batch [350][550]\t Training Loss 0.0147\t Accuracy 0.9975\n",
      "Epoch [15][20]\t Batch [400][550]\t Training Loss 0.0150\t Accuracy 0.9975\n",
      "Epoch [15][20]\t Batch [450][550]\t Training Loss 0.0148\t Accuracy 0.9975\n",
      "Epoch [15][20]\t Batch [500][550]\t Training Loss 0.0150\t Accuracy 0.9974\n",
      "\n",
      "Epoch [15]\t Average training loss 0.0149\t Average training accuracy 0.9975\n",
      "Epoch [15]\t Average validation loss 0.0829\t Average validation accuracy 0.9792\n",
      "\n",
      "Epoch [16][20]\t Batch [0][550]\t Training Loss 0.0075\t Accuracy 1.0000\n",
      "Epoch [16][20]\t Batch [50][550]\t Training Loss 0.0140\t Accuracy 0.9976\n",
      "Epoch [16][20]\t Batch [100][550]\t Training Loss 0.0150\t Accuracy 0.9973\n",
      "Epoch [16][20]\t Batch [150][550]\t Training Loss 0.0137\t Accuracy 0.9978\n",
      "Epoch [16][20]\t Batch [200][550]\t Training Loss 0.0133\t Accuracy 0.9979\n",
      "Epoch [16][20]\t Batch [250][550]\t Training Loss 0.0127\t Accuracy 0.9980\n",
      "Epoch [16][20]\t Batch [300][550]\t Training Loss 0.0127\t Accuracy 0.9980\n",
      "Epoch [16][20]\t Batch [350][550]\t Training Loss 0.0127\t Accuracy 0.9981\n",
      "Epoch [16][20]\t Batch [400][550]\t Training Loss 0.0131\t Accuracy 0.9981\n",
      "Epoch [16][20]\t Batch [450][550]\t Training Loss 0.0129\t Accuracy 0.9981\n",
      "Epoch [16][20]\t Batch [500][550]\t Training Loss 0.0130\t Accuracy 0.9980\n",
      "\n",
      "Epoch [16]\t Average training loss 0.0128\t Average training accuracy 0.9981\n",
      "Epoch [16]\t Average validation loss 0.0832\t Average validation accuracy 0.9790\n",
      "\n",
      "Epoch [17][20]\t Batch [0][550]\t Training Loss 0.0062\t Accuracy 1.0000\n",
      "Epoch [17][20]\t Batch [50][550]\t Training Loss 0.0122\t Accuracy 0.9980\n",
      "Epoch [17][20]\t Batch [100][550]\t Training Loss 0.0131\t Accuracy 0.9980\n",
      "Epoch [17][20]\t Batch [150][550]\t Training Loss 0.0119\t Accuracy 0.9985\n",
      "Epoch [17][20]\t Batch [200][550]\t Training Loss 0.0115\t Accuracy 0.9985\n",
      "Epoch [17][20]\t Batch [250][550]\t Training Loss 0.0110\t Accuracy 0.9986\n",
      "Epoch [17][20]\t Batch [300][550]\t Training Loss 0.0110\t Accuracy 0.9986\n"
     ]
    },
    {
     "name": "stdout",
     "output_type": "stream",
     "text": [
      "Epoch [17][20]\t Batch [350][550]\t Training Loss 0.0111\t Accuracy 0.9986\n",
      "Epoch [17][20]\t Batch [400][550]\t Training Loss 0.0114\t Accuracy 0.9986\n",
      "Epoch [17][20]\t Batch [450][550]\t Training Loss 0.0112\t Accuracy 0.9986\n",
      "Epoch [17][20]\t Batch [500][550]\t Training Loss 0.0113\t Accuracy 0.9985\n",
      "\n",
      "Epoch [17]\t Average training loss 0.0111\t Average training accuracy 0.9985\n",
      "Epoch [17]\t Average validation loss 0.0840\t Average validation accuracy 0.9788\n",
      "\n",
      "Epoch [18][20]\t Batch [0][550]\t Training Loss 0.0052\t Accuracy 1.0000\n",
      "Epoch [18][20]\t Batch [50][550]\t Training Loss 0.0106\t Accuracy 0.9984\n",
      "Epoch [18][20]\t Batch [100][550]\t Training Loss 0.0115\t Accuracy 0.9985\n",
      "Epoch [18][20]\t Batch [150][550]\t Training Loss 0.0104\t Accuracy 0.9989\n",
      "Epoch [18][20]\t Batch [200][550]\t Training Loss 0.0101\t Accuracy 0.9989\n",
      "Epoch [18][20]\t Batch [250][550]\t Training Loss 0.0097\t Accuracy 0.9990\n",
      "Epoch [18][20]\t Batch [300][550]\t Training Loss 0.0096\t Accuracy 0.9990\n",
      "Epoch [18][20]\t Batch [350][550]\t Training Loss 0.0097\t Accuracy 0.9990\n",
      "Epoch [18][20]\t Batch [400][550]\t Training Loss 0.0100\t Accuracy 0.9989\n",
      "Epoch [18][20]\t Batch [450][550]\t Training Loss 0.0098\t Accuracy 0.9989\n",
      "Epoch [18][20]\t Batch [500][550]\t Training Loss 0.0098\t Accuracy 0.9989\n",
      "\n",
      "Epoch [18]\t Average training loss 0.0097\t Average training accuracy 0.9989\n",
      "Epoch [18]\t Average validation loss 0.0847\t Average validation accuracy 0.9792\n",
      "\n",
      "Epoch [19][20]\t Batch [0][550]\t Training Loss 0.0046\t Accuracy 1.0000\n",
      "Epoch [19][20]\t Batch [50][550]\t Training Loss 0.0091\t Accuracy 0.9992\n",
      "Epoch [19][20]\t Batch [100][550]\t Training Loss 0.0100\t Accuracy 0.9991\n",
      "Epoch [19][20]\t Batch [150][550]\t Training Loss 0.0090\t Accuracy 0.9993\n",
      "Epoch [19][20]\t Batch [200][550]\t Training Loss 0.0088\t Accuracy 0.9993\n",
      "Epoch [19][20]\t Batch [250][550]\t Training Loss 0.0084\t Accuracy 0.9994\n",
      "Epoch [19][20]\t Batch [300][550]\t Training Loss 0.0084\t Accuracy 0.9993\n",
      "Epoch [19][20]\t Batch [350][550]\t Training Loss 0.0084\t Accuracy 0.9993\n",
      "Epoch [19][20]\t Batch [400][550]\t Training Loss 0.0087\t Accuracy 0.9992\n",
      "Epoch [19][20]\t Batch [450][550]\t Training Loss 0.0085\t Accuracy 0.9993\n",
      "Epoch [19][20]\t Batch [500][550]\t Training Loss 0.0086\t Accuracy 0.9992\n",
      "\n",
      "Epoch [19]\t Average training loss 0.0085\t Average training accuracy 0.9992\n",
      "Epoch [19]\t Average validation loss 0.0853\t Average validation accuracy 0.9790\n",
      "\n"
     ]
    }
   ],
   "source": [
    "twoLayerMLP, tl_loss, tl_acc = train(twoLayerMLP, criterion, sgd, data_train, max_epoch, batch_size, disp_freq)"
   ]
  },
  {
   "cell_type": "code",
   "execution_count": 24,
   "metadata": {
    "pycharm": {
     "name": "#%%\n"
    }
   },
   "outputs": [
    {
     "name": "stdout",
     "output_type": "stream",
     "text": [
      "Testing...\n",
      "The test accuracy is 0.9776.\n",
      "\n"
     ]
    }
   ],
   "source": [
    "test(twoLayerMLP, criterion, data_test, batch_size, disp_freq)"
   ]
  },
  {
   "cell_type": "code",
   "execution_count": 25,
   "metadata": {
    "pycharm": {
     "name": "#%%\n"
    }
   },
   "outputs": [
    {
     "data": {
      "image/png": "[encoded data removed]",
      "text/plain": [
       "<Figure size 432x288 with 1 Axes>"
      ]
     },
     "metadata": {
      "needs_background": "light"
     },
     "output_type": "display_data"
    },
    {
     "data": {
      "image/png": "[encoded data removed]",
      "text/plain": [
       "<Figure size 432x288 with 1 Axes>"
      ]
     },
     "metadata": {
      "needs_background": "light"
     },
     "output_type": "display_data"
    }
   ],
   "source": [
    "plot_loss_and_acc({'2-layer': [tl_loss, tl_acc],\n",
    "                   'relu': [relu_loss, relu_acc],\n",
    "                   'Sigmoid': [sigmoid_loss, sigmoid_acc]})"
   ]
  },
  {
   "cell_type": "code",
   "execution_count": null,
   "metadata": {
    "pycharm": {
     "name": "#%%\n"
    }
   },
   "outputs": [],
   "source": []
  }
 ],
 "metadata": {
  "kernelspec": {
   "display_name": "Python 3 (ipykernel)",
   "language": "python",
   "name": "python3"
  },
  "language_info": {
   "codemirror_mode": {
    "name": "ipython",
    "version": 3
   },
   "file_extension": ".py",
   "mimetype": "text/x-python",
   "name": "python",
   "nbconvert_exporter": "python",
   "pygments_lexer": "ipython3",
   "version": "3.9.12"
  }
 },
 "nbformat": 4,
 "nbformat_minor": 2
}